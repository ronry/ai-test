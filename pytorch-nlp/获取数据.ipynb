{
 "cells": [
  {
   "cell_type": "markdown",
   "metadata": {},
   "source": [
    "# 安装依赖"
   ]
  },
  {
   "cell_type": "code",
   "execution_count": 30,
   "metadata": {},
   "outputs": [
    {
     "name": "stdout",
     "output_type": "stream",
     "text": [
      "Looking in indexes: https://pypi.tuna.tsinghua.edu.cn/simple\n",
      "Requirement already satisfied: tqdm in c:\\users\\sxwxs\\appdata\\local\\programs\\python\\python38-32\\lib\\site-packages (4.47.0)\n"
     ]
    },
    {
     "name": "stderr",
     "output_type": "stream",
     "text": [
      "WARNING: You are using pip version 20.1.1; however, version 20.2.1 is available.\n",
      "You should consider upgrading via the 'c:\\users\\sxwxs\\appdata\\local\\programs\\python\\python38-32\\python.exe -m pip install --upgrade pip' command.\n"
     ]
    }
   ],
   "source": [
    "!pip install tqdm requests bs4"
   ]
  },
  {
   "cell_type": "markdown",
   "metadata": {},
   "source": [
    "# 获取数据\n",
    "\n",
    "本代码把真实网址删掉了，无法直接运行。仅为示例，请直接使用该文件夹下已经下载，处理好的数据进行实验"
   ]
  },
  {
   "cell_type": "code",
   "execution_count": 2,
   "metadata": {},
   "outputs": [],
   "source": [
    "import requests\n",
    "from bs4 import BeautifulSoup\n",
    "import time\n",
    "from tqdm import tqdm"
   ]
  },
  {
   "cell_type": "code",
   "execution_count": 38,
   "metadata": {},
   "outputs": [
    {
     "name": "stderr",
     "output_type": "stream",
     "text": [
      "100%|██████████████████████████████████████████████████████████████████████████████████| 79/79 [00:12<00:00,  6.16it/s]\n",
      "100%|██████████████████████████████████████████████████████████████████████████████████| 79/79 [00:21<00:00,  3.66it/s]\n"
     ]
    }
   ],
   "source": [
    "fid = 735\n",
    "titles735 = []\n",
    "for pid in tqdm(range(1, 80)):\n",
    "    with open('oiegg/%d-%d.html' % (fid, pid), 'r', encoding='utf8') as f:\n",
    "        b = BeautifulSoup(f.read())\n",
    "    table = b.find('table', id='forum_%d' % fid)\n",
    "    trs = table.find_all('tr')\n",
    "    for tr in trs[1:]:\n",
    "        title = tr.find_all('a')[1].text\n",
    "        titles735.append(title)\n",
    "#     time.sleep(1)\n",
    "with open('%d.txt' % fid, 'w', encoding='utf8') as f:\n",
    "    for l in titles735:\n",
    "        f.write(l + '\\n')\n",
    "\n",
    "fid = 644\n",
    "titles644 = []\n",
    "for pid in tqdm(range(1, 80)):\n",
    "    with open('oiegg/%d-%d.html' % (fid, pid), 'r', encoding='utf8') as f:\n",
    "        b = BeautifulSoup(f.read())\n",
    "    b = BeautifulSoup(r.text)\n",
    "    table = b.find('table', id='forum_%d' % fid)\n",
    "    trs = table.find_all('tr')\n",
    "    for tr in trs[1:]:\n",
    "        title = tr.find_all('a')[1].text\n",
    "        titles644.append(title)\n",
    "#     time.sleep(1)\n",
    "with open('%d.txt' % fid, 'w', encoding='utf8') as f:\n",
    "    for l in titles644:\n",
    "        f.write(l + '\\n')"
   ]
  },
  {
   "cell_type": "code",
   "execution_count": 39,
   "metadata": {},
   "outputs": [
    {
     "name": "stdout",
     "output_type": "stream",
     "text": [
      "1572\n"
     ]
    }
   ],
   "source": [
    "academy_titles = titles644\n",
    "job_titles = titles735\n",
    "char_set = set()\n",
    "for title in academy_titles:\n",
    "    for ch in title:\n",
    "        char_set.add(ch)\n",
    "for title in job_titles:\n",
    "    for ch in title:\n",
    "        char_set.add(ch)\n",
    "print(len(char_set))"
   ]
  }
 ],
 "metadata": {
  "kernelspec": {
   "display_name": "Python 3",
   "language": "python",
   "name": "python3"
  },
  "language_info": {
   "codemirror_mode": {
    "name": "ipython",
    "version": 3
   },
   "file_extension": ".py",
   "mimetype": "text/x-python",
   "name": "python",
   "nbconvert_exporter": "python",
   "pygments_lexer": "ipython3",
   "version": "3.8.1"
  }
 },
 "nbformat": 4,
 "nbformat_minor": 4
}
