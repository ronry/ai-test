{
 "cells": [
  {
   "cell_type": "markdown",
   "metadata": {},
   "source": [
    "# 安装依赖"
   ]
  },
  {
   "cell_type": "code",
   "execution_count": null,
   "metadata": {},
   "outputs": [],
   "source": [
    "!pip install matplotlib"
   ]
  },
  {
   "cell_type": "markdown",
   "metadata": {},
   "source": [
    "## 显示出现次数最高的 100 个字"
   ]
  },
  {
   "cell_type": "code",
   "execution_count": null,
   "metadata": {},
   "outputs": [],
   "source": [
    "from collections import Counter  # Counter 可用来统计可迭代对象中，元素的数量\n",
    "f = open('从百草园到三味书屋.txt', encoding='utf8')  # encoding 要使用和这个文件对应的编码\n",
    "txt = f.read()  # 读取全部字符\n",
    "f.close()\n",
    "\n",
    "cnt = Counter(txt)  # 得到每个字符的出现次数\n",
    "char_list = []  # 定义空的列表\n",
    "for char in cnt:\n",
    "    if char in \"\\u3000\\n 。,:!！“?…”《》，；—（）-：？^~`[]|\":  # 过滤掉常见的标点和空白字符\n",
    "        continue\n",
    "    char_list.append([cnt[char], char])  # 把字符和字符出现的次数加入列表\n",
    "\n",
    "char_list.sort(reverse=True)  # 降序排序\n",
    "# 以下代码打印前100的字符和出现次数\n",
    "for char in char_list:\n",
    "    print(char[0], char[1])"
   ]
  },
  {
   "cell_type": "markdown",
   "metadata": {},
   "source": [
    "## 绘图"
   ]
  },
  {
   "cell_type": "code",
   "metadata": {
    "scrolled": true,
    "jupyter": {
     "is_executing": true
    },
    "ExecuteTime": {
     "start_time": "2025-01-27T04:18:13.180276Z"
    }
   },
   "source": [
    "# 以下代码使用 matplotlib 库绘制出现次数前100的字符出现次数分布图，安装库的方法见第二章\n",
    "from matplotlib import pyplot as plt\n",
    "x = []\n",
    "y = []\n",
    "for i, char_cnt in enumerate(char_list):\n",
    "    x.append(i)\n",
    "    y.append(char_cnt[0])\n",
    "plt.axis((0,100, 0, max(y)))\n",
    "plt.bar(x[:100], y[:100], width=1)\n",
    "plt.show()"
   ],
   "outputs": [
    {
     "name": "stderr",
     "output_type": "stream",
     "text": [
      "Matplotlib is building the font cache; this may take a moment.\n"
     ]
    }
   ],
   "execution_count": null
  },
  {
   "cell_type": "code",
   "execution_count": null,
   "metadata": {},
   "outputs": [],
   "source": []
  }
 ],
 "metadata": {
  "kernelspec": {
   "display_name": "Python 3",
   "language": "python",
   "name": "python3"
  },
  "language_info": {
   "codemirror_mode": {
    "name": "ipython",
    "version": 3
   },
   "file_extension": ".py",
   "mimetype": "text/x-python",
   "name": "python",
   "nbconvert_exporter": "python",
   "pygments_lexer": "ipython3",
   "version": "3.9.1"
  }
 },
 "nbformat": 4,
 "nbformat_minor": 4
}
