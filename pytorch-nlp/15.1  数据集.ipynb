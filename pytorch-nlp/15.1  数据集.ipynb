{
 "cells": [
  {
   "cell_type": "code",
   "execution_count": 1,
   "metadata": {
    "ExecuteTime": {
     "end_time": "2020-12-25T12:33:02.273017Z",
     "start_time": "2020-12-25T12:13:03.295618Z"
    }
   },
   "outputs": [
    {
     "name": "stdout",
     "output_type": "stream",
     "text": [
      "Cloning into 'chinese-poetry'...\n",
      "remote: Enumerating objects: 10, done.\u001b[K\n",
      "remote: Counting objects: 100% (10/10), done.\u001b[K\n",
      "remote: Compressing objects: 100% (8/8), done.\u001b[K\n",
      "remote: Total 5801 (delta 1), reused 3 (delta 1), pack-reused 5791\u001b[K\n",
      "Receiving objects: 100% (5801/5801), 186.29 MiB | 300.00 KiB/s, done.\n",
      "Resolving deltas: 100% (4502/4502), done.\n",
      "Checking out files: 100% (1372/1372), done.\n"
     ]
    }
   ],
   "source": [
    "!git clone https://github.com/chinese-poetry/chinese-poetry"
   ]
  },
  {
   "cell_type": "code",
   "execution_count": 1,
   "metadata": {
    "ExecuteTime": {
     "end_time": "2020-12-25T21:49:31.269188Z",
     "start_time": "2020-12-25T21:49:31.253094Z"
    }
   },
   "outputs": [],
   "source": [
    "import json\n",
    "f = open('chinese-poetry/json/poet.tang.0.json', encoding='utf8')\n",
    "data = json.load(f)"
   ]
  },
  {
   "cell_type": "code",
   "execution_count": 2,
   "metadata": {
    "ExecuteTime": {
     "end_time": "2020-12-25T21:49:31.591541Z",
     "start_time": "2020-12-25T21:49:31.587011Z"
    }
   },
   "outputs": [
    {
     "name": "stdout",
     "output_type": "stream",
     "text": [
      "<class 'list'> 1000\n"
     ]
    }
   ],
   "source": [
    "print(type(data), len(data))"
   ]
  },
  {
   "cell_type": "code",
   "execution_count": 3,
   "metadata": {
    "ExecuteTime": {
     "end_time": "2020-12-25T21:49:31.871199Z",
     "start_time": "2020-12-25T21:49:31.866963Z"
    }
   },
   "outputs": [
    {
     "name": "stdout",
     "output_type": "stream",
     "text": [
      "{'author': '太宗皇帝', 'paragraphs': ['秦川雄帝宅，函谷壯皇居。', '綺殿千尋起，離宮百雉餘。', '連甍遙接漢，飛觀迥凌虛。', '雲日隱層闕，風煙出綺疎。'], 'title': '帝京篇十首 一', 'id': '3ad6d468-7ff1-4a7b-8b24-a27d70d00ed4'}\n"
     ]
    }
   ],
   "source": [
    "print(data[0])"
   ]
  },
  {
   "cell_type": "code",
   "execution_count": 4,
   "metadata": {
    "ExecuteTime": {
     "end_time": "2020-12-25T21:49:32.242899Z",
     "start_time": "2020-12-25T21:49:32.229164Z"
    }
   },
   "outputs": [],
   "source": [
    "f2j = {}\n",
    "with open('fanjian_suoyin.txt', encoding='utf8') as ffj:\n",
    "    for l in ffj:\n",
    "        fan, jian = l.strip().split('\\t')\n",
    "        f2j[fan] = jian"
   ]
  },
  {
   "cell_type": "code",
   "execution_count": 5,
   "metadata": {
    "ExecuteTime": {
     "end_time": "2020-12-25T21:49:32.623148Z",
     "start_time": "2020-12-25T21:49:32.619942Z"
    }
   },
   "outputs": [],
   "source": [
    "def f2jconv(fan):\n",
    "    ls = []\n",
    "    for ch in fan:\n",
    "        if ch not in f2j:\n",
    "            ls.append(ch)\n",
    "#             print('not found', ch)\n",
    "            continue\n",
    "        ls.append(f2j[ch])\n",
    "    return ''.join(ls)"
   ]
  },
  {
   "cell_type": "code",
   "execution_count": 6,
   "metadata": {
    "ExecuteTime": {
     "end_time": "2020-12-25T21:49:33.066008Z",
     "start_time": "2020-12-25T21:49:33.062084Z"
    }
   },
   "outputs": [
    {
     "name": "stdout",
     "output_type": "stream",
     "text": [
      "秦川雄帝宅，函谷壯皇居。綺殿千尋起，離宮百雉餘。連甍遙接漢，飛觀迥凌虛。雲日隱層闕，風煙出綺疎。\n",
      "秦川雄帝宅，函谷壮皇居。绮殿千寻起，离宫百雉馀。连甍遥接汉，飞观迥凌虚。云日隐层阙，风烟出绮疎。\n"
     ]
    }
   ],
   "source": [
    "print(''.join(data[0]['paragraphs']))\n",
    "print(f2jconv(''.join(data[0]['paragraphs'])))"
   ]
  },
  {
   "cell_type": "code",
   "execution_count": 7,
   "metadata": {
    "ExecuteTime": {
     "end_time": "2020-12-25T21:49:33.421433Z",
     "start_time": "2020-12-25T21:49:33.418910Z"
    }
   },
   "outputs": [],
   "source": [
    "import os\n",
    "path = 'chinese-poetry/json/'\n",
    "f_list = os.listdir(path)"
   ]
  },
  {
   "cell_type": "code",
   "execution_count": 8,
   "metadata": {
    "ExecuteTime": {
     "end_time": "2020-12-25T21:49:38.514261Z",
     "start_time": "2020-12-25T21:49:33.819636Z"
    }
   },
   "outputs": [],
   "source": [
    "import json\n",
    "tang = []\n",
    "for f in f_list:\n",
    "    if f.startswith('poet.tang.'):\n",
    "        with open(path + f, encoding='utf8') as f:\n",
    "            d = json.load(f)\n",
    "        for p in d:\n",
    "            for line in p['paragraphs']:\n",
    "                tang.append(f2jconv(line))\n",
    "song = []\n",
    "for f in f_list:\n",
    "    if f.startswith('poet.song.'):\n",
    "        with open(path + f, encoding='utf8') as f:\n",
    "            d = json.load(f)\n",
    "        for p in d:\n",
    "            for line in p['paragraphs']:\n",
    "                song.append(f2jconv(line))"
   ]
  },
  {
   "cell_type": "code",
   "execution_count": 9,
   "metadata": {
    "ExecuteTime": {
     "end_time": "2020-12-25T21:49:38.521264Z",
     "start_time": "2020-12-25T21:49:38.515413Z"
    }
   },
   "outputs": [
    {
     "data": {
      "text/plain": [
       "(267697, 1099146)"
      ]
     },
     "execution_count": 9,
     "metadata": {},
     "output_type": "execute_result"
    }
   ],
   "source": [
    "len(tang), len(song)"
   ]
  },
  {
   "cell_type": "code",
   "execution_count": 10,
   "metadata": {
    "ExecuteTime": {
     "end_time": "2020-12-25T21:49:38.633175Z",
     "start_time": "2020-12-25T21:49:38.522525Z"
    }
   },
   "outputs": [
    {
     "name": "stdout",
     "output_type": "stream",
     "text": [
      "['白狐向月号山风，秋寒扫云留碧空。', '玉烟青湿白如幢，银湾晓转流天东。', '溪汀眠鹭梦征鸿，轻涟不语细游溶。', '层岫回岑复叠龙，苦篁对客吟歌筒。', '官不来，官庭秋，老桐错干青龙愁。'] ['豪气人言苦不除，固应屏迹向江湖。', '封侯万里独心在，糊口四方何事无。', '薄俗更堪开眼看，老翁宁办折腰趋。', '鼠肝虫臂今无择，付与干坤造化炉。', '白首逢人只累欷，今虽未是昨真非。']\n"
     ]
    }
   ],
   "source": [
    "print(tang[:5], song[:5])"
   ]
  },
  {
   "cell_type": "code",
   "execution_count": 11,
   "metadata": {
    "ExecuteTime": {
     "end_time": "2020-12-25T21:49:38.971848Z",
     "start_time": "2020-12-25T21:49:38.634637Z"
    }
   },
   "outputs": [],
   "source": [
    "def split_sentence(sentence_list):\n",
    "    result = []\n",
    "    errs = []\n",
    "    for s in sentence_list:\n",
    "        if not s:\n",
    "            continue\n",
    "        if s[-1] not in '，。':\n",
    "            errs.append(s)\n",
    "            continue\n",
    "        if '，' not in s:\n",
    "            if '？' not in s:\n",
    "                errs.append(s)\n",
    "                continue\n",
    "            else:\n",
    "                try:\n",
    "                    s1, s2 = s[:-1].split('？')\n",
    "                except ValueError:\n",
    "                    errs.append(s)\n",
    "                    continue\n",
    "        else:\n",
    "            try:\n",
    "                s1, s2 = s[:-1].split('，')\n",
    "            except ValueError:\n",
    "                errs.append(s)\n",
    "                continue\n",
    "        if len(s1) != len(s2):\n",
    "            errs.append(s)\n",
    "            continue\n",
    "        result.append([s1, s2])\n",
    "    return result, errs"
   ]
  },
  {
   "cell_type": "code",
   "execution_count": 12,
   "metadata": {
    "ExecuteTime": {
     "end_time": "2020-12-25T21:49:39.387983Z",
     "start_time": "2020-12-25T21:49:38.974186Z"
    }
   },
   "outputs": [],
   "source": [
    "r, e = split_sentence(tang)"
   ]
  },
  {
   "cell_type": "code",
   "execution_count": 13,
   "metadata": {
    "ExecuteTime": {
     "end_time": "2020-12-25T21:49:40.537294Z",
     "start_time": "2020-12-25T21:49:39.389058Z"
    }
   },
   "outputs": [],
   "source": [
    "r2, e2 = split_sentence(song)"
   ]
  },
  {
   "cell_type": "code",
   "execution_count": 14,
   "metadata": {
    "ExecuteTime": {
     "end_time": "2020-12-25T21:49:40.540924Z",
     "start_time": "2020-12-25T21:49:40.538337Z"
    }
   },
   "outputs": [
    {
     "name": "stdout",
     "output_type": "stream",
     "text": [
      "1078714 20430\n"
     ]
    }
   ],
   "source": [
    "print(len(r2), len(e2))"
   ]
  },
  {
   "cell_type": "code",
   "execution_count": 15,
   "metadata": {
    "ExecuteTime": {
     "end_time": "2020-12-25T21:49:40.666873Z",
     "start_time": "2020-12-25T21:49:40.542810Z"
    }
   },
   "outputs": [
    {
     "name": "stdout",
     "output_type": "stream",
     "text": [
      "['回首功名一梦中。', '横埭北，断桥南，侧起船篷便作帆。', '拈棹舞，拥蓑眠，不作天仙作水仙。', '云散后，月斜时，潮落舟横醉不知。', '烟艇小，钓车腥，遥指梅山一点青。', '妾命薄，早入天家侍帷幄。', '君不见昔时东都宗大尹，义感百万虎与狼。', '不如醉笔扫青嶂，入石一寸豪健惊天公。', '新凉社酒家家熟便，用阳狂了此生。', '呜呼束云作笔兮海为砚，激水上腾龙野战。']\n"
     ]
    }
   ],
   "source": [
    "print(e2[:10])"
   ]
  },
  {
   "cell_type": "code",
   "execution_count": 16,
   "metadata": {
    "ExecuteTime": {
     "end_time": "2020-12-25T21:49:40.799811Z",
     "start_time": "2020-12-25T21:49:40.668647Z"
    }
   },
   "outputs": [],
   "source": [
    "import collections\n",
    "def static_tf(s_list):\n",
    "    wd = collections.Counter()\n",
    "    for w in s_list:\n",
    "        for x in w:\n",
    "            for ch in x:\n",
    "                wd[ch] += 1\n",
    "    return wd"
   ]
  },
  {
   "cell_type": "code",
   "execution_count": 17,
   "metadata": {
    "ExecuteTime": {
     "end_time": "2020-12-25T21:49:41.554080Z",
     "start_time": "2020-12-25T21:49:40.801974Z"
    }
   },
   "outputs": [
    {
     "name": "stdout",
     "output_type": "stream",
     "text": [
      "8116\n"
     ]
    }
   ],
   "source": [
    "wd = static_tf(r)\n",
    "print(len(wd))"
   ]
  },
  {
   "cell_type": "code",
   "execution_count": 18,
   "metadata": {
    "ExecuteTime": {
     "end_time": "2020-12-25T21:49:41.558258Z",
     "start_time": "2020-12-25T21:49:41.555406Z"
    }
   },
   "outputs": [
    {
     "name": "stdout",
     "output_type": "stream",
     "text": [
      "8116\n"
     ]
    }
   ],
   "source": [
    "print(len(wd))"
   ]
  },
  {
   "cell_type": "code",
   "execution_count": 19,
   "metadata": {
    "ExecuteTime": {
     "end_time": "2020-12-25T21:49:41.667857Z",
     "start_time": "2020-12-25T21:49:41.559439Z"
    }
   },
   "outputs": [],
   "source": [
    "wlist = list(wd.items())"
   ]
  },
  {
   "cell_type": "code",
   "execution_count": 20,
   "metadata": {
    "ExecuteTime": {
     "end_time": "2020-12-25T21:49:41.783875Z",
     "start_time": "2020-12-25T21:49:41.669929Z"
    }
   },
   "outputs": [
    {
     "data": {
      "text/plain": [
       "[('篖', 1),\n",
       " ('𩝊', 1),\n",
       " ('𩸃', 1),\n",
       " ('葌', 1),\n",
       " ('溲', 1),\n",
       " ('㰂', 1),\n",
       " ('𦼮', 1),\n",
       " ('鳆', 1),\n",
       " ('踥', 1),\n",
       " ('𨴋', 1),\n",
       " ('𥱧', 1),\n",
       " ('辏', 1),\n",
       " ('𥜥', 1),\n",
       " ('蓏', 1),\n",
       " ('鼾', 1),\n",
       " ('疃', 1),\n",
       " ('篓', 1),\n",
       " ('蜞', 1),\n",
       " ('蝤', 1),\n",
       " ('𦫢', 1)]"
      ]
     },
     "execution_count": 20,
     "metadata": {},
     "output_type": "execute_result"
    }
   ],
   "source": [
    "wlist = list(wd.items())\n",
    "wlist.sort(key=lambda x:-x[1])\n",
    "wlist[-20:]"
   ]
  },
  {
   "cell_type": "code",
   "execution_count": 21,
   "metadata": {
    "ExecuteTime": {
     "end_time": "2020-12-25T21:49:41.924707Z",
     "start_time": "2020-12-25T21:49:41.785911Z"
    }
   },
   "outputs": [
    {
     "name": "stdout",
     "output_type": "stream",
     "text": [
      "1 1287 15.86%\n",
      "2 561 6.91%\n",
      "3 337 4.15%\n",
      "4 255 3.14%\n",
      "5 210 2.59%\n",
      "6 155 1.91%\n",
      "7 111 1.37%\n",
      "8 138 1.70%\n",
      "9 112 1.38%\n",
      "10 93 1.15%\n",
      "11 95 1.17%\n",
      "12 91 1.12%\n",
      "13 88 1.08%\n",
      "14 67 0.83%\n"
     ]
    }
   ],
   "source": [
    "for i in range(1, 15):\n",
    "    c = 0\n",
    "    for k in wd:\n",
    "        if wd[k] == i:\n",
    "            c += 1\n",
    "    print(i, c, '%.2f%%' % (c/len(wd)*100))"
   ]
  },
  {
   "cell_type": "code",
   "execution_count": 22,
   "metadata": {
    "ExecuteTime": {
     "end_time": "2020-12-25T21:49:42.060912Z",
     "start_time": "2020-12-25T21:49:41.926070Z"
    }
   },
   "outputs": [],
   "source": [
    "import collections\n",
    "from tqdm import tqdm\n",
    "def static_tf(s_list):\n",
    "    wd = collections.Counter()\n",
    "    for w in s_list:\n",
    "        for x in w:\n",
    "            for ch in x:\n",
    "                wd[ch] += 1\n",
    "    return wd\n",
    "def remove_low_freq_wd(r, cnt=10):\n",
    "    wd = static_tf(r)\n",
    "    char2remove = []\n",
    "    for k in wd:\n",
    "        if wd[k] < cnt:\n",
    "            char2remove.append(k)\n",
    "    print('要删除的字符数：', len(char2remove))\n",
    "    new_r = []\n",
    "    for s in tqdm(r):\n",
    "        f = True\n",
    "        for ch in char2remove:\n",
    "            if ch in s[0] or ch in s[1]:\n",
    "                f = False\n",
    "                break\n",
    "        if f:\n",
    "            new_r.append(s)\n",
    "    print(c / len(r))\n",
    "    return new_r"
   ]
  },
  {
   "cell_type": "code",
   "execution_count": 23,
   "metadata": {
    "ExecuteTime": {
     "end_time": "2020-12-25T21:50:52.328195Z",
     "start_time": "2020-12-25T21:49:42.062336Z"
    }
   },
   "outputs": [
    {
     "name": "stderr",
     "output_type": "stream",
     "text": [
      "  0%|          | 409/245105 [00:00<00:59, 4079.97it/s]"
     ]
    },
    {
     "name": "stdout",
     "output_type": "stream",
     "text": [
      "要删除的字符数： 3166\n"
     ]
    },
    {
     "name": "stderr",
     "output_type": "stream",
     "text": [
      "100%|██████████| 245105/245105 [01:09<00:00, 3526.52it/s]"
     ]
    },
    {
     "name": "stdout",
     "output_type": "stream",
     "text": [
      "0.000273352236796475\n"
     ]
    },
    {
     "name": "stderr",
     "output_type": "stream",
     "text": [
      "\n"
     ]
    }
   ],
   "source": [
    "new_r = remove_low_freq_wd(r)"
   ]
  },
  {
   "cell_type": "code",
   "execution_count": 24,
   "metadata": {
    "ExecuteTime": {
     "end_time": "2020-12-25T21:50:52.331339Z",
     "start_time": "2020-12-25T21:50:52.329146Z"
    }
   },
   "outputs": [
    {
     "data": {
      "text/plain": [
       "237159"
      ]
     },
     "execution_count": 24,
     "metadata": {},
     "output_type": "execute_result"
    }
   ],
   "source": [
    "len(new_r)"
   ]
  },
  {
   "cell_type": "code",
   "execution_count": 25,
   "metadata": {
    "ExecuteTime": {
     "end_time": "2020-12-25T21:50:52.809695Z",
     "start_time": "2020-12-25T21:50:52.332151Z"
    }
   },
   "outputs": [],
   "source": [
    "w2id = {'<unk>': 0}\n",
    "id2w = ['<unk>']\n",
    "i = 1\n",
    "for s in new_r:\n",
    "    for x in s:\n",
    "        for ch in x:\n",
    "            if ch not in w2id:\n",
    "                w2id[ch] = i\n",
    "                i += 1\n",
    "                id2w.append(ch)"
   ]
  },
  {
   "cell_type": "code",
   "execution_count": 59,
   "metadata": {
    "ExecuteTime": {
     "end_time": "2020-12-25T22:31:43.631741Z",
     "start_time": "2020-12-25T22:31:43.599451Z"
    }
   },
   "outputs": [],
   "source": [
    "with open('w2id.json', 'w') as f:\n",
    "    json.dump(w2id, f)\n",
    "with open('id2w.json', 'w') as f:\n",
    "    json.dump(id2w, f)"
   ]
  },
  {
   "cell_type": "code",
   "execution_count": 60,
   "metadata": {
    "ExecuteTime": {
     "end_time": "2020-12-25T22:32:38.850853Z",
     "start_time": "2020-12-25T22:32:38.206966Z"
    }
   },
   "outputs": [
    {
     "name": "stderr",
     "output_type": "stream",
     "text": [
      "100%|██████████| 237159/237159 [00:00<00:00, 372138.23it/s]\n"
     ]
    }
   ],
   "source": [
    "with open('data_splited.jl', 'w') as f:\n",
    "    for l in tqdm(new_r):\n",
    "        f.write(json.dumps(l) + '\\n')"
   ]
  },
  {
   "cell_type": "code",
   "execution_count": 26,
   "metadata": {
    "ExecuteTime": {
     "end_time": "2020-12-25T21:50:52.814433Z",
     "start_time": "2020-12-25T21:50:52.811603Z"
    }
   },
   "outputs": [
    {
     "name": "stdout",
     "output_type": "stream",
     "text": [
      "4949\n"
     ]
    }
   ],
   "source": [
    "print(len(w2id))"
   ]
  },
  {
   "cell_type": "markdown",
   "metadata": {},
   "source": [
    "# Dataset 和 Dataloader"
   ]
  },
  {
   "cell_type": "markdown",
   "metadata": {},
   "source": [
    "## 切分训练集和测试集"
   ]
  },
  {
   "cell_type": "code",
   "execution_count": 27,
   "metadata": {
    "ExecuteTime": {
     "end_time": "2020-12-25T21:50:53.380502Z",
     "start_time": "2020-12-25T21:50:52.815625Z"
    }
   },
   "outputs": [],
   "source": [
    "from sklearn.model_selection import train_test_split\n",
    "\n",
    "train_list, dev_list = train_test_split(new_r,test_size=0.3,random_state=15,shuffle=True)"
   ]
  },
  {
   "cell_type": "markdown",
   "metadata": {},
   "source": [
    "## Dataset"
   ]
  },
  {
   "cell_type": "code",
   "execution_count": 28,
   "metadata": {
    "ExecuteTime": {
     "end_time": "2020-12-25T21:50:53.567163Z",
     "start_time": "2020-12-25T21:50:53.391310Z"
    }
   },
   "outputs": [],
   "source": [
    "import torch\n",
    "class MyDataSet(torch.utils.data.Dataset):\n",
    "    def __init__(self, examples):\n",
    "        self.examples = examples\n",
    "    def __len__(self):\n",
    "        return len(self.examples)\n",
    "    def __getitem__(self, index):\n",
    "        example = self.examples[index]\n",
    "        s1 = example[0]\n",
    "        s2 = example[1]\n",
    "        length = len(s1)\n",
    "        return s1, s2, length, index"
   ]
  },
  {
   "cell_type": "code",
   "execution_count": 29,
   "metadata": {
    "ExecuteTime": {
     "end_time": "2020-12-25T21:50:53.573512Z",
     "start_time": "2020-12-25T21:50:53.568157Z"
    }
   },
   "outputs": [],
   "source": [
    "def str2id(s):\n",
    "    ids = []\n",
    "    for ch in s:\n",
    "        if ch in w2id:\n",
    "            ids.append(w2id[ch])\n",
    "        else:\n",
    "            ids.append(0)\n",
    "    return ids\n",
    "\n",
    "def the_collate_fn(batch):\n",
    "    lengths = [b[2] for b in batch]\n",
    "    max_length = max(lengths)\n",
    "    s1x = []\n",
    "    s2x = []\n",
    "    for b in batch:\n",
    "        s1 = str2id(b[0])\n",
    "        s2 = str2id(b[1])\n",
    "        s1x.append(s1 + ([0] * (max_length - len(s1))))\n",
    "        s2x.append(s2 + ([0] * (max_length - len(s2))))  \n",
    "    indexs = [b[3] for b in batch]\n",
    "    s1 = torch.LongTensor(s1x)\n",
    "    s2 = torch.LongTensor(s2x)\n",
    "    return s1,s2, lengths, indexs"
   ]
  },
  {
   "cell_type": "code",
   "execution_count": 30,
   "metadata": {
    "ExecuteTime": {
     "end_time": "2020-12-25T21:50:53.706402Z",
     "start_time": "2020-12-25T21:50:53.574452Z"
    }
   },
   "outputs": [],
   "source": [
    "batch_size = 128\n",
    "data_workers = 8\n",
    "train_dataset = MyDataSet(train_list)\n",
    "train_data_loader = torch.utils.data.DataLoader(\n",
    "    train_dataset,\n",
    "    batch_size=batch_size,\n",
    "    shuffle = True,\n",
    "    num_workers=data_workers,\n",
    "    collate_fn=the_collate_fn,\n",
    ")\n",
    "dev_dataset = MyDataSet(dev_list)\n",
    "dev_data_loader = torch.utils.data.DataLoader(\n",
    "    dev_dataset,\n",
    "    batch_size=batch_size,\n",
    "    shuffle = False,\n",
    "    num_workers=data_workers,\n",
    "    collate_fn=the_collate_fn,\n",
    ")"
   ]
  },
  {
   "cell_type": "markdown",
   "metadata": {},
   "source": [
    "# LSTM模型"
   ]
  },
  {
   "cell_type": "code",
   "execution_count": 31,
   "metadata": {
    "ExecuteTime": {
     "end_time": "2020-12-25T21:50:53.814179Z",
     "start_time": "2020-12-25T21:50:53.707345Z"
    }
   },
   "outputs": [],
   "source": [
    "import torch.nn as nn\n",
    "import torch.nn.functional as F\n",
    "class LSTMModel(nn.Module):\n",
    "    def __init__(self, device, word_size, embedding_dim=256, hidden_dim=256):\n",
    "        super(LSTMModel, self).__init__()\n",
    "        self.hidden_dim = hidden_dim\n",
    "        self.device = device\n",
    "        self.embedding = nn.Embedding(word_size, embedding_dim)\n",
    "        self.lstm = nn.LSTM(embedding_dim, hidden_dim, num_layers=3, bidirectional=True, batch_first=True)\n",
    "        self.out = nn.Linear(hidden_dim*2, word_size)\n",
    "        \n",
    "    def forward(self, s1, lengths, s2=None):\n",
    "        batch_size = s1.shape[0]\n",
    "        b = self.embedding(s1)\n",
    "        l = self.lstm(b)[0]\n",
    "        r = self.out(l)\n",
    "        r = F.log_softmax(r, dim=1)\n",
    "        if s2 is not None:\n",
    "            loss = 0\n",
    "            criterion = nn.NLLLoss()\n",
    "            for i in range(batch_size):\n",
    "                length = lengths[i]\n",
    "                loss += criterion(r[i][:length], s2[i][:length])\n",
    "            return loss\n",
    "        return r"
   ]
  },
  {
   "cell_type": "code",
   "execution_count": 32,
   "metadata": {
    "ExecuteTime": {
     "end_time": "2020-12-25T21:50:55.778611Z",
     "start_time": "2020-12-25T21:50:53.816273Z"
    }
   },
   "outputs": [
    {
     "data": {
      "text/plain": [
       "LSTMModel(\n",
       "  (embedding): Embedding(4949, 256)\n",
       "  (lstm): LSTM(256, 256, num_layers=3, batch_first=True, bidirectional=True)\n",
       "  (out): Linear(in_features=512, out_features=4949, bias=True)\n",
       ")"
      ]
     },
     "execution_count": 32,
     "metadata": {},
     "output_type": "execute_result"
    }
   ],
   "source": [
    "device = torch.device('cuda')\n",
    "model = LSTMModel(device, len(w2id))\n",
    "model.to(device)"
   ]
  },
  {
   "cell_type": "code",
   "execution_count": 33,
   "metadata": {
    "ExecuteTime": {
     "end_time": "2020-12-25T22:11:49.257517Z",
     "start_time": "2020-12-25T21:50:55.779622Z"
    }
   },
   "outputs": [
    {
     "name": "stderr",
     "output_type": "stream",
     "text": [
      "\r",
      "  0%|          | 0/1297 [00:00<?, ?it/s]"
     ]
    },
    {
     "name": "stdout",
     "output_type": "stream",
     "text": [
      "0\n"
     ]
    },
    {
     "name": "stderr",
     "output_type": "stream",
     "text": [
      "100%|██████████| 1297/1297 [02:04<00:00, 10.40it/s]\n",
      "  0%|          | 0/1297 [00:00<?, ?it/s]"
     ]
    },
    {
     "name": "stdout",
     "output_type": "stream",
     "text": [
      "571.2305703968292\n",
      "1\n"
     ]
    },
    {
     "name": "stderr",
     "output_type": "stream",
     "text": [
      "100%|██████████| 1297/1297 [02:03<00:00, 10.49it/s]\n",
      "  0%|          | 0/1297 [00:00<?, ?it/s]"
     ]
    },
    {
     "name": "stdout",
     "output_type": "stream",
     "text": [
      "1392.4845761289575\n",
      "2\n"
     ]
    },
    {
     "name": "stderr",
     "output_type": "stream",
     "text": [
      "100%|██████████| 1297/1297 [02:08<00:00, 10.10it/s]\n",
      "  0%|          | 0/1297 [00:00<?, ?it/s]"
     ]
    },
    {
     "name": "stdout",
     "output_type": "stream",
     "text": [
      "2175.1870414598593\n",
      "3\n"
     ]
    },
    {
     "name": "stderr",
     "output_type": "stream",
     "text": [
      "100%|██████████| 1297/1297 [02:07<00:00, 10.15it/s]\n",
      "  0%|          | 0/1297 [00:00<?, ?it/s]"
     ]
    },
    {
     "name": "stdout",
     "output_type": "stream",
     "text": [
      "2983.764252861923\n",
      "4\n"
     ]
    },
    {
     "name": "stderr",
     "output_type": "stream",
     "text": [
      "100%|██████████| 1297/1297 [01:58<00:00, 10.93it/s]\n",
      "  0%|          | 0/1297 [00:00<?, ?it/s]"
     ]
    },
    {
     "name": "stdout",
     "output_type": "stream",
     "text": [
      "3904.400254342955\n",
      "5\n"
     ]
    },
    {
     "name": "stderr",
     "output_type": "stream",
     "text": [
      "100%|██████████| 1297/1297 [02:04<00:00, 10.43it/s]\n",
      "  0%|          | 0/1297 [00:00<?, ?it/s]"
     ]
    },
    {
     "name": "stdout",
     "output_type": "stream",
     "text": [
      "4799.381533444066\n",
      "6\n"
     ]
    },
    {
     "name": "stderr",
     "output_type": "stream",
     "text": [
      "100%|██████████| 1297/1297 [02:08<00:00, 10.11it/s]\n",
      "  0%|          | 0/1297 [00:00<?, ?it/s]"
     ]
    },
    {
     "name": "stdout",
     "output_type": "stream",
     "text": [
      "5693.446036451306\n",
      "7\n"
     ]
    },
    {
     "name": "stderr",
     "output_type": "stream",
     "text": [
      "100%|██████████| 1297/1297 [02:06<00:00, 10.25it/s]\n",
      "  0%|          | 0/1297 [00:00<?, ?it/s]"
     ]
    },
    {
     "name": "stdout",
     "output_type": "stream",
     "text": [
      "6803.071692826294\n",
      "8\n"
     ]
    },
    {
     "name": "stderr",
     "output_type": "stream",
     "text": [
      "100%|██████████| 1297/1297 [02:09<00:00, 10.05it/s]\n",
      "  0%|          | 0/1297 [00:00<?, ?it/s]"
     ]
    },
    {
     "name": "stdout",
     "output_type": "stream",
     "text": [
      "7606.016072246049\n",
      "9\n"
     ]
    },
    {
     "name": "stderr",
     "output_type": "stream",
     "text": [
      "100%|██████████| 1297/1297 [02:02<00:00, 10.61it/s]"
     ]
    },
    {
     "name": "stdout",
     "output_type": "stream",
     "text": [
      "8336.41758098617\n"
     ]
    },
    {
     "name": "stderr",
     "output_type": "stream",
     "text": [
      "\n"
     ]
    }
   ],
   "source": [
    "import torch.optim as optim\n",
    "learning_rate = 0.2\n",
    "optimizer = optim.SGD(model.parameters(), lr=learning_rate)\n",
    "for e in range(10):\n",
    "    print(e)\n",
    "    loss_sum = 0\n",
    "    c = 0\n",
    "    for batch in tqdm(train_data_loader):\n",
    "        s1, s2, lengths, index = batch\n",
    "        s1 = s1.to(device)\n",
    "        s2 = s2.to(device)\n",
    "        loss = model(s1, lengths, s2)\n",
    "        loss_sum += loss.item()\n",
    "        c += 1\n",
    "        loss.backward()\n",
    "        optimizer.step()\n",
    "    print(loss_sum / c)"
   ]
  },
  {
   "cell_type": "code",
   "execution_count": 45,
   "metadata": {
    "ExecuteTime": {
     "end_time": "2020-12-25T22:25:53.498848Z",
     "start_time": "2020-12-25T22:25:53.311255Z"
    }
   },
   "outputs": [],
   "source": [
    "for b in dev_data_loader:\n",
    "    s1, s2, lengths, index = batch\n",
    "    s1 = s1.to(device)\n",
    "    s2 = s2.to(device)\n",
    "    l = model(s1, lengths)\n",
    "    break"
   ]
  },
  {
   "cell_type": "code",
   "execution_count": 40,
   "metadata": {
    "ExecuteTime": {
     "end_time": "2020-12-25T22:24:16.309204Z",
     "start_time": "2020-12-25T22:24:16.262089Z"
    }
   },
   "outputs": [],
   "source": [
    "r = l.argmax(dim=2)"
   ]
  },
  {
   "cell_type": "code",
   "execution_count": 47,
   "metadata": {
    "ExecuteTime": {
     "end_time": "2020-12-25T22:26:06.308139Z",
     "start_time": "2020-12-25T22:26:06.303344Z"
    }
   },
   "outputs": [
    {
     "data": {
      "text/plain": [
       "['孤思琴先觉', '驰晖水竞流']"
      ]
     },
     "execution_count": 47,
     "metadata": {},
     "output_type": "execute_result"
    }
   ],
   "source": [
    "dev_list[0]"
   ]
  },
  {
   "cell_type": "code",
   "execution_count": 48,
   "metadata": {
    "ExecuteTime": {
     "end_time": "2020-12-25T22:26:54.691490Z",
     "start_time": "2020-12-25T22:26:54.686846Z"
    }
   },
   "outputs": [
    {
     "data": {
      "text/plain": [
       "881"
      ]
     },
     "execution_count": 48,
     "metadata": {},
     "output_type": "execute_result"
    }
   ],
   "source": [
    "w2id['孤']"
   ]
  },
  {
   "cell_type": "code",
   "execution_count": 49,
   "metadata": {
    "ExecuteTime": {
     "end_time": "2020-12-25T22:27:09.298593Z",
     "start_time": "2020-12-25T22:27:09.294028Z"
    }
   },
   "outputs": [
    {
     "data": {
      "text/plain": [
       "'宁'"
      ]
     },
     "execution_count": 49,
     "metadata": {},
     "output_type": "execute_result"
    }
   ],
   "source": [
    "id2w[1064]"
   ]
  },
  {
   "cell_type": "code",
   "execution_count": 51,
   "metadata": {
    "ExecuteTime": {
     "end_time": "2020-12-25T22:28:14.619432Z",
     "start_time": "2020-12-25T22:28:14.614919Z"
    }
   },
   "outputs": [],
   "source": [
    "def t2s(t):\n",
    "    l = t.cpu().tolist()\n",
    "    return ''.join([id2w[x] for x in l])"
   ]
  },
  {
   "cell_type": "code",
   "execution_count": 58,
   "metadata": {
    "ExecuteTime": {
     "end_time": "2020-12-25T22:29:40.571069Z",
     "start_time": "2020-12-25T22:29:40.550744Z"
    }
   },
   "outputs": [
    {
     "data": {
      "text/plain": [
       "'世如阅水应堪叹'"
      ]
     },
     "execution_count": 58,
     "metadata": {},
     "output_type": "execute_result"
    }
   ],
   "source": [
    "t2s(s1[1])"
   ]
  }
 ],
 "metadata": {
  "kernelspec": {
   "display_name": "Python 3",
   "language": "python",
   "name": "python3"
  },
  "language_info": {
   "codemirror_mode": {
    "name": "ipython",
    "version": 3
   },
   "file_extension": ".py",
   "mimetype": "text/x-python",
   "name": "python",
   "nbconvert_exporter": "python",
   "pygments_lexer": "ipython3",
   "version": "3.8.1"
  },
  "toc": {
   "base_numbering": 1,
   "nav_menu": {
    "height": "223px",
    "width": "209px"
   },
   "number_sections": true,
   "sideBar": true,
   "skip_h1_title": false,
   "title_cell": "Table of Contents",
   "title_sidebar": "Contents",
   "toc_cell": false,
   "toc_position": {
    "height": "calc(100% - 180px)",
    "left": "10px",
    "top": "150px",
    "width": "228px"
   },
   "toc_section_display": true,
   "toc_window_display": true
  }
 },
 "nbformat": 4,
 "nbformat_minor": 4
}
