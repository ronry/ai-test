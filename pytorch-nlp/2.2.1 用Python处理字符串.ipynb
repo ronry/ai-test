{
 "cells": [
  {
   "cell_type": "markdown",
   "metadata": {},
   "source": [
    "# 创建字符串"
   ]
  },
  {
   "cell_type": "code",
   "execution_count": 1,
   "metadata": {
    "ExecuteTime": {
     "end_time": "2021-01-05T20:56:06.250169Z",
     "start_time": "2021-01-05T20:56:06.244997Z"
    }
   },
   "outputs": [
    {
     "data": {
      "text/plain": [
       "('', '12345')"
      ]
     },
     "execution_count": 1,
     "metadata": {},
     "output_type": "execute_result"
    }
   ],
   "source": [
    "empty_str = str()  # 创建空字符串，结果是 ‘’\n",
    "str_from_int = str(12345)  # str 构造器把整数类型转换成字符串类型\n",
    "empty_str, str_from_int"
   ]
  },
  {
   "cell_type": "code",
   "execution_count": 2,
   "metadata": {
    "ExecuteTime": {
     "end_time": "2021-01-05T20:56:52.833217Z",
     "start_time": "2021-01-05T20:56:52.827994Z"
    }
   },
   "outputs": [
    {
     "data": {
      "text/plain": [
       "('hello world', 'Hi,\\nHow are you?\\n\\nYour friend.\\n')"
      ]
     },
     "execution_count": 2,
     "metadata": {},
     "output_type": "execute_result"
    }
   ],
   "source": [
    "str1 = 'hello world'  # 声明字符串\n",
    "# 声明跨行字符串\n",
    "str2 = '''Hi,\n",
    "How are you?\n",
    "\n",
    "Your friend.\n",
    "'''\n",
    "str1, str2"
   ]
  },
  {
   "cell_type": "code",
   "execution_count": 3,
   "metadata": {
    "ExecuteTime": {
     "end_time": "2021-01-05T20:57:23.314338Z",
     "start_time": "2021-01-05T20:57:23.308472Z"
    }
   },
   "outputs": [
    {
     "data": {
      "text/plain": [
       "('\\\\n', 'The last string is \\\\n', '你好')"
      ]
     },
     "execution_count": 3,
     "metadata": {},
     "output_type": "execute_result"
    }
   ],
   "source": [
    "str1 = r'\\n'  # 这个字符串得到的内容是两个字符反斜线和n，如果是普通字符串则得到一个换行符\n",
    "str2 = f'The last string is {str1}'  # 格式化字符串会把{}中的内容替换成对应变量的值\n",
    "str3 = u'你好' # Unicode字符串中的字符是使用Unicode编码的\n",
    "str1, str2, str3"
   ]
  },
  {
   "cell_type": "markdown",
   "metadata": {},
   "source": [
    "# 字符和字符编码值的相互转换"
   ]
  },
  {
   "cell_type": "code",
   "execution_count": 4,
   "metadata": {
    "ExecuteTime": {
     "end_time": "2021-01-05T20:57:43.689604Z",
     "start_time": "2021-01-05T20:57:43.684132Z"
    }
   },
   "outputs": [
    {
     "data": {
      "text/plain": [
       "(20320, '好')"
      ]
     },
     "execution_count": 4,
     "metadata": {},
     "output_type": "execute_result"
    }
   ],
   "source": [
    "a = ord('你')  # a是int类型，a的值是“你”对应的Unicode编码 20320\n",
    "b = chr(22909)  # b是字符串类型，b的值是“好”，是22909编码对应的字符\n",
    "a, b"
   ]
  },
  {
   "cell_type": "markdown",
   "metadata": {},
   "source": [
    "# 字符串和列list的相互转换"
   ]
  },
  {
   "cell_type": "code",
   "execution_count": 5,
   "metadata": {
    "ExecuteTime": {
     "end_time": "2021-01-05T20:59:35.243659Z",
     "start_time": "2021-01-05T20:59:35.237480Z"
    }
   },
   "outputs": [
    {
     "data": {
      "text/plain": [
       "('hello world',\n",
       " ['hello', 'world'],\n",
       " ['h', 'e', 'l', 'l', 'o', ' ', 'w', 'o', 'r', 'l', 'd'])"
      ]
     },
     "execution_count": 5,
     "metadata": {},
     "output_type": "execute_result"
    }
   ],
   "source": [
    "str1 = 'hello world'\n",
    "words = str1.split(' ')  # 按空格切分，得到 [‘hello’, ‘world’]\n",
    "chars = list(str1) # 得到 [‘h’, ‘e’, ‘l’, ‘l’, ‘o’, ‘ ’, ‘w’, ‘o’, ‘r’, ‘l’, ‘d’]\n",
    "str1, words, chars"
   ]
  },
  {
   "cell_type": "code",
   "execution_count": 6,
   "metadata": {
    "ExecuteTime": {
     "end_time": "2021-01-05T20:59:53.824540Z",
     "start_time": "2021-01-05T20:59:53.818581Z"
    }
   },
   "outputs": [
    {
     "data": {
      "text/plain": [
       "('helloworld!', 'hello world !')"
      ]
     },
     "execution_count": 6,
     "metadata": {},
     "output_type": "execute_result"
    }
   ],
   "source": [
    "words = ['hello', 'world', '!']\n",
    "str2 = ''.join(words) # 得到 ‘helloworld!’\n",
    "str3 = ' '.join(words) # 得到 ‘hello world !’\n",
    "str2, str3"
   ]
  },
  {
   "cell_type": "markdown",
   "metadata": {
    "ExecuteTime": {
     "end_time": "2021-01-05T21:00:12.621026Z",
     "start_time": "2021-01-05T21:00:12.618195Z"
    }
   },
   "source": [
    "# str对象的常用方法"
   ]
  },
  {
   "cell_type": "code",
   "execution_count": 7,
   "metadata": {
    "ExecuteTime": {
     "end_time": "2021-01-05T21:00:24.129578Z",
     "start_time": "2021-01-05T21:00:24.124796Z"
    }
   },
   "outputs": [
    {
     "name": "stdout",
     "output_type": "stream",
     "text": [
      "\"  hello   \"\n"
     ]
    }
   ],
   "source": [
    "import json\n",
    "s = 'hello'\n",
    "print(json.dumps(s.center(10)))"
   ]
  },
  {
   "cell_type": "code",
   "execution_count": null,
   "metadata": {},
   "outputs": [],
   "source": []
  }
 ],
 "metadata": {
  "kernelspec": {
   "display_name": "Python 3",
   "language": "python",
   "name": "python3"
  },
  "language_info": {
   "codemirror_mode": {
    "name": "ipython",
    "version": 3
   },
   "file_extension": ".py",
   "mimetype": "text/x-python",
   "name": "python",
   "nbconvert_exporter": "python",
   "pygments_lexer": "ipython3",
   "version": "3.9.1"
  }
 },
 "nbformat": 4,
 "nbformat_minor": 4
}
