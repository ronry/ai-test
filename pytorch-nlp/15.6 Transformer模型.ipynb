{
 "cells": [
  {
   "cell_type": "code",
   "execution_count": 1,
   "metadata": {
    "ExecuteTime": {
     "end_time": "2021-01-07T11:58:17.742592Z",
     "start_time": "2021-01-07T11:58:14.018119Z"
    }
   },
   "outputs": [],
   "source": [
    "import json\n",
    "from tqdm import tqdm\n",
    "import torch\n",
    "import time\n",
    "with open('w2id++.json', 'r') as f:\n",
    "    w2id = json.load(f)\n",
    "with open('id2w++.json', 'r') as f:\n",
    "    id2w = json.load(f)\n",
    "    \n",
    "data_list = []\n",
    "with open('data_splited++.jl', 'r') as f:\n",
    "    for l in f:\n",
    "        data_list.append(json.loads(l))\n",
    "embedding = []\n",
    "with open('embedding++.jl', 'r') as f:\n",
    "    for l in f:\n",
    "        embedding.append(json.loads(l))\n",
    "        \n",
    "batch_size = 128\n",
    "data_workers = 4\n",
    "learning_rate = 0.0001\n",
    "gradient_accumulation_steps = 1\n",
    "max_train_epochs = 30\n",
    "warmup_proportion = 0.05\n",
    "weight_decay=0.01\n",
    "max_grad_norm=1.0\n",
    "cur_time = time.strftime(\"%Y-%m-%d_%H:%M:%S\")\n",
    "device = torch.device('cuda')"
   ]
  },
  {
   "cell_type": "code",
   "execution_count": 2,
   "metadata": {
    "ExecuteTime": {
     "end_time": "2021-01-07T11:58:17.940981Z",
     "start_time": "2021-01-07T11:58:17.743925Z"
    }
   },
   "outputs": [],
   "source": [
    "dlx = [[] for _ in range(5)]\n",
    "for d in data_list:\n",
    "    dlx[len(d[0]) - 5].append(d)"
   ]
  },
  {
   "cell_type": "code",
   "execution_count": 3,
   "metadata": {
    "ExecuteTime": {
     "end_time": "2021-01-07T11:58:22.546919Z",
     "start_time": "2021-01-07T11:58:22.519271Z"
    }
   },
   "outputs": [],
   "source": [
    "class MyDataSet(torch.utils.data.Dataset):\n",
    "    def __init__(self, examples):\n",
    "        self.examples = examples\n",
    "    def __len__(self):\n",
    "        return len(self.examples)\n",
    "    def __getitem__(self, index):\n",
    "        example = self.examples[index]\n",
    "        s1 = example[0]\n",
    "        s2 = example[1]\n",
    "        return s1, s2, index\n",
    "def str2id(s):\n",
    "    ids = []\n",
    "    for ch in s:\n",
    "        if ch in w2id:\n",
    "            ids.append(w2id[ch])\n",
    "        else:\n",
    "            ids.append(0)\n",
    "    return ids\n",
    "def the_collate_fn(batch):\n",
    "    s1x = []\n",
    "    s2x = []\n",
    "    for b in batch:\n",
    "        s1 = str2id(b[0])\n",
    "        s2 = str2id(b[1])\n",
    "        s1x.append(s1)\n",
    "        s2x.append(s2)\n",
    "    indexs = [b[2] for b in batch]\n",
    "    s1 = torch.LongTensor(s1x)\n",
    "    s2 = torch.LongTensor(s2x)\n",
    "    return s1, s2, indexs\n",
    "\n",
    "dldx = []\n",
    "for d in dlx:\n",
    "    ds = MyDataSet(d)\n",
    "    dld = torch.utils.data.DataLoader(\n",
    "        ds,\n",
    "        batch_size=batch_size,\n",
    "        shuffle = True,\n",
    "        num_workers=data_workers,\n",
    "        collate_fn=the_collate_fn,\n",
    "    )\n",
    "    dldx.append(dld)"
   ]
  },
  {
   "cell_type": "code",
   "execution_count": 4,
   "metadata": {
    "ExecuteTime": {
     "end_time": "2021-01-07T11:59:49.997308Z",
     "start_time": "2021-01-07T11:59:49.927820Z"
    }
   },
   "outputs": [],
   "source": [
    "import math\n",
    "import torch\n",
    "import torch.nn as nn\n",
    "import torch.nn.functional as F\n",
    "from torch.nn import TransformerEncoder, TransformerEncoderLayer\n",
    "\n",
    "class PositionalEncoding(nn.Module):\n",
    "\n",
    "    def __init__(self, d_model, dropout=0.1, max_len=5000):\n",
    "        super(PositionalEncoding, self).__init__()\n",
    "        self.dropout = nn.Dropout(p=dropout)\n",
    "\n",
    "        pe = torch.zeros(max_len, d_model)\n",
    "        position = torch.arange(0, max_len, dtype=torch.float).unsqueeze(1)\n",
    "        div_term = torch.exp(torch.arange(0, d_model, 2).float() * (-math.log(10000.0) / d_model))\n",
    "        pe[:, 0::2] = torch.sin(position * div_term)\n",
    "        pe[:, 1::2] = torch.cos(position * div_term)\n",
    "        pe = pe.unsqueeze(0).transpose(0, 1)\n",
    "        self.register_buffer('pe', pe)\n",
    "\n",
    "    def forward(self, x):\n",
    "        x = x + self.pe[:x.size(0), :]\n",
    "        return self.dropout(x)\n",
    "\n",
    "\n",
    "class TransformerModel(nn.Module):\n",
    "\n",
    "    def __init__(self, ntoken, ninp, nhead, nhid, nlayers, dropout=0.5):\n",
    "        super(TransformerModel, self).__init__()\n",
    "        self.pos_encoder = PositionalEncoding(ninp, dropout)\n",
    "        encoder_layers = TransformerEncoderLayer(ninp, nhead, nhid, dropout)\n",
    "        self.transformer_encoder = TransformerEncoder(encoder_layers, nlayers)\n",
    "        self.encoder = nn.Embedding(ntoken, ninp)\n",
    "        self.ninp = ninp\n",
    "        self.decoder = nn.Linear(ninp, ntoken)\n",
    "        self.init_weights()\n",
    "\n",
    "    def init_weights(self):\n",
    "        initrange = 0.1\n",
    "        self.encoder.weight.data.uniform_(-initrange, initrange)\n",
    "        self.decoder.bias.data.zero_()\n",
    "        self.decoder.weight.data.uniform_(-initrange, initrange)\n",
    "\n",
    "    def forward(self, s1, s2=None):\n",
    "        batch_size, length = s1.shape[:2]\n",
    "        s1 = self.encoder(s1) * math.sqrt(self.ninp)\n",
    "        s1 = self.pos_encoder(s1)\n",
    "        output = self.transformer_encoder(s1)\n",
    "        output = self.decoder(output)\n",
    "        output = F.log_softmax(output, dim=2)\n",
    "        if s2 is not None:\n",
    "            criterion = nn.NLLLoss()\n",
    "            loss = criterion(output.view(batch_size*length, -1), s2.view(batch_size*length))\n",
    "            return loss\n",
    "        return output"
   ]
  },
  {
   "cell_type": "code",
   "execution_count": 5,
   "metadata": {
    "ExecuteTime": {
     "end_time": "2021-01-07T11:59:55.161487Z",
     "start_time": "2021-01-07T11:59:52.899583Z"
    }
   },
   "outputs": [],
   "source": [
    "ntokens = len(w2id)\n",
    "emsize = 300 # embedding dimension\n",
    "nhid = 256 # the dimension of the feedforward network model in nn.TransformerEncoder\n",
    "nlayers = 4 # the number of nn.TransformerEncoderLayer in nn.TransformerEncoder\n",
    "nhead = 4 # the number of heads in the multiheadattention models\n",
    "dropout = 0.2 # the dropout value\n",
    "model = TransformerModel(ntokens, emsize, nhead, nhid, nlayers, dropout).to(device)"
   ]
  },
  {
   "cell_type": "code",
   "execution_count": 6,
   "metadata": {
    "ExecuteTime": {
     "end_time": "2021-01-07T11:59:55.167316Z",
     "start_time": "2021-01-07T11:59:55.162811Z"
    }
   },
   "outputs": [],
   "source": [
    "def t2s(t):\n",
    "    l = t.cpu().tolist()\n",
    "    r = [id2w[x] for x in l[0]]\n",
    "    return ''.join(r)\n",
    "\n",
    "def get_next(s):\n",
    "    ids = torch.LongTensor(str2id(s))\n",
    "    print(s)\n",
    "    ids = ids.unsqueeze(0).to(device)\n",
    "    with torch.no_grad():\n",
    "        r = model(ids)\n",
    "        r = r.argmax(dim=2)\n",
    "        return t2s(r)\n",
    "def print_cases():\n",
    "    print(get_next('好好学习') + '\\n')\n",
    "    print(get_next('白日依山尽') + '\\n')\n",
    "    print(get_next('学而时习之') + '\\n')\n",
    "    print(get_next('人之初性本善') + '\\n')"
   ]
  },
  {
   "cell_type": "code",
   "execution_count": 7,
   "metadata": {
    "ExecuteTime": {
     "end_time": "2021-01-07T11:59:56.347666Z",
     "start_time": "2021-01-07T11:59:56.169994Z"
    }
   },
   "outputs": [
    {
     "name": "stdout",
     "output_type": "stream",
     "text": [
      "好好学习\n",
      "薇亦畚呜\n",
      "\n",
      "白日依山尽\n",
      "呜缁搏鼐识\n",
      "\n",
      "学而时习之\n",
      "飓遵壕鼐摆\n",
      "\n",
      "人之初性本善\n",
      "葫俞檠杜灼蹇\n",
      "\n"
     ]
    }
   ],
   "source": [
    "print_cases()"
   ]
  },
  {
   "cell_type": "code",
   "execution_count": 8,
   "metadata": {
    "ExecuteTime": {
     "end_time": "2021-01-07T11:59:58.738571Z",
     "start_time": "2021-01-07T11:59:58.013432Z"
    }
   },
   "outputs": [
    {
     "name": "stdout",
     "output_type": "stream",
     "text": [
      "warmup steps : 1675108\n"
     ]
    }
   ],
   "source": [
    "from transformers import AdamW, get_linear_schedule_with_warmup\n",
    "\n",
    "t_total = len(data_list) // gradient_accumulation_steps * max_train_epochs + 1\n",
    "num_warmup_steps = int(warmup_proportion * t_total)\n",
    "\n",
    "print('warmup steps : %d' % num_warmup_steps)\n",
    "\n",
    "no_decay = ['bias', 'LayerNorm.weight'] # no_decay = ['bias', 'LayerNorm.bias', 'LayerNorm.weight']\n",
    "param_optimizer = list(model.named_parameters())\n",
    "optimizer_grouped_parameters = [\n",
    "    {'params':[p for n, p in param_optimizer if not any(nd in n for nd in no_decay)],'weight_decay': weight_decay},\n",
    "    {'params':[p for n, p in param_optimizer if any(nd in n for nd in no_decay)],'weight_decay': 0.0}\n",
    "]\n",
    "optimizer = AdamW(optimizer_grouped_parameters, lr=learning_rate)\n",
    "scheduler = get_linear_schedule_with_warmup(optimizer, num_warmup_steps=num_warmup_steps, num_training_steps=t_total)"
   ]
  },
  {
   "cell_type": "code",
   "execution_count": 9,
   "metadata": {
    "ExecuteTime": {
     "end_time": "2021-01-07T14:14:12.444339Z",
     "start_time": "2021-01-07T12:00:00.625712Z"
    },
    "scrolled": false
   },
   "outputs": [
    {
     "name": "stdout",
     "output_type": "stream",
     "text": [
      "0\n"
     ]
    },
    {
     "name": "stderr",
     "output_type": "stream",
     "text": [
      "100%|██████████| 8729/8729 [07:45<00:00, 18.75it/s]\n"
     ]
    },
    {
     "name": "stdout",
     "output_type": "stream",
     "text": [
      "好好学习\n",
      "流摇深虬\n",
      "\n",
      "白日依山尽\n",
      "临春不不不\n",
      "\n",
      "学而时习之\n",
      "□归枵弹自\n",
      "\n",
      "人之初性本善\n",
      "不自不春一峦\n",
      "\n",
      "8.870945400248967\n",
      "1\n"
     ]
    },
    {
     "name": "stderr",
     "output_type": "stream",
     "text": [
      "100%|██████████| 8729/8729 [07:47<00:00, 18.68it/s]"
     ]
    },
    {
     "name": "stdout",
     "output_type": "stream",
     "text": [
      "好好学习\n",
      "深一□不\n",
      "\n",
      "白日依山尽\n",
      "无不一不不\n",
      "\n",
      "学而时习之\n",
      "无不此不一\n",
      "\n",
      "人之初性本善\n",
      "不为不一一一\n",
      "\n",
      "7.897064124711264\n",
      "2\n"
     ]
    },
    {
     "name": "stderr",
     "output_type": "stream",
     "text": [
      "\n",
      "100%|██████████| 8729/8729 [07:43<00:00, 18.83it/s]"
     ]
    },
    {
     "name": "stdout",
     "output_type": "stream",
     "text": [
      "好好学习\n",
      "不不不风\n",
      "\n",
      "白日依山尽\n",
      "不山不不不\n",
      "\n",
      "学而时习之\n",
      "何风不不风\n",
      "\n",
      "人之初性本善\n",
      "不不不不不山\n",
      "\n",
      "7.370467955854356\n",
      "3\n"
     ]
    },
    {
     "name": "stderr",
     "output_type": "stream",
     "text": [
      "\n",
      "100%|██████████| 8729/8729 [07:56<00:00, 18.31it/s]"
     ]
    },
    {
     "name": "stdout",
     "output_type": "stream",
     "text": [
      "好好学习\n",
      "一此日自\n",
      "\n",
      "白日依山尽\n",
      "年时有无人\n",
      "\n",
      "学而时习之\n",
      "人知自风山\n",
      "\n",
      "人之初性本善\n",
      "人来人云人人\n",
      "\n",
      "7.27033402483921\n",
      "4\n"
     ]
    },
    {
     "name": "stderr",
     "output_type": "stream",
     "text": [
      "\n",
      "100%|██████████| 8729/8729 [07:26<00:00, 19.56it/s]"
     ]
    },
    {
     "name": "stdout",
     "output_type": "stream",
     "text": [
      "好好学习\n",
      "人何人风\n",
      "\n",
      "白日依山尽\n",
      "人风不为生\n",
      "\n",
      "学而时习之\n",
      "人云生风人\n",
      "\n",
      "人之初性本善\n",
      "人年人风生风\n",
      "\n",
      "7.240776638861713\n",
      "5\n"
     ]
    },
    {
     "name": "stderr",
     "output_type": "stream",
     "text": [
      "\n",
      "100%|██████████| 8729/8729 [08:09<00:00, 17.84it/s]\n"
     ]
    },
    {
     "name": "stdout",
     "output_type": "stream",
     "text": [
      "好好学习\n",
      "未无不风\n",
      "\n",
      "白日依山尽\n",
      "年生人不名\n",
      "\n",
      "学而时习之\n",
      "天有生风人\n",
      "\n",
      "人之初性本善\n",
      "人我风风人何\n",
      "\n",
      "7.21359644739539\n",
      "6\n"
     ]
    },
    {
     "name": "stderr",
     "output_type": "stream",
     "text": [
      "100%|██████████| 8729/8729 [07:53<00:00, 18.45it/s]"
     ]
    },
    {
     "name": "stdout",
     "output_type": "stream",
     "text": [
      "好好学习\n",
      "流声日风\n",
      "\n",
      "白日依山尽\n",
      "春风不风人\n",
      "\n",
      "学而时习之\n",
      "清有我风山\n",
      "\n",
      "人之初性本善\n",
      "不游一不风风\n",
      "\n",
      "7.182166251535061\n",
      "7\n"
     ]
    },
    {
     "name": "stderr",
     "output_type": "stream",
     "text": [
      "\n",
      "100%|██████████| 8729/8729 [07:59<00:00, 18.21it/s]\n"
     ]
    },
    {
     "name": "stdout",
     "output_type": "stream",
     "text": [
      "好好学习\n",
      "归天日风\n",
      "\n",
      "白日依山尽\n",
      "春风无为归\n",
      "\n",
      "学而时习之\n",
      "心不不风楼\n",
      "\n",
      "人之初性本善\n",
      "不回不不不事\n",
      "\n",
      "7.145359160251125\n",
      "8\n"
     ]
    },
    {
     "name": "stderr",
     "output_type": "stream",
     "text": [
      "100%|██████████| 8729/8729 [07:54<00:00, 18.40it/s]"
     ]
    },
    {
     "name": "stdout",
     "output_type": "stream",
     "text": [
      "好好学习\n",
      "归新来风\n",
      "\n",
      "白日依山尽\n",
      "春风一水归\n",
      "\n",
      "学而时习之\n",
      "春有上风山\n",
      "\n",
      "人之初性本善\n",
      "得山一春人作\n",
      "\n",
      "7.098595275332388\n",
      "9\n"
     ]
    },
    {
     "name": "stderr",
     "output_type": "stream",
     "text": [
      "\n",
      "100%|██████████| 8729/8729 [07:53<00:00, 18.42it/s]"
     ]
    },
    {
     "name": "stdout",
     "output_type": "stream",
     "text": [
      "好好学习\n",
      "春春中春\n",
      "\n",
      "白日依山尽\n",
      "秋时不水新\n",
      "\n",
      "学而时习之\n",
      "年不有风月\n",
      "\n",
      "人之初性本善\n",
      "日涯不无未山\n",
      "\n",
      "7.050091004194025\n",
      "10\n"
     ]
    },
    {
     "name": "stderr",
     "output_type": "stream",
     "text": [
      "\n",
      "100%|██████████| 8729/8729 [07:54<00:00, 18.40it/s]"
     ]
    },
    {
     "name": "stdout",
     "output_type": "stream",
     "text": [
      "好好学习\n",
      "新新日千\n",
      "\n",
      "白日依山尽\n",
      "青云一水生\n",
      "\n",
      "学而时习之\n",
      "中两有何见\n",
      "\n",
      "人之初性本善\n",
      "上之不明未流\n",
      "\n",
      "7.00925423477304\n",
      "11\n"
     ]
    },
    {
     "name": "stderr",
     "output_type": "stream",
     "text": [
      "\n",
      " 70%|███████   | 6116/8729 [05:27<02:22, 18.38it/s]IOPub message rate exceeded.\n",
      "The notebook server will temporarily stop sending output\n",
      "to the client in order to avoid crashing it.\n",
      "To change this limit, set the config variable\n",
      "`--NotebookApp.iopub_msg_rate_limit`.\n",
      "\n",
      "Current values:\n",
      "NotebookApp.iopub_msg_rate_limit=1000.0 (msgs/sec)\n",
      "NotebookApp.rate_limit_window=3.0 (secs)\n",
      "\n",
      "100%|██████████| 8729/8729 [07:56<00:00, 18.32it/s]"
     ]
    },
    {
     "name": "stdout",
     "output_type": "stream",
     "text": [
      "好好学习\n",
      "归长见风\n",
      "\n",
      "白日依山尽\n",
      "青年一上还\n",
      "\n",
      "学而时习之\n",
      "上有处不之\n",
      "\n",
      "人之初性本善\n",
      "有之不不无与\n",
      "\n",
      "6.887981681550471\n",
      "15\n"
     ]
    },
    {
     "name": "stderr",
     "output_type": "stream",
     "text": [
      "\n",
      "100%|██████████| 8729/8729 [08:01<00:00, 18.11it/s]\n"
     ]
    },
    {
     "name": "stdout",
     "output_type": "stream",
     "text": [
      "好好学习\n",
      "何何觉长\n",
      "\n",
      "白日依山尽\n",
      "青天不水长\n",
      "\n",
      "学而时习之\n",
      "日不日不之\n",
      "\n",
      "人之初性本善\n",
      "见之不在亦与\n",
      "\n",
      "6.845888587875147\n",
      "17\n"
     ]
    },
    {
     "name": "stderr",
     "output_type": "stream",
     "text": [
      "  5%|▍         | 410/8729 [00:20<06:54, 20.08it/s]\n"
     ]
    },
    {
     "ename": "KeyboardInterrupt",
     "evalue": "",
     "output_type": "error",
     "traceback": [
      "\u001b[0;31m---------------------------------------------------------------------------\u001b[0m",
      "\u001b[0;31mKeyboardInterrupt\u001b[0m                         Traceback (most recent call last)",
      "\u001b[0;32m<ipython-input-9-b405de46abdb>\u001b[0m in \u001b[0;36m<module>\u001b[0;34m\u001b[0m\n\u001b[1;32m     22\u001b[0m         \u001b[0mloss_sum\u001b[0m \u001b[0;34m+=\u001b[0m \u001b[0mloss\u001b[0m\u001b[0;34m.\u001b[0m\u001b[0mitem\u001b[0m\u001b[0;34m(\u001b[0m\u001b[0;34m)\u001b[0m\u001b[0;34m\u001b[0m\u001b[0;34m\u001b[0m\u001b[0m\n\u001b[1;32m     23\u001b[0m         \u001b[0mc\u001b[0m \u001b[0;34m+=\u001b[0m \u001b[0;36m1\u001b[0m\u001b[0;34m\u001b[0m\u001b[0;34m\u001b[0m\u001b[0m\n\u001b[0;32m---> 24\u001b[0;31m         \u001b[0mloss\u001b[0m\u001b[0;34m.\u001b[0m\u001b[0mbackward\u001b[0m\u001b[0;34m(\u001b[0m\u001b[0;34m)\u001b[0m\u001b[0;34m\u001b[0m\u001b[0;34m\u001b[0m\u001b[0m\n\u001b[0m\u001b[1;32m     25\u001b[0m         \u001b[0moptimizer\u001b[0m\u001b[0;34m.\u001b[0m\u001b[0mstep\u001b[0m\u001b[0;34m(\u001b[0m\u001b[0;34m)\u001b[0m\u001b[0;34m\u001b[0m\u001b[0;34m\u001b[0m\u001b[0m\n\u001b[1;32m     26\u001b[0m         \u001b[0mscheduler\u001b[0m\u001b[0;34m.\u001b[0m\u001b[0mstep\u001b[0m\u001b[0;34m(\u001b[0m\u001b[0;34m)\u001b[0m\u001b[0;34m\u001b[0m\u001b[0;34m\u001b[0m\u001b[0m\n",
      "\u001b[0;32m/usr/lib/python3.8/site-packages/torch/tensor.py\u001b[0m in \u001b[0;36mbackward\u001b[0;34m(self, gradient, retain_graph, create_graph)\u001b[0m\n\u001b[1;32m    193\u001b[0m                 \u001b[0mproducts\u001b[0m\u001b[0;34m.\u001b[0m \u001b[0mDefaults\u001b[0m \u001b[0mto\u001b[0m\u001b[0;31m \u001b[0m\u001b[0;31m`\u001b[0m\u001b[0;31m`\u001b[0m\u001b[0;32mFalse\u001b[0m\u001b[0;31m`\u001b[0m\u001b[0;31m`\u001b[0m\u001b[0;34m.\u001b[0m\u001b[0;34m\u001b[0m\u001b[0;34m\u001b[0m\u001b[0m\n\u001b[1;32m    194\u001b[0m         \"\"\"\n\u001b[0;32m--> 195\u001b[0;31m         \u001b[0mtorch\u001b[0m\u001b[0;34m.\u001b[0m\u001b[0mautograd\u001b[0m\u001b[0;34m.\u001b[0m\u001b[0mbackward\u001b[0m\u001b[0;34m(\u001b[0m\u001b[0mself\u001b[0m\u001b[0;34m,\u001b[0m \u001b[0mgradient\u001b[0m\u001b[0;34m,\u001b[0m \u001b[0mretain_graph\u001b[0m\u001b[0;34m,\u001b[0m \u001b[0mcreate_graph\u001b[0m\u001b[0;34m)\u001b[0m\u001b[0;34m\u001b[0m\u001b[0;34m\u001b[0m\u001b[0m\n\u001b[0m\u001b[1;32m    196\u001b[0m \u001b[0;34m\u001b[0m\u001b[0m\n\u001b[1;32m    197\u001b[0m     \u001b[0;32mdef\u001b[0m \u001b[0mregister_hook\u001b[0m\u001b[0;34m(\u001b[0m\u001b[0mself\u001b[0m\u001b[0;34m,\u001b[0m \u001b[0mhook\u001b[0m\u001b[0;34m)\u001b[0m\u001b[0;34m:\u001b[0m\u001b[0;34m\u001b[0m\u001b[0;34m\u001b[0m\u001b[0m\n",
      "\u001b[0;32m/usr/lib/python3.8/site-packages/torch/autograd/__init__.py\u001b[0m in \u001b[0;36mbackward\u001b[0;34m(tensors, grad_tensors, retain_graph, create_graph, grad_variables)\u001b[0m\n\u001b[1;32m     95\u001b[0m         \u001b[0mretain_graph\u001b[0m \u001b[0;34m=\u001b[0m \u001b[0mcreate_graph\u001b[0m\u001b[0;34m\u001b[0m\u001b[0;34m\u001b[0m\u001b[0m\n\u001b[1;32m     96\u001b[0m \u001b[0;34m\u001b[0m\u001b[0m\n\u001b[0;32m---> 97\u001b[0;31m     Variable._execution_engine.run_backward(\n\u001b[0m\u001b[1;32m     98\u001b[0m         \u001b[0mtensors\u001b[0m\u001b[0;34m,\u001b[0m \u001b[0mgrad_tensors\u001b[0m\u001b[0;34m,\u001b[0m \u001b[0mretain_graph\u001b[0m\u001b[0;34m,\u001b[0m \u001b[0mcreate_graph\u001b[0m\u001b[0;34m,\u001b[0m\u001b[0;34m\u001b[0m\u001b[0;34m\u001b[0m\u001b[0m\n\u001b[1;32m     99\u001b[0m         allow_unreachable=True)  # allow_unreachable flag\n",
      "\u001b[0;31mKeyboardInterrupt\u001b[0m: "
     ]
    }
   ],
   "source": [
    "loss_list = []\n",
    "for e in range(max_train_epochs):\n",
    "    print(e)\n",
    "    loss_sum = 0\n",
    "    c = 0\n",
    "    xxx = [x.__iter__() for x in dldx]\n",
    "    j = 0\n",
    "    for i in tqdm(range((len(data_list)//batch_size) + 5)):\n",
    "        if len(xxx) == 0:\n",
    "            break\n",
    "        j = j % len(xxx)\n",
    "        try:\n",
    "            batch = xxx[j].__next__()\n",
    "        except StopIteration:\n",
    "            xxx.pop(j)\n",
    "            continue\n",
    "        j += 1\n",
    "        s1, s2, index = batch\n",
    "        s1 = s1.to(device)\n",
    "        s2 = s2.to(device)\n",
    "        loss = model(s1, s2)\n",
    "        loss_sum += loss.item()\n",
    "        c += 1\n",
    "        loss.backward()\n",
    "        optimizer.step()\n",
    "        scheduler.step() \n",
    "        optimizer.zero_grad()\n",
    "    print_cases()\n",
    "    print(loss_sum / c)\n",
    "    loss_list.append(loss_sum / c)"
   ]
  },
  {
   "cell_type": "code",
   "execution_count": 19,
   "metadata": {
    "ExecuteTime": {
     "end_time": "2020-12-27T17:07:39.434756Z",
     "start_time": "2020-12-27T17:07:32.630988Z"
    }
   },
   "outputs": [
    {
     "name": "stderr",
     "output_type": "stream",
     "text": [
      "Matplotlib is building the font cache; this may take a moment.\n"
     ]
    },
    {
     "data": {
      "text/plain": [
       "[<matplotlib.lines.Line2D at 0x7fadeb1cb2b0>]"
      ]
     },
     "execution_count": 19,
     "metadata": {},
     "output_type": "execute_result"
    },
    {
     "data": {
      "image/png": "[encoded data removed]",
      "text/plain": [
       "<Figure size 648x432 with 1 Axes>"
      ]
     },
     "metadata": {
      "needs_background": "light"
     },
     "output_type": "display_data"
    }
   ],
   "source": [
    "from matplotlib import pyplot as plt\n",
    "plt.figure(figsize=(9,6))\n",
    "plt.plot([i for i in range(len(loss_list))], loss_list)"
   ]
  },
  {
   "cell_type": "code",
   "execution_count": 20,
   "metadata": {
    "ExecuteTime": {
     "end_time": "2020-12-27T17:20:06.036445Z",
     "start_time": "2020-12-27T17:20:05.965579Z"
    }
   },
   "outputs": [],
   "source": [
    "torch.save(model.state_dict(), 'transform_model_parameter.pkl')"
   ]
  },
  {
   "cell_type": "code",
   "execution_count": 22,
   "metadata": {
    "ExecuteTime": {
     "end_time": "2020-12-27T17:20:24.760394Z",
     "start_time": "2020-12-27T17:20:24.541552Z"
    }
   },
   "outputs": [
    {
     "name": "stderr",
     "output_type": "stream",
     "text": [
      "/usr/lib/python3.8/site-packages/torch/serialization.py:359: UserWarning: Couldn't retrieve source code for container of type TransformerModel. It won't be checked for correctness upon loading.\n",
      "  warnings.warn(\"Couldn't retrieve source code for container of \"\n",
      "/usr/lib/python3.8/site-packages/torch/serialization.py:359: UserWarning: Couldn't retrieve source code for container of type PositionalEncoding. It won't be checked for correctness upon loading.\n",
      "  warnings.warn(\"Couldn't retrieve source code for container of \"\n"
     ]
    }
   ],
   "source": [
    "torch.save(model, 'transform_model.pkl')"
   ]
  },
  {
   "cell_type": "code",
   "execution_count": null,
   "metadata": {},
   "outputs": [],
   "source": [
    "rnn = torch.load('rnn_model.pkl'))\n",
    "rnn.load_state_dict(torch.load('rnn_parameter.pkl'))"
   ]
  }
 ],
 "metadata": {
  "kernelspec": {
   "display_name": "Python 3",
   "language": "python",
   "name": "python3"
  },
  "toc": {
   "base_numbering": 1,
   "nav_menu": {},
   "number_sections": true,
   "sideBar": true,
   "skip_h1_title": false,
   "title_cell": "Table of Contents",
   "title_sidebar": "Contents",
   "toc_cell": false,
   "toc_position": {},
   "toc_section_display": true,
   "toc_window_display": false
  }
 },
 "nbformat": 4,
 "nbformat_minor": 4
}
