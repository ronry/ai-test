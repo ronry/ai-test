{
 "cells": [
  {
   "cell_type": "code",
   "execution_count": 1,
   "metadata": {
    "ExecuteTime": {
     "end_time": "2021-01-05T21:02:28.188514Z",
     "start_time": "2021-01-05T21:02:28.181942Z"
    }
   },
   "outputs": [
    {
     "name": "stdout",
     "output_type": "stream",
     "text": [
      "hello wrold\n"
     ]
    }
   ],
   "source": [
    "import io\n",
    "sio = io.StringIO()\n",
    "sio.write('hello')\n",
    "sio.write(' ')\n",
    "sio.write('wrold')\n",
    "print(sio.getvalue())  # 输出 hello world\n",
    "sio.close()"
   ]
  }
 ],
 "metadata": {
  "kernelspec": {
   "display_name": "Python 3",
   "language": "python",
   "name": "python3"
  },
  "language_info": {
   "codemirror_mode": {
    "name": "ipython",
    "version": 3
   },
   "file_extension": ".py",
   "mimetype": "text/x-python",
   "name": "python",
   "nbconvert_exporter": "python",
   "pygments_lexer": "ipython3",
   "version": "3.8.1"
  }
 },
 "nbformat": 4,
 "nbformat_minor": 4
}
