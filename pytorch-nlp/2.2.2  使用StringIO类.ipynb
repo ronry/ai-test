{
 "cells": [
  {
   "cell_type": "code",
   "execution_count": 5,
   "metadata": {
    "ExecuteTime": {
     "end_time": "2023-06-29T12:41:00.120474Z",
     "start_time": "2023-06-29T12:41:00.116972Z"
    }
   },
   "outputs": [
    {
     "name": "stdout",
     "output_type": "stream",
     "text": [
      "hello3 wrold\n"
     ]
    }
   ],
   "source": [
    "import io\n",
    "sio = io.StringIO()\n",
    "sio.write('hello3')\n",
    "sio.write(' ')\n",
    "sio.write('wrold')\n",
    "print(sio.getvalue())  # 输出 hello world\n",
    "sio.close()"
   ]
  },
  {
   "cell_type": "code",
   "execution_count": null,
   "outputs": [],
   "source": [],
   "metadata": {
    "collapsed": false
   }
  }
 ],
 "metadata": {
  "kernelspec": {
   "display_name": "Python 3",
   "language": "python",
   "name": "python3"
  },
  "language_info": {
   "codemirror_mode": {
    "name": "ipython",
    "version": 3
   },
   "file_extension": ".py",
   "mimetype": "text/x-python",
   "name": "python",
   "nbconvert_exporter": "python",
   "pygments_lexer": "ipython3",
   "version": "3.8.1"
  }
 },
 "nbformat": 4,
 "nbformat_minor": 4
}
