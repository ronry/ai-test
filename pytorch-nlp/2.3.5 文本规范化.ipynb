{
 "cells": [
  {
   "cell_type": "code",
   "execution_count": null,
   "metadata": {
    "ExecuteTime": {
     "end_time": "2021-01-06T22:40:09.028134Z",
     "start_time": "2021-01-06T22:40:09.006345Z"
    }
   },
   "outputs": [],
   "source": [
    "import unicodedata\n",
    "class DEL_ASCII(object):\n",
    "    ''' used in function `refactor_text_vdom` for filter ASCII character b'\\xef\\xb8\\x8f' '''\n",
    "    def do(self, text):\n",
    "        orig_tokens = self.whitespace_tokenize(text)\n",
    "        split_tokens = []\n",
    "        for token in orig_tokens:\n",
    "            token = self._run_strip_accents(token)                \n",
    "            split_tokens.extend(self._run_split_on_punc(token))\n",
    "        output_tokens = self.whitespace_tokenize(\" \".join(split_tokens))\n",
    "        return output_tokens\n",
    "    \n",
    "    def whitespace_tokenize(self, text):\n",
    "        \"\"\"Runs basic whitespace cleaning and splitting on a piece of text.\"\"\"\n",
    "        text = text.strip()\n",
    "        if not text:\n",
    "            return []\n",
    "        tokens = text.split()\n",
    "        return tokens\n",
    "\n",
    "    def _run_strip_accents(self, text):\n",
    "        \"\"\"Strips accents from a piece of text.\"\"\"\n",
    "        text = unicodedata.normalize(\"NFD\", text)\n",
    "        output = []\n",
    "        for char in text:\n",
    "            cat = unicodedata.category(char)\n",
    "            if cat == \"Mn\":\n",
    "                continue\n",
    "            output.append(char)\n",
    "        return \"\".join(output)\n",
    "    \n",
    "    def _run_split_on_punc(self, text):\n",
    "        \"\"\"Splits punctuation on a piece of text.\"\"\"\n",
    "        chars = list(text)\n",
    "        i = 0\n",
    "        start_new_word = True\n",
    "        output = []\n",
    "        while i < len(chars):\n",
    "            char = chars[i]\n",
    "            if self._is_punctuation(char):\n",
    "                output.append([char])\n",
    "                start_new_word = True\n",
    "            else:\n",
    "                if start_new_word:\n",
    "                    output.append([])\n",
    "                start_new_word = False\n",
    "                output[-1].append(char)\n",
    "            i += 1\n",
    "        return [\"\".join(x) for x in output]\n",
    "    \n",
    "    def _is_punctuation(self, char):\n",
    "        \"\"\"Checks whether `chars` is a punctuation character.\"\"\"\n",
    "        cp = ord(char)\n",
    "        # We treat all non-letter/number ASCII as punctuation.\n",
    "        # Characters such as \"^\", \"$\", and \"`\" are not in the Unicode\n",
    "        # Punctuation class but we treat them as punctuation anyways, for\n",
    "        # consistency.\n",
    "        if ((cp >= 33 and cp <= 47) or (cp >= 58 and cp <= 64) or\n",
    "                (cp >= 91 and cp <= 96) or (cp >= 123 and cp <= 126)):\n",
    "            return True\n",
    "        cat = unicodedata.category(char)\n",
    "        if cat.startswith(\"P\"):\n",
    "            return True\n",
    "        return False\n"
   ]
  },
  {
   "cell_type": "code",
   "execution_count": null,
   "metadata": {
    "ExecuteTime": {
     "end_time": "2021-01-06T22:40:39.525004Z",
     "start_time": "2021-01-06T22:40:39.519674Z"
    }
   },
   "outputs": [],
   "source": [
    "x = DEL_ASCII()\n",
    "x.do(\"I like     café\")"
   ]
  }
 ],
 "metadata": {
  "kernelspec": {
   "display_name": "Python 3",
   "language": "python",
   "name": "python3"
  },
  "language_info": {
   "codemirror_mode": {
    "name": "ipython",
    "version": 3
   },
   "file_extension": ".py",
   "mimetype": "text/x-python",
   "name": "python",
   "nbconvert_exporter": "python",
   "pygments_lexer": "ipython3",
   "version": "3.8.1"
  }
 },
 "nbformat": 4,
 "nbformat_minor": 4
}
