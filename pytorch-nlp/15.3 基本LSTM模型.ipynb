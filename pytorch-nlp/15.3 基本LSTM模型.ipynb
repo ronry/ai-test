{
 "cells": [
  {
   "cell_type": "code",
   "execution_count": 1,
   "metadata": {
    "ExecuteTime": {
     "end_time": "2021-01-07T11:27:51.022559Z",
     "start_time": "2021-01-07T11:27:51.013018Z"
    }
   },
   "outputs": [],
   "source": [
    "import json\n",
    "from tqdm import tqdm"
   ]
  },
  {
   "cell_type": "code",
   "execution_count": 2,
   "metadata": {
    "ExecuteTime": {
     "end_time": "2021-01-07T11:27:51.618411Z",
     "start_time": "2021-01-07T11:27:51.607397Z"
    }
   },
   "outputs": [],
   "source": [
    "with open('w2id+.json', 'r') as f:\n",
    "    w2id = json.load(f)\n",
    "with open('id2w+.json', 'r') as f:\n",
    "    id2w = json.load(f)"
   ]
  },
  {
   "cell_type": "code",
   "execution_count": 3,
   "metadata": {
    "ExecuteTime": {
     "end_time": "2021-01-07T11:27:56.162797Z",
     "start_time": "2021-01-07T11:27:52.480678Z"
    }
   },
   "outputs": [],
   "source": [
    "data_list = []\n",
    "with open('data_splited+.jl', 'r') as f:\n",
    "    for l in f:\n",
    "        data_list.append(json.loads(l))"
   ]
  },
  {
   "cell_type": "code",
   "execution_count": 4,
   "metadata": {
    "ExecuteTime": {
     "end_time": "2021-01-07T11:27:58.267802Z",
     "start_time": "2021-01-07T11:27:57.916496Z"
    }
   },
   "outputs": [
    {
     "data": {
      "text/plain": [
       "Counter({7: 605095, 5: 659730, 9: 922, 8: 633, 6: 9593})"
      ]
     },
     "execution_count": 4,
     "metadata": {},
     "output_type": "execute_result"
    }
   ],
   "source": [
    "import collections\n",
    "c = collections.Counter()\n",
    "for d in data_list:\n",
    "    c[len(d[0])] += 1\n",
    "c"
   ]
  },
  {
   "cell_type": "code",
   "execution_count": 5,
   "metadata": {
    "ExecuteTime": {
     "end_time": "2021-01-07T11:27:59.456370Z",
     "start_time": "2021-01-07T11:27:59.173450Z"
    }
   },
   "outputs": [],
   "source": [
    "dlx = [[] for _ in range(5)]\n",
    "for d in data_list:\n",
    "    dlx[len(d[0]) - 5].append(d)"
   ]
  },
  {
   "cell_type": "code",
   "execution_count": 6,
   "metadata": {
    "ExecuteTime": {
     "end_time": "2021-01-07T11:28:00.416841Z",
     "start_time": "2021-01-07T11:28:00.137683Z"
    }
   },
   "outputs": [],
   "source": [
    "import torch\n",
    "class MyDataSet(torch.utils.data.Dataset):\n",
    "    def __init__(self, examples):\n",
    "        self.examples = examples\n",
    "    def __len__(self):\n",
    "        return len(self.examples)\n",
    "    def __getitem__(self, index):\n",
    "        example = self.examples[index]\n",
    "        s1 = example[0]\n",
    "        s2 = example[1]\n",
    "        return s1, s2, index"
   ]
  },
  {
   "cell_type": "code",
   "execution_count": 7,
   "metadata": {
    "ExecuteTime": {
     "end_time": "2021-01-07T11:28:01.376995Z",
     "start_time": "2021-01-07T11:28:01.370319Z"
    }
   },
   "outputs": [],
   "source": [
    "def str2id(s):\n",
    "    ids = []\n",
    "    for ch in s:\n",
    "        if ch in w2id:\n",
    "            ids.append(w2id[ch])\n",
    "        else:\n",
    "            ids.append(0)\n",
    "    return ids\n",
    "\n",
    "def the_collate_fn(batch):\n",
    "    s1x = []\n",
    "    s2x = []\n",
    "    for b in batch:\n",
    "        s1 = str2id(b[0])\n",
    "        s2 = str2id(b[1])\n",
    "        s1x.append(s1)\n",
    "        s2x.append(s2)\n",
    "    indexs = [b[2] for b in batch]\n",
    "    s1 = torch.LongTensor(s1x)\n",
    "    s2 = torch.LongTensor(s2x)\n",
    "    return s1, s2, indexs"
   ]
  },
  {
   "cell_type": "code",
   "execution_count": 8,
   "metadata": {
    "ExecuteTime": {
     "end_time": "2021-01-07T11:28:02.029530Z",
     "start_time": "2021-01-07T11:28:02.024100Z"
    }
   },
   "outputs": [],
   "source": [
    "batch_size = 256\n",
    "data_workers = 4\n",
    "\n",
    "dldx = []\n",
    "for d in dlx:\n",
    "    ds = MyDataSet(d)\n",
    "    dld = torch.utils.data.DataLoader(\n",
    "        ds,\n",
    "        batch_size=batch_size,\n",
    "        shuffle = True,\n",
    "        num_workers=data_workers,\n",
    "        collate_fn=the_collate_fn,\n",
    "    )\n",
    "    dldx.append(dld)"
   ]
  },
  {
   "cell_type": "code",
   "execution_count": 9,
   "metadata": {
    "ExecuteTime": {
     "end_time": "2021-01-07T11:28:02.704418Z",
     "start_time": "2021-01-07T11:28:02.699443Z"
    }
   },
   "outputs": [
    {
     "data": {
      "text/plain": [
       "5"
      ]
     },
     "execution_count": 9,
     "metadata": {},
     "output_type": "execute_result"
    }
   ],
   "source": [
    "len(dldx)"
   ]
  },
  {
   "cell_type": "code",
   "execution_count": 10,
   "metadata": {
    "ExecuteTime": {
     "end_time": "2021-01-07T11:28:03.623937Z",
     "start_time": "2021-01-07T11:28:03.611741Z"
    }
   },
   "outputs": [],
   "source": [
    "import torch.nn as nn\n",
    "import torch.nn.functional as F\n",
    "class LSTMModel(nn.Module):\n",
    "    def __init__(self, device, word_size, embedding_dim=256, hidden_dim=256):\n",
    "        super(LSTMModel, self).__init__()\n",
    "        self.hidden_dim = hidden_dim\n",
    "        self.device = device\n",
    "        self.embedding = nn.Embedding(word_size, embedding_dim)\n",
    "        self.lstm = nn.LSTM(embedding_dim, hidden_dim, num_layers=3, bidirectional=True, batch_first=True)\n",
    "        self.out = nn.Linear(hidden_dim*2, word_size)\n",
    "        \n",
    "    def forward(self, s1, s2=None):\n",
    "        batch_size, length = s1.shape[:2]\n",
    "        b = self.embedding(s1)\n",
    "        l = self.lstm(b)[0]\n",
    "        r = self.out(l)\n",
    "        r = F.log_softmax(r, dim=1)\n",
    "        if s2 is not None:\n",
    "            criterion = nn.NLLLoss()\n",
    "            loss = criterion(r.view(batch_size*length, -1), s2.view(batch_size*length))\n",
    "            return loss\n",
    "        return r"
   ]
  },
  {
   "cell_type": "code",
   "execution_count": 11,
   "metadata": {
    "ExecuteTime": {
     "end_time": "2021-01-07T11:28:07.285085Z",
     "start_time": "2021-01-07T11:28:04.739496Z"
    }
   },
   "outputs": [
    {
     "data": {
      "text/plain": [
       "LSTMModel(\n",
       "  (embedding): Embedding(7042, 256)\n",
       "  (lstm): LSTM(256, 256, num_layers=3, batch_first=True, bidirectional=True)\n",
       "  (out): Linear(in_features=512, out_features=7042, bias=True)\n",
       ")"
      ]
     },
     "execution_count": 11,
     "metadata": {},
     "output_type": "execute_result"
    }
   ],
   "source": [
    "device = torch.device('cuda')\n",
    "model = LSTMModel(device, len(w2id))\n",
    "model.to(device)"
   ]
  },
  {
   "cell_type": "code",
   "execution_count": 12,
   "metadata": {
    "ExecuteTime": {
     "end_time": "2021-01-07T11:52:23.927980Z",
     "start_time": "2021-01-07T11:28:07.286473Z"
    },
    "scrolled": true
   },
   "outputs": [
    {
     "name": "stdout",
     "output_type": "stream",
     "text": [
      "0\n"
     ]
    },
    {
     "name": "stderr",
     "output_type": "stream",
     "text": [
      "100%|██████████| 4989/4989 [02:23<00:00, 34.69it/s]"
     ]
    },
    {
     "name": "stdout",
     "output_type": "stream",
     "text": [
      "1.4867789164708634\n",
      "1\n"
     ]
    },
    {
     "name": "stderr",
     "output_type": "stream",
     "text": [
      "\n",
      "100%|██████████| 4989/4989 [02:24<00:00, 34.49it/s]"
     ]
    },
    {
     "name": "stdout",
     "output_type": "stream",
     "text": [
      "1.5007754878749102\n",
      "2\n"
     ]
    },
    {
     "name": "stderr",
     "output_type": "stream",
     "text": [
      "\n",
      "100%|██████████| 4989/4989 [02:25<00:00, 34.36it/s]"
     ]
    },
    {
     "name": "stdout",
     "output_type": "stream",
     "text": [
      "1.6694258602117464\n",
      "3\n"
     ]
    },
    {
     "name": "stderr",
     "output_type": "stream",
     "text": [
      "\n",
      "100%|██████████| 4989/4989 [02:25<00:00, 34.32it/s]"
     ]
    },
    {
     "name": "stdout",
     "output_type": "stream",
     "text": [
      "1.713665906644035\n",
      "4\n"
     ]
    },
    {
     "name": "stderr",
     "output_type": "stream",
     "text": [
      "\n",
      "100%|██████████| 4989/4989 [02:25<00:00, 34.23it/s]"
     ]
    },
    {
     "name": "stdout",
     "output_type": "stream",
     "text": [
      "1.7680301611019353\n",
      "5\n"
     ]
    },
    {
     "name": "stderr",
     "output_type": "stream",
     "text": [
      "\n",
      "100%|██████████| 4989/4989 [02:25<00:00, 34.27it/s]"
     ]
    },
    {
     "name": "stdout",
     "output_type": "stream",
     "text": [
      "1.8241329058003402\n",
      "6\n"
     ]
    },
    {
     "name": "stderr",
     "output_type": "stream",
     "text": [
      "\n",
      "100%|██████████| 4989/4989 [02:25<00:00, 34.30it/s]"
     ]
    },
    {
     "name": "stdout",
     "output_type": "stream",
     "text": [
      "1.8315474072813152\n",
      "7\n"
     ]
    },
    {
     "name": "stderr",
     "output_type": "stream",
     "text": [
      "\n",
      "100%|██████████| 4989/4989 [02:26<00:00, 34.16it/s]"
     ]
    },
    {
     "name": "stdout",
     "output_type": "stream",
     "text": [
      "1.8654739562582707\n",
      "8\n"
     ]
    },
    {
     "name": "stderr",
     "output_type": "stream",
     "text": [
      "\n",
      "100%|██████████| 4989/4989 [02:25<00:00, 34.36it/s]"
     ]
    },
    {
     "name": "stdout",
     "output_type": "stream",
     "text": [
      "1.901343455764212\n",
      "9\n"
     ]
    },
    {
     "name": "stderr",
     "output_type": "stream",
     "text": [
      "\n",
      "100%|██████████| 4989/4989 [02:25<00:00, 34.23it/s]"
     ]
    },
    {
     "name": "stdout",
     "output_type": "stream",
     "text": [
      "1.9380225642872908\n"
     ]
    },
    {
     "name": "stderr",
     "output_type": "stream",
     "text": [
      "\n"
     ]
    }
   ],
   "source": [
    "import torch.optim as optim\n",
    "learning_rate = 0.05\n",
    "optimizer = optim.SGD(model.parameters(), lr=learning_rate)\n",
    "for e in range(10):\n",
    "    print(e)\n",
    "    loss_sum = 0\n",
    "    c = 0\n",
    "    xxx = [x.__iter__() for x in dldx]\n",
    "    j = 0\n",
    "    for i in tqdm(range((len(data_list)//batch_size) + 5)):\n",
    "        if len(xxx) == 0:\n",
    "            print('Done')\n",
    "            break\n",
    "        j = j % len(xxx)\n",
    "        try:\n",
    "            batch = xxx[j].__next__()\n",
    "        except StopIteration:\n",
    "            xxx.pop(j)\n",
    "            continue\n",
    "        j += 1\n",
    "        s1, s2, index = batch\n",
    "        s1 = s1.to(device)\n",
    "        s2 = s2.to(device)\n",
    "        loss = model(s1, s2)\n",
    "        loss_sum += loss.item()\n",
    "        c += 1\n",
    "        loss.backward()\n",
    "        optimizer.step()\n",
    "    print(loss_sum / c)"
   ]
  },
  {
   "cell_type": "code",
   "execution_count": 13,
   "metadata": {
    "ExecuteTime": {
     "end_time": "2021-01-07T11:52:23.933590Z",
     "start_time": "2021-01-07T11:52:23.929904Z"
    }
   },
   "outputs": [],
   "source": [
    "def t2s(t):\n",
    "    l = t.cpu().tolist()\n",
    "    print(l)\n",
    "    r = [id2w[x] for x in l[0]]\n",
    "    return ''.join(r)\n",
    "\n",
    "def get_next(s):\n",
    "    ids = torch.LongTensor(str2id(s))\n",
    "    print(ids)\n",
    "    ids = ids.unsqueeze(0).to(device)\n",
    "    r = model(ids)\n",
    "    r = r.argmax(dim=2)\n",
    "    return t2s(r)\n",
    "    \n",
    "        "
   ]
  },
  {
   "cell_type": "code",
   "execution_count": 14,
   "metadata": {
    "ExecuteTime": {
     "end_time": "2021-01-07T11:52:24.117566Z",
     "start_time": "2021-01-07T11:52:23.935307Z"
    }
   },
   "outputs": [
    {
     "name": "stdout",
     "output_type": "stream",
     "text": [
      "tensor([ 92, 551, 257,   6,  60,  65])\n",
      "[[6706, 2319, 1777, 1291, 6653, 3326]]\n"
     ]
    },
    {
     "data": {
      "text/plain": [
       "'脗宙羸互竛湄'"
      ]
     },
     "execution_count": 14,
     "metadata": {},
     "output_type": "execute_result"
    }
   ],
   "source": [
    "get_next('我从高山走来')"
   ]
  },
  {
   "cell_type": "code",
   "execution_count": 97,
   "metadata": {
    "ExecuteTime": {
     "end_time": "2020-12-26T12:27:21.405339Z",
     "start_time": "2020-12-26T12:27:21.398087Z"
    }
   },
   "outputs": [
    {
     "name": "stdout",
     "output_type": "stream",
     "text": [
      "tensor([ 962,  962, 1432, 1983])\n",
      "[[6706, 3502, 742, 6135]]\n"
     ]
    },
    {
     "data": {
      "text/plain": [
       "'脗鹧而暹'"
      ]
     },
     "execution_count": 97,
     "metadata": {},
     "output_type": "execute_result"
    }
   ],
   "source": [
    "get_next('好好学习')"
   ]
  },
  {
   "cell_type": "code",
   "execution_count": 98,
   "metadata": {
    "ExecuteTime": {
     "end_time": "2020-12-26T12:27:23.279015Z",
     "start_time": "2020-12-26T12:27:23.270691Z"
    }
   },
   "outputs": [
    {
     "name": "stdout",
     "output_type": "stream",
     "text": [
      "tensor([   1,  106, 1510,    6,   84])\n",
      "[[6706, 854, 463, 742, 6135]]\n"
     ]
    },
    {
     "data": {
      "text/plain": [
       "'脗遣兮而暹'"
      ]
     },
     "execution_count": 98,
     "metadata": {},
     "output_type": "execute_result"
    }
   ],
   "source": [
    "get_next('白日依山尽')"
   ]
  },
  {
   "cell_type": "code",
   "execution_count": null,
   "metadata": {},
   "outputs": [],
   "source": []
  }
 ],
 "metadata": {
  "kernelspec": {
   "display_name": "Python 3",
   "language": "python",
   "name": "python3"
  },
  "language_info": {
   "codemirror_mode": {
    "name": "ipython",
    "version": 3
   },
   "file_extension": ".py",
   "mimetype": "text/x-python",
   "name": "python",
   "nbconvert_exporter": "python",
   "pygments_lexer": "ipython3",
   "version": "3.8.1"
  },
  "toc": {
   "base_numbering": 1,
   "nav_menu": {},
   "number_sections": true,
   "sideBar": true,
   "skip_h1_title": false,
   "title_cell": "Table of Contents",
   "title_sidebar": "Contents",
   "toc_cell": false,
   "toc_position": {},
   "toc_section_display": true,
   "toc_window_display": false
  }
 },
 "nbformat": 4,
 "nbformat_minor": 4
}
