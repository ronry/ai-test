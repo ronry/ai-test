{
 "cells": [
  {
   "cell_type": "code",
   "execution_count": null,
   "metadata": {
    "ExecuteTime": {
     "start_time": "2023-05-03T10:10:36.269026Z",
     "end_time": "2023-05-03T10:10:37.471803Z"
    }
   },
   "outputs": [],
   "source": [
    "import torch\n",
    "import matplotlib.pyplot as plt\n",
    "\n",
    "\n",
    "#创建训练数据\n",
    "x = torch.rand(10,1)*10 #shape(10,1)\n",
    "y = 2*x + (5 + torch.randn(10,1))\n",
    "\n",
    "\n",
    "#构建线性回归参数\n",
    "w = torch.randn((1))#随机初始化w，要用到自动梯度求导\n",
    "b = torch.zeros((1))#使用0初始化b，要用到自动梯度求导"
   ]
  },
  {
   "cell_type": "code",
   "execution_count": null,
   "metadata": {
    "ExecuteTime": {
     "end_time": "2021-01-07T08:55:13.663921Z",
     "start_time": "2021-01-07T08:55:13.653680Z"
    }
   },
   "outputs": [],
   "source": [
    "wx = torch.mul(w,x) # w*x\n",
    "y_pred = torch.add(wx,b) # y = w*x + b"
   ]
  },
  {
   "cell_type": "code",
   "execution_count": null,
   "metadata": {
    "ExecuteTime": {
     "end_time": "2021-01-07T08:55:14.023779Z",
     "start_time": "2021-01-07T08:55:13.666429Z"
    }
   },
   "outputs": [],
   "source": [
    "loss = (0.5*(y-y_pred)**2).mean()"
   ]
  },
  {
   "cell_type": "code",
   "execution_count": null,
   "metadata": {
    "ExecuteTime": {
     "end_time": "2021-01-07T08:55:14.211822Z",
     "start_time": "2021-01-07T08:55:14.026046Z"
    }
   },
   "outputs": [],
   "source": [
    "import torch\n",
    "\n",
    "n_data = torch.ones(100, 2)\n",
    "xy0 = torch.normal(2 * n_data, 1.5)  # 生成均值为2.标准差为1.5的随机数组成的矩阵\n",
    "c0 = torch.zeros(100)\n",
    "xy1 = torch.normal(-2 * n_data, 1.5)  # 生成均值为-2.标准差为1.5的随机数组成的矩阵\n",
    "c1 = torch.ones(100)\n",
    "\n",
    "x,y = torch.cat((xy0,xy1),0).type(torch.FloatTensor).split(1, dim=1)\n",
    "x = x.squeeze()\n",
    "y = y.squeeze()\n",
    "c = torch.cat((c0,c1),0).type(torch.FloatTensor)"
   ]
  },
  {
   "cell_type": "code",
   "execution_count": null,
   "metadata": {
    "ExecuteTime": {
     "end_time": "2021-01-07T08:55:14.607748Z",
     "start_time": "2021-01-07T08:55:14.214016Z"
    }
   },
   "outputs": [],
   "source": [
    "import matplotlib.markers as mmarkers\n",
    "import matplotlib.pyplot as plt\n",
    "def plot(x, y, c):\n",
    "    ax = plt.gca()\n",
    "    sc = ax.scatter(x, y, color='black')\n",
    "    paths = []\n",
    "    for i in range(len(x)):\n",
    "        if c[i].item() == 0:\n",
    "            marker_obj = mmarkers.MarkerStyle('o')\n",
    "        else:\n",
    "            marker_obj = mmarkers.MarkerStyle('x')\n",
    "        path = marker_obj.get_path().transformed(marker_obj.get_transform())\n",
    "        paths.append(path)\n",
    "    sc.set_paths(paths)\n",
    "    return sc\n",
    "plot(x, y, c)\n",
    "plt.show()"
   ]
  },
  {
   "cell_type": "code",
   "execution_count": null,
   "metadata": {
    "ExecuteTime": {
     "end_time": "2021-01-07T08:55:19.320789Z",
     "start_time": "2021-01-07T08:55:19.315961Z"
    }
   },
   "outputs": [],
   "source": [
    "len(x)"
   ]
  },
  {
   "cell_type": "code",
   "execution_count": null,
   "metadata": {
    "ExecuteTime": {
     "end_time": "2021-01-07T08:55:28.575522Z",
     "start_time": "2021-01-07T08:55:26.236041Z"
    },
    "scrolled": true
   },
   "outputs": [],
   "source": [
    "#构建逻辑回归参数\n",
    "w = torch.tensor([1.,],requires_grad=True)#随机初始化w\n",
    "b = torch.zeros((1),requires_grad=True)#使用0初始化b\n",
    "\n",
    "xx = torch.arange(-4, 5)\n",
    "lr = 0.02 #学习率\n",
    "for iteration in range(100):\n",
    "    #前向传播\n",
    "    loss = ((torch.sigmoid(x*w+b-y) - c)**2).mean()\n",
    "    #反向传播\n",
    "    loss.backward()\n",
    "    #更新参数\n",
    "    b.data.sub_(lr*b.grad) # b = b - lr*b.grad\n",
    "    w.data.sub_(lr*w.grad) # w = w - lr*w.grad\n",
    "    #绘图\n",
    "    if iteration % 3 == 0:\n",
    "        plot(x, y, c)\n",
    "        yy = w*xx + b\n",
    "        plt.plot(xx.data.numpy(),yy.data.numpy(),'r-',lw=5)\n",
    "        plt.text(-4,2,'Loss=%.4f'%loss.data.numpy(),fontdict={'size':20,'color':'black'})\n",
    "        plt.xlim(-4,4)\n",
    "        plt.ylim(-4,4)\n",
    "        plt.title(\"Iteration:{}\\nw:{},b:{}\".format(iteration,w.data.numpy(),b.data.numpy()))\n",
    "        plt.show(0.5)\n",
    "\n",
    "        if loss.data.numpy() < 0.03:#停止条件\n",
    "            break"
   ]
  }
 ],
 "metadata": {
  "kernelspec": {
   "display_name": "Python 3",
   "language": "python",
   "name": "python3"
  },
  "language_info": {
   "codemirror_mode": {
    "name": "ipython",
    "version": 3
   },
   "file_extension": ".py",
   "mimetype": "text/x-python",
   "name": "python",
   "nbconvert_exporter": "python",
   "pygments_lexer": "ipython3",
   "version": "3.8.1"
  }
 },
 "nbformat": 4,
 "nbformat_minor": 4
}
