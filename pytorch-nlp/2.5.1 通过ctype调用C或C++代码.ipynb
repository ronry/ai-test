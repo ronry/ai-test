{
 "cells": [
  {
   "cell_type": "code",
   "execution_count": 1,
   "metadata": {
    "ExecuteTime": {
     "end_time": "2023-07-10T12:13:20.253725Z",
     "start_time": "2023-07-10T12:13:17.709223Z"
    }
   },
   "outputs": [],
   "source": [
    "import time\n",
    "c = 0\n",
    "val = 0\n",
    "for i in range(10):\n",
    "    if i < 5:\n",
    "        c += i\n",
    "        time.sleep(0.5)\n",
    "    else:\n",
    "        c += val"
   ]
  },
  {
   "cell_type": "code",
   "execution_count": 2,
   "metadata": {
    "ExecuteTime": {
     "end_time": "2023-07-10T12:13:20.267958Z",
     "start_time": "2023-07-10T12:13:20.265977Z"
    }
   },
   "outputs": [],
   "source": [
    "with open('bytes_modify.c', 'w') as f:\n",
    "    f.write('''\n",
    "    void modify_str(char * s, int i, char ch);\n",
    "    void modify_str(char * s, int i, char ch) {\n",
    "        s[i] = ch;\n",
    "    }\n",
    "    ''')"
   ]
  },
  {
   "cell_type": "code",
   "execution_count": 3,
   "metadata": {
    "ExecuteTime": {
     "end_time": "2023-07-10T12:13:22.182162Z",
     "start_time": "2023-07-10T12:13:20.268974Z"
    }
   },
   "outputs": [
    {
     "name": "stdout",
     "output_type": "stream",
     "text": [
      "ld: unknown option: -soname\r\n",
      "clang: \u001B[0;1;31merror: \u001B[0m\u001B[1mlinker command failed with exit code 1 (use -v to see invocation)\u001B[0m\r\n"
     ]
    }
   ],
   "source": [
    "!gcc -shared -Wl,-soname,adder -o bytes_modify.dll -fPIC bytes_modify.c"
   ]
  },
  {
   "cell_type": "code",
   "execution_count": 4,
   "metadata": {
    "ExecuteTime": {
     "end_time": "2023-07-10T12:13:22.191990Z",
     "start_time": "2023-07-10T12:13:22.184916Z"
    }
   },
   "outputs": [
    {
     "data": {
      "text/plain": "4406144640"
     },
     "execution_count": 4,
     "metadata": {},
     "output_type": "execute_result"
    }
   ],
   "source": [
    "b = b'hallo world!'\n",
    "id(b)"
   ]
  },
  {
   "cell_type": "code",
   "execution_count": 5,
   "metadata": {
    "ExecuteTime": {
     "end_time": "2023-07-10T12:13:22.344555Z",
     "start_time": "2023-07-10T12:13:22.191780Z"
    }
   },
   "outputs": [
    {
     "ename": "TypeError",
     "evalue": "'bytes' object does not support item assignment",
     "output_type": "error",
     "traceback": [
      "\u001B[0;31m---------------------------------------------------------------------------\u001B[0m",
      "\u001B[0;31mTypeError\u001B[0m                                 Traceback (most recent call last)",
      "Cell \u001B[0;32mIn[5], line 1\u001B[0m\n\u001B[0;32m----> 1\u001B[0m \u001B[43mb\u001B[49m\u001B[43m[\u001B[49m\u001B[38;5;241;43m1\u001B[39;49m\u001B[43m]\u001B[49m \u001B[38;5;241m=\u001B[39m \u001B[38;5;124mb\u001B[39m\u001B[38;5;124m'\u001B[39m\u001B[38;5;124me\u001B[39m\u001B[38;5;124m'\u001B[39m[\u001B[38;5;241m0\u001B[39m]\n",
      "\u001B[0;31mTypeError\u001B[0m: 'bytes' object does not support item assignment"
     ]
    }
   ],
   "source": [
    "b[1] = b'e'[0]"
   ]
  },
  {
   "cell_type": "code",
   "execution_count": null,
   "metadata": {},
   "outputs": [],
   "source": [
    "import ctypes\n",
    " \n",
    "bytes_modify = ctypes.cdll.LoadLibrary('./bytes_modify.dll')"
   ]
  },
  {
   "cell_type": "code",
   "execution_count": null,
   "metadata": {},
   "outputs": [],
   "source": [
    "bytes_modify.modify_str(b, 1, ord('e'))\n",
    "b, id(b)"
   ]
  }
 ],
 "metadata": {
  "kernelspec": {
   "display_name": "Python 3",
   "language": "python",
   "name": "python3"
  },
  "language_info": {
   "codemirror_mode": {
    "name": "ipython",
    "version": 3
   },
   "file_extension": ".py",
   "mimetype": "text/x-python",
   "name": "python",
   "nbconvert_exporter": "python",
   "pygments_lexer": "ipython3",
   "version": "3.8.1"
  },
  "toc": {
   "base_numbering": 1,
   "nav_menu": {},
   "number_sections": true,
   "sideBar": true,
   "skip_h1_title": false,
   "title_cell": "Table of Contents",
   "title_sidebar": "Contents",
   "toc_cell": false,
   "toc_position": {},
   "toc_section_display": true,
   "toc_window_display": false
  }
 },
 "nbformat": 4,
 "nbformat_minor": 4
}
