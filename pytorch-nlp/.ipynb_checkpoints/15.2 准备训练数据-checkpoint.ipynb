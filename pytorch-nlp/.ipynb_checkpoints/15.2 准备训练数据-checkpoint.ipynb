{
 "cells": [
  {
   "cell_type": "code",
   "execution_count": 2,
   "metadata": {
    "ExecuteTime": {
     "end_time": "2021-01-07T11:21:22.787028Z",
     "start_time": "2021-01-07T11:21:22.783000Z"
    }
   },
   "outputs": [],
   "source": [
    "import os\n",
    "path = 'chinese-poetry/json/'\n",
    "f_list = os.listdir(path)"
   ]
  },
  {
   "cell_type": "code",
   "execution_count": 3,
   "metadata": {
    "ExecuteTime": {
     "end_time": "2021-01-07T11:21:23.580069Z",
     "start_time": "2021-01-07T11:21:23.551482Z"
    }
   },
   "outputs": [],
   "source": [
    "f2j = {}\n",
    "with open('fanjian_suoyin.txt', encoding='utf8') as ffj:\n",
    "    for l in ffj:\n",
    "        fan, jian = l.strip().split('\\t')\n",
    "        f2j[fan] = jian"
   ]
  },
  {
   "cell_type": "code",
   "execution_count": 4,
   "metadata": {
    "ExecuteTime": {
     "end_time": "2021-01-07T11:21:24.561818Z",
     "start_time": "2021-01-07T11:21:24.556415Z"
    }
   },
   "outputs": [],
   "source": [
    "def f2jconv(fan):\n",
    "    ls = []\n",
    "    for ch in fan:\n",
    "        if ch not in f2j:\n",
    "            ls.append(ch)\n",
    "#             print('not found', ch)\n",
    "            continue\n",
    "        ls.append(f2j[ch])\n",
    "    return ''.join(ls)"
   ]
  },
  {
   "cell_type": "code",
   "execution_count": 5,
   "metadata": {
    "ExecuteTime": {
     "end_time": "2021-01-07T11:21:30.919477Z",
     "start_time": "2021-01-07T11:21:26.296219Z"
    }
   },
   "outputs": [],
   "source": [
    "import json\n",
    "tang = []\n",
    "for f in f_list:\n",
    "    if f.startswith('poet.tang.'):\n",
    "        with open(path + f, encoding='utf8') as f:\n",
    "            d = json.load(f)\n",
    "        for p in d:\n",
    "            for line in p['paragraphs']:\n",
    "                tang.append(f2jconv(line))\n",
    "song = []\n",
    "for f in f_list:\n",
    "    if f.startswith('poet.song.'):\n",
    "        with open(path + f, encoding='utf8') as f:\n",
    "            d = json.load(f)\n",
    "        for p in d:\n",
    "            for line in p['paragraphs']:\n",
    "                song.append(f2jconv(line))"
   ]
  },
  {
   "cell_type": "code",
   "execution_count": 6,
   "metadata": {
    "ExecuteTime": {
     "end_time": "2021-01-07T11:21:36.522972Z",
     "start_time": "2021-01-07T11:21:36.517180Z"
    }
   },
   "outputs": [],
   "source": [
    "def split_sentence(sentence_list):\n",
    "    result = []\n",
    "    errs = []\n",
    "    for s in sentence_list:\n",
    "        if not s:\n",
    "            continue\n",
    "        if s[-1] not in '，。':\n",
    "            errs.append(s)\n",
    "            continue\n",
    "        if '，' not in s:\n",
    "            if '？' not in s:\n",
    "                errs.append(s)\n",
    "                continue\n",
    "            else:\n",
    "                try:\n",
    "                    s1, s2 = s[:-1].split('？')\n",
    "                except ValueError:\n",
    "                    errs.append(s)\n",
    "                    continue\n",
    "        else:\n",
    "            try:\n",
    "                s1, s2 = s[:-1].split('，')\n",
    "            except ValueError:\n",
    "                errs.append(s)\n",
    "                continue\n",
    "        if len(s1) != len(s2):\n",
    "            errs.append(s)\n",
    "            continue\n",
    "        result.append([s1, s2])\n",
    "    return result, errs"
   ]
  },
  {
   "cell_type": "code",
   "execution_count": 7,
   "metadata": {
    "ExecuteTime": {
     "end_time": "2021-01-07T11:21:37.374229Z",
     "start_time": "2021-01-07T11:21:37.067782Z"
    }
   },
   "outputs": [],
   "source": [
    "r, e = split_sentence(tang)"
   ]
  },
  {
   "cell_type": "code",
   "execution_count": 8,
   "metadata": {
    "ExecuteTime": {
     "end_time": "2021-01-07T11:21:39.229216Z",
     "start_time": "2021-01-07T11:21:38.092517Z"
    }
   },
   "outputs": [],
   "source": [
    "r2, e2 = split_sentence(song)"
   ]
  },
  {
   "cell_type": "code",
   "execution_count": 9,
   "metadata": {
    "ExecuteTime": {
     "end_time": "2021-01-07T11:21:39.238916Z",
     "start_time": "2021-01-07T11:21:39.230693Z"
    }
   },
   "outputs": [],
   "source": [
    "import collections\n",
    "from tqdm import tqdm\n",
    "def static_tf(s_list):\n",
    "    wd = collections.Counter()\n",
    "    for w in s_list:\n",
    "        for x in w:\n",
    "            for ch in x:\n",
    "                wd[ch] += 1\n",
    "    return wd\n",
    "def remove_low_freq_wd(r, cnt=10):\n",
    "    print(len(r))\n",
    "    rr = []\n",
    "    for x in r:\n",
    "        if 4 < len(x[0]) < 10:\n",
    "            rr.append(x)\n",
    "    r = rr\n",
    "    print(len(r))\n",
    "    wd = static_tf(r)\n",
    "    char2remove = []\n",
    "    for k in wd:\n",
    "        if wd[k] < cnt:\n",
    "            char2remove.append(k)\n",
    "    print('要删除的字符数：', len(char2remove))\n",
    "    new_r = []\n",
    "    for s in tqdm(r):\n",
    "        f = True\n",
    "        for ch in char2remove:\n",
    "            if ch in s[0] or ch in s[1]:\n",
    "                f = False\n",
    "                break\n",
    "        if f:\n",
    "            new_r.append(s)\n",
    "    print(len(new_r) / len(r))\n",
    "    return new_r"
   ]
  },
  {
   "cell_type": "code",
   "execution_count": 10,
   "metadata": {
    "ExecuteTime": {
     "end_time": "2021-01-07T11:27:16.576921Z",
     "start_time": "2021-01-07T11:21:39.948516Z"
    }
   },
   "outputs": [
    {
     "name": "stdout",
     "output_type": "stream",
     "text": [
      "1323819\n",
      "1285127\n"
     ]
    },
    {
     "name": "stderr",
     "output_type": "stream",
     "text": [
      "  0%|          | 343/1285127 [00:00<06:15, 3424.49it/s]"
     ]
    },
    {
     "name": "stdout",
     "output_type": "stream",
     "text": [
      "要删除的字符数： 3646\n"
     ]
    },
    {
     "name": "stderr",
     "output_type": "stream",
     "text": [
      "100%|██████████| 1285127/1285127 [05:33<00:00, 3857.46it/s]"
     ]
    },
    {
     "name": "stdout",
     "output_type": "stream",
     "text": [
      "0.992876968579759\n"
     ]
    },
    {
     "name": "stderr",
     "output_type": "stream",
     "text": [
      "\n"
     ]
    }
   ],
   "source": [
    "new_r = remove_low_freq_wd(r+r2)"
   ]
  },
  {
   "cell_type": "code",
   "execution_count": 11,
   "metadata": {
    "ExecuteTime": {
     "end_time": "2021-01-07T11:27:24.067045Z",
     "start_time": "2021-01-07T11:27:21.879387Z"
    }
   },
   "outputs": [],
   "source": [
    "w2id = {'<unk>': 0}\n",
    "id2w = ['<unk>']\n",
    "i = 1\n",
    "for s in new_r:\n",
    "    for x in s:\n",
    "        for ch in x:\n",
    "            if ch not in w2id:\n",
    "                w2id[ch] = i\n",
    "                i += 1\n",
    "                id2w.append(ch)"
   ]
  },
  {
   "cell_type": "code",
   "execution_count": 12,
   "metadata": {
    "ExecuteTime": {
     "end_time": "2021-01-07T11:27:24.074417Z",
     "start_time": "2021-01-07T11:27:24.068260Z"
    }
   },
   "outputs": [
    {
     "data": {
      "text/plain": [
       "7042"
      ]
     },
     "execution_count": 12,
     "metadata": {},
     "output_type": "execute_result"
    }
   ],
   "source": [
    "len(w2id)"
   ]
  },
  {
   "cell_type": "code",
   "execution_count": 13,
   "metadata": {
    "ExecuteTime": {
     "end_time": "2021-01-07T11:27:29.552993Z",
     "start_time": "2021-01-07T11:27:26.286397Z"
    }
   },
   "outputs": [
    {
     "name": "stderr",
     "output_type": "stream",
     "text": [
      "100%|██████████| 1275973/1275973 [00:03<00:00, 392171.79it/s]\n"
     ]
    }
   ],
   "source": [
    "with open('w2id+.json', 'w') as f:\n",
    "    json.dump(w2id, f)\n",
    "with open('id2w+.json', 'w') as f:\n",
    "    json.dump(id2w, f)\n",
    "with open('data_splited+.jl', 'w') as f:\n",
    "    for l in tqdm(new_r):\n",
    "        f.write(json.dumps(l) + '\\n')"
   ]
  },
  {
   "cell_type": "code",
   "execution_count": null,
   "metadata": {},
   "outputs": [],
   "source": []
  }
 ],
 "metadata": {
  "kernelspec": {
   "display_name": "Python 3",
   "language": "python",
   "name": "python3"
  },
  "language_info": {
   "codemirror_mode": {
    "name": "ipython",
    "version": 3
   },
   "file_extension": ".py",
   "mimetype": "text/x-python",
   "name": "python",
   "nbconvert_exporter": "python",
   "pygments_lexer": "ipython3",
   "version": "3.8.1"
  },
  "toc": {
   "base_numbering": 1,
   "nav_menu": {},
   "number_sections": true,
   "sideBar": true,
   "skip_h1_title": false,
   "title_cell": "Table of Contents",
   "title_sidebar": "Contents",
   "toc_cell": false,
   "toc_position": {},
   "toc_section_display": true,
   "toc_window_display": false
  }
 },
 "nbformat": 4,
 "nbformat_minor": 4
}
