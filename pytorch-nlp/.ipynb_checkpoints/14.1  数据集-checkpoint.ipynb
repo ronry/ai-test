{
 "cells": [
  {
   "cell_type": "markdown",
   "metadata": {},
   "source": [
    "# 下载数据"
   ]
  },
  {
   "cell_type": "code",
   "execution_count": 1,
   "metadata": {
    "ExecuteTime": {
     "end_time": "2021-01-07T10:21:52.626418Z",
     "start_time": "2021-01-07T10:15:20.417603Z"
    }
   },
   "outputs": [
    {
     "name": "stdout",
     "output_type": "stream",
     "text": [
      "Cloning into 'neural-chinese-address-parsing'...\n",
      "remote: Enumerating objects: 87, done.\u001b[K\n",
      "remote: Total 87 (delta 0), reused 0 (delta 0), pack-reused 87\u001b[K\n",
      "Unpacking objects: 100% (87/87), 4.52 MiB | 12.00 KiB/s, done.\n"
     ]
    }
   ],
   "source": [
    "!git clone https://github.com/leodotnet/neural-chinese-address-parsing"
   ]
  },
  {
   "cell_type": "code",
   "execution_count": 2,
   "metadata": {
    "ExecuteTime": {
     "end_time": "2021-01-07T10:22:43.233029Z",
     "start_time": "2021-01-07T10:22:43.058420Z"
    }
   },
   "outputs": [
    {
     "name": "stdout",
     "output_type": "stream",
     "text": [
      "==> neural-chinese-address-parsing/data/dev.txt <==\r\n",
      "宁 B-city\r\n",
      "波 I-city\r\n",
      "市 I-city\r\n",
      "江 B-district\r\n",
      "东 I-district\r\n",
      "区 I-district\r\n",
      "金 B-road\r\n",
      "家 I-road\r\n",
      "一 I-road\r\n",
      "路 I-road\r\n",
      "\r\n",
      "==> neural-chinese-address-parsing/data/labels.txt <==\r\n",
      "country\r\n",
      "prov\r\n",
      "city\r\n",
      "district\r\n",
      "devzone\r\n",
      "town\r\n",
      "community\r\n",
      "road\r\n",
      "subroad\r\n",
      "roadno\r\n",
      "\r\n",
      "==> neural-chinese-address-parsing/data/test.txt <==\r\n",
      "龙 B-town\r\n",
      "港 I-town\r\n",
      "镇 I-town\r\n",
      "泰 B-poi\r\n",
      "和 I-poi\r\n",
      "小 I-poi\r\n",
      "区 I-poi\r\n",
      "B B-houseno\r\n",
      "懂 I-houseno\r\n",
      "1097 B-roomno\r\n",
      "\r\n",
      "==> neural-chinese-address-parsing/data/train.txt <==\r\n",
      "龙 B-town\r\n",
      "山 I-town\r\n",
      "镇 I-town\r\n",
      "慈 B-community\r\n",
      "东 I-community\r\n",
      "滨 B-redundant\r\n",
      "海 I-redundant\r\n",
      "区 I-redundant\r\n",
      "海 B-road\r\n",
      "丰 I-road\r\n"
     ]
    }
   ],
   "source": [
    "!head neural-chinese-address-parsing/data/*.txt"
   ]
  },
  {
   "cell_type": "code",
   "execution_count": 3,
   "metadata": {
    "ExecuteTime": {
     "end_time": "2021-01-07T10:22:47.117902Z",
     "start_time": "2021-01-07T10:22:47.109252Z"
    }
   },
   "outputs": [],
   "source": [
    "def get_data_list(fn):\n",
    "    with open(fn) as f:\n",
    "        data_list = []  # 空的数据列表\n",
    "        token, label = [], []  # 当前数据的字符和标签序列\n",
    "        for l in f:\n",
    "            l = l.strip().split()\n",
    "            if not l:  # 如果 l 为空，说明当前数据结束了\n",
    "                data_list.append([token, label])\n",
    "                token, label = [], []\n",
    "                continue\n",
    "            token.append(l[0])\n",
    "            label.append(l[1])\n",
    "        assert len(token) == 0  # 数据最后一行应该是空行\n",
    "    return data_list"
   ]
  },
  {
   "cell_type": "code",
   "execution_count": 4,
   "metadata": {
    "ExecuteTime": {
     "end_time": "2021-01-07T10:22:48.430296Z",
     "start_time": "2021-01-07T10:22:48.182731Z"
    }
   },
   "outputs": [
    {
     "name": "stdout",
     "output_type": "stream",
     "text": [
      "46\n",
      "       I-poi  40691  16.29 %\n",
      "      I-road  21570  8.64 %\n",
      "  I-district  19177  7.68 %\n",
      "      I-town  15232  6.10 %\n",
      "      I-city  14823  5.94 %\n",
      "      I-prov  12303  4.93 %\n",
      "       B-poi  10527  4.22 %\n",
      "  B-district   9829  3.94 %\n",
      "      B-road   8999  3.60 %\n",
      "      B-city   8099  3.24 %\n",
      "    B-roadno   7152  2.86 %\n",
      "    I-subpoi   6668  2.67 %\n",
      "    I-roadno   6607  2.65 %\n",
      "      B-town   6580  2.63 %\n",
      "      B-prov   6376  2.55 %\n",
      " B-redundant   5862  2.35 %\n",
      " I-redundant   5191  2.08 %\n",
      "   B-houseno   4914  1.97 %\n",
      " I-community   4509  1.81 %\n",
      "    B-roomno   4409  1.77 %\n",
      "   I-houseno   4324  1.73 %\n",
      "    I-person   3388  1.36 %\n",
      "   I-devZone   2487  1.00 %\n",
      "    B-subpoi   2383  0.95 %\n",
      " B-community   2110  0.84 %\n",
      "    I-cellno   2094  0.84 %\n",
      "    B-cellno   1880  0.75 %\n",
      "   I-floorno   1810  0.72 %\n",
      "   B-floorno   1796  0.72 %\n",
      "    I-roomno   1736  0.70 %\n",
      "    B-assist   1165  0.47 %\n",
      "    B-person   1065  0.43 %\n",
      "    I-assist   1058  0.42 %\n",
      "   I-subRoad   1045  0.42 %\n",
      "   B-subRoad    569  0.23 %\n",
      "   B-devZone    555  0.22 %\n",
      " B-subroadno    312  0.12 %\n",
      " I-subroadno    288  0.12 %\n",
      "   I-country     72  0.03 %\n",
      "   B-country     69  0.03 %\n",
      " B-otherinfo      7  0.00 %\n",
      "   I-subroad      5  0.00 %\n",
      "   B-subroad      3  0.00 %\n",
      " I-otherinfo      3  0.00 %\n",
      " B-subRoadno      1  0.00 %\n",
      " I-subRoadno      1  0.00 %\n"
     ]
    }
   ],
   "source": [
    "import collections\n",
    "train_data = get_data_list('neural-chinese-address-parsing/data/train.txt')\n",
    "dev_data = get_data_list('neural-chinese-address-parsing/data/dev.txt')\n",
    "test_data = get_data_list('neural-chinese-address-parsing/data/test.txt')\n",
    "label_counter = collections.Counter()\n",
    "all_cnt = 0\n",
    "for d in train_data + dev_data + test_data:\n",
    "    for label in d[1]:\n",
    "        label_counter[label] += 1\n",
    "        all_cnt += 1\n",
    "print(len(label_counter))\n",
    "label_list = list(label_counter.items())\n",
    "label_list.sort(key=lambda x:-x[1])\n",
    "for label, cnt in label_list:\n",
    "    print('%12s  %5d  %4.2f %%' % (label, cnt, cnt / all_cnt * 100))"
   ]
  },
  {
   "cell_type": "code",
   "execution_count": 5,
   "metadata": {
    "ExecuteTime": {
     "end_time": "2021-01-07T10:22:51.846934Z",
     "start_time": "2021-01-07T10:22:51.831623Z"
    }
   },
   "outputs": [
    {
     "name": "stdout",
     "output_type": "stream",
     "text": [
      "34\n",
      "{'B-prov': 0, 'I-prov': 1, 'B-city': 2, 'I-city': 3, 'B-district': 4, 'I-district': 5, 'B-town': 6, 'I-town': 7, 'I-community': 8, 'B-road': 9, 'I-road': 10, 'B-roadno': 11, 'I-roadno': 12, 'B-poi': 13, 'I-poi': 14, 'B-houseno': 15, 'I-houseno': 16, 'I-cellno': 17, 'I-floorno': 18, 'I-roomno': 19, 'B-assist': 20, 'I-assist': 21, 'I-country': 22, 'I-devZone': 23, 'I-otherinfo': 24, 'B-person': 25, 'I-person': 26, 'B-redundant': 27, 'I-redundant': 28, 'B-subpoi': 29, 'I-subpoi': 30, 'B-subroad': 31, 'I-subroad': 32, 'I-subroadno': 33}\n"
     ]
    }
   ],
   "source": [
    "mod_cnt = 0\n",
    "T0 = ['redundant']\n",
    "T1 = ['town', 'poi', 'assist']\n",
    "T2 = ['houseno', 'city', 'district', 'road', 'roadno', 'subpoi', 'subRoad', 'person']\n",
    "T3 = ['prov']\n",
    "T4 = ['roomno', 'cellno', 'community', 'devZone', 'subroadno', 'floorno', 'country', 'otherinfo']\n",
    "\n",
    "olabels = ['B-assist', 'I-assist', 'B-cellno', 'I-cellno', 'B-city', 'I-city', 'B-community', 'I-community', 'B-country', 'I-country', 'B-devZone', 'I-devZone', 'B-district', 'I-district', 'B-floorno', 'I-floorno', 'B-houseno', 'I-houseno', 'B-otherinfo', 'I-otherinfo', 'B-person', 'I-person', 'B-poi', 'I-poi', 'B-prov', 'I-prov', 'B-redundant', 'I-redundant', 'B-road', 'I-road', 'B-roadno', 'I-roadno', 'B-roomno', 'I-roomno', 'B-subRoad', 'I-subRoad', 'B-subRoadno', 'I-subRoadno', 'B-subpoi', 'I-subpoi', 'B-subroad', 'I-subroad', 'B-subroadno', 'I-subroadno', 'B-town', 'I-town']\n",
    "olabels2id = {}\n",
    "for i, l in enumerate(olabels):\n",
    "    olabels2id[l] = i\n",
    "labels = ['B-prov', 'I-prov', 'B-city', 'I-city', 'B-district', 'I-district', 'B-town', 'I-town',  'I-community', 'B-road', 'I-road', 'B-roadno', 'I-roadno', 'B-poi', 'I-poi', 'B-houseno', 'I-houseno', 'I-cellno', 'I-floorno', 'I-roomno', 'B-assist', 'I-assist', 'I-country', 'I-devZone', 'I-otherinfo', 'B-person', 'I-person', 'B-redundant', 'I-redundant', 'B-subpoi', 'I-subpoi', 'B-subroad', 'I-subroad', 'I-subroadno', ]\n",
    "print(len(labels))\n",
    "num_labels = len(labels)\n",
    "\n",
    "label2id = {}\n",
    "for i, l in enumerate(labels):\n",
    "    label2id[l] = i\n",
    "print(label2id)\n",
    "remove_labels = T4\n",
    "def get_data_list(fn):\n",
    "    global mod_cnt\n",
    "    with open(fn) as f:\n",
    "        data_list = []\n",
    "        origin_token, token, label, origin_label = [], [], [], []\n",
    "        for l in f:\n",
    "            l = l.strip().split()\n",
    "            if not l:\n",
    "                data_list.append([token, label, origin_label, origin_token])\n",
    "                origin_token, token, label, origin_label = [], [], [], []\n",
    "                continue\n",
    "            if l[1] == 'B-subRoadno':\n",
    "                l[1] = 'B-subroadno'\n",
    "            elif l[1] == 'I-subRoadno':\n",
    "                l[1] = 'I-subroadno'\n",
    "            elif l[1] == 'B-subRoad':\n",
    "                l[1] = 'B-subroad'\n",
    "            elif l[1] == 'I-subRoad':\n",
    "                l[1] = 'I-subroad'\n",
    "            # 去除某些 B 标签\n",
    "            ll = l[1]\n",
    "            if l[1][0] == 'B' and l[1][2:] in remove_labels:\n",
    "                ll = 'I' + l[1][1:]\n",
    "                mod_cnt += 1\n",
    "            if len(l[0]) == 1:\n",
    "                token.append(l[0])\n",
    "                label.append(label2id[ll])\n",
    "            else:\n",
    "                the_type = ll[1:]\n",
    "                for i, tok in enumerate(l[0]):\n",
    "                    token.append(tok)\n",
    "                    if i == 0:\n",
    "                        label.append(label2id[ll])\n",
    "                    else:\n",
    "                        label.append(label2id['I'+the_type])\n",
    "\n",
    "            if len(l[0]) == 1:\n",
    "                origin_label.append(l[1])\n",
    "            else:\n",
    "                the_type = l[1][1:]\n",
    "                for i, tok in enumerate(l[0]):\n",
    "                    if i == 0:\n",
    "                        origin_label.append(l[1])\n",
    "                    else:\n",
    "                        origin_label.append('I'+the_type)\n",
    "            origin_token.append(l[0])\n",
    "        assert len(token) == 0\n",
    "    return data_list"
   ]
  },
  {
   "cell_type": "code",
   "execution_count": 6,
   "metadata": {
    "ExecuteTime": {
     "end_time": "2021-01-07T10:22:53.453045Z",
     "start_time": "2021-01-07T10:22:52.944777Z"
    }
   },
   "outputs": [
    {
     "name": "stdout",
     "output_type": "stream",
     "text": [
      "34\n",
      "          14  40899  14.45 %\n",
      "          10  21687  7.66 %\n",
      "          12  21272  7.51 %\n",
      "           5  19177  6.77 %\n",
      "          19  17511  6.19 %\n",
      "           7  15232  5.38 %\n",
      "           3  14823  5.24 %\n",
      "           1  12303  4.35 %\n",
      "          13  10527  3.72 %\n",
      "           4   9829  3.47 %\n",
      "           9   8999  3.18 %\n",
      "          16   8413  2.97 %\n",
      "           2   8099  2.86 %\n",
      "          11   7152  2.53 %\n",
      "          30   6750  2.38 %\n",
      "           8   6623  2.34 %\n",
      "           6   6580  2.32 %\n",
      "           0   6376  2.25 %\n",
      "          27   5862  2.07 %\n",
      "          28   5623  1.99 %\n",
      "          15   4914  1.74 %\n",
      "          17   4649  1.64 %\n",
      "          18   4356  1.54 %\n",
      "          26   3616  1.28 %\n",
      "          23   3042  1.07 %\n",
      "          29   2383  0.84 %\n",
      "          32   1266  0.45 %\n",
      "          20   1165  0.41 %\n",
      "          21   1131  0.40 %\n",
      "          25   1065  0.38 %\n",
      "          33   1038  0.37 %\n",
      "          31    572  0.20 %\n",
      "          22    141  0.05 %\n",
      "          24     16  0.01 %\n"
     ]
    }
   ],
   "source": [
    "import collections\n",
    "train_data = get_data_list('neural-chinese-address-parsing/data/train.txt')\n",
    "dev_data = get_data_list('neural-chinese-address-parsing/data/dev.txt')\n",
    "test_data = get_data_list('neural-chinese-address-parsing/data/test.txt')\n",
    "label_counter = collections.Counter()\n",
    "all_cnt = 0\n",
    "for d in train_data + dev_data + test_data:\n",
    "    for label in d[1]:\n",
    "        label_counter[label] += 1\n",
    "        all_cnt += 1\n",
    "print(len(label_counter))\n",
    "label_list = list(label_counter.items())\n",
    "label_list.sort(key=lambda x:-x[1])\n",
    "for label, cnt in label_list:\n",
    "    print('%12s  %5d  %4.2f %%' % (label, cnt, cnt / all_cnt * 100))"
   ]
  },
  {
   "cell_type": "code",
   "execution_count": 7,
   "metadata": {
    "ExecuteTime": {
     "end_time": "2021-01-07T10:23:12.222850Z",
     "start_time": "2021-01-07T10:23:12.089086Z"
    }
   },
   "outputs": [
    {
     "name": "stdout",
     "output_type": "stream",
     "text": [
      "6082\n"
     ]
    }
   ],
   "source": [
    "word_embedding_file = 'neural-chinese-address-parsing/data/giga.vec100'\n",
    "word2vec = {}\n",
    "with open(word_embedding_file) as ff:\n",
    "    for l in ff:\n",
    "        l = l.strip().split(' ')\n",
    "        word2vec[l[0]] = [float(x) for x in l[1:]]\n",
    "print(len(word2vec))"
   ]
  },
  {
   "cell_type": "code",
   "execution_count": null,
   "metadata": {},
   "outputs": [],
   "source": []
  }
 ],
 "metadata": {
  "kernelspec": {
   "display_name": "Python 3",
   "language": "python",
   "name": "python3"
  },
  "language_info": {
   "codemirror_mode": {
    "name": "ipython",
    "version": 3
   },
   "file_extension": ".py",
   "mimetype": "text/x-python",
   "name": "python",
   "nbconvert_exporter": "python",
   "pygments_lexer": "ipython3",
   "version": "3.8.1"
  }
 },
 "nbformat": 4,
 "nbformat_minor": 4
}
