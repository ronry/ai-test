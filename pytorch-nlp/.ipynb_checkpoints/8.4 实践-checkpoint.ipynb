{
 "cells": [
  {
   "cell_type": "markdown",
   "metadata": {},
   "source": [
    "由于文件 Tencent_AILab_ChineseEmbedding.txt 太大，需要先到 https://ai.tencent.com/ailab/nlp/zh/embedding.html 下载，并解压出该文件到同一目录下才可运行本代码"
   ]
  },
  {
   "cell_type": "code",
   "execution_count": 1,
   "metadata": {
    "ExecuteTime": {
     "end_time": "2020-09-08T13:51:54.720742Z",
     "start_time": "2020-09-08T13:51:50.740198Z"
    }
   },
   "outputs": [
    {
     "name": "stderr",
     "output_type": "stream",
     "text": [
      "Building prefix dict from the default dictionary ...\n",
      "Loading model from cache C:\\Users\\sxwxs\\AppData\\Local\\Temp\\jieba.cache\n",
      "Loading model cost 0.800 seconds.\n",
      "Prefix dict has been built successfully.\n"
     ]
    }
   ],
   "source": [
    "# 定义两个list分别存放两个板块的帖子数据\n",
    "import jieba\n",
    "academy_titles = []\n",
    "job_titles = []\n",
    "with open('academy_titles.txt', encoding='utf8') as f:\n",
    "    for l in f:  # 按行读取文件\n",
    "        academy_titles.append(list(jieba.cut(l.strip( ))))  # strip 方法用于去掉行尾空格\n",
    "with open('job_titles.txt', encoding='utf8') as f:\n",
    "    for l in f:  # 按行读取文件\n",
    "        job_titles.append(list(jieba.cut(l.strip( ))))  # strip 方法用于去掉行尾空格"
   ]
  },
  {
   "cell_type": "code",
   "execution_count": 2,
   "metadata": {
    "ExecuteTime": {
     "end_time": "2020-09-08T13:51:54.736727Z",
     "start_time": "2020-09-08T13:51:54.722734Z"
    }
   },
   "outputs": [
    {
     "data": {
      "text/plain": [
       "['出售', '人大', '新闻', '学院', '2015', '年', '考研', '权威', '资料']"
      ]
     },
     "execution_count": 2,
     "metadata": {},
     "output_type": "execute_result"
    }
   ],
   "source": [
    "academy_titles[2]"
   ]
  },
  {
   "cell_type": "code",
   "execution_count": 3,
   "metadata": {
    "ExecuteTime": {
     "end_time": "2020-09-08T13:51:55.027851Z",
     "start_time": "2020-09-08T13:51:54.739725Z"
    }
   },
   "outputs": [
    {
     "name": "stdout",
     "output_type": "stream",
     "text": [
      "4059\n"
     ]
    }
   ],
   "source": [
    "word_set = set()\n",
    "for title in academy_titles:\n",
    "    for word in title:\n",
    "        word_set.add(word.lower())\n",
    "for title in job_titles:\n",
    "    for word in title:\n",
    "        word_set.add(word.lower())\n",
    "print(len(word_set))"
   ]
  },
  {
   "cell_type": "code",
   "execution_count": 92,
   "metadata": {
    "ExecuteTime": {
     "end_time": "2020-09-08T13:35:55.130880Z",
     "start_time": "2020-09-08T13:32:31.339004Z"
    }
   },
   "outputs": [
    {
     "name": "stderr",
     "output_type": "stream",
     "text": [
      "8824331it [03:23, 43384.95it/s]\n"
     ]
    }
   ],
   "source": [
    "from tqdm import tqdm\n",
    "f = open('Tencent_AILab_ChineseEmbedding.txt', encoding='utf8')\n",
    "word2v = {}\n",
    "wl = []\n",
    "for l in tqdm(f):\n",
    "    l = l.strip().split(' ')\n",
    "    wl.append(l[0])\n",
    "    if l[0] in word_set:\n",
    "        word2v[l[0]] = list(map(float, l[1:]))"
   ]
  },
  {
   "cell_type": "code",
   "execution_count": 93,
   "metadata": {
    "ExecuteTime": {
     "end_time": "2020-09-08T13:38:39.622859Z",
     "start_time": "2020-09-08T13:38:39.609868Z"
    }
   },
   "outputs": [
    {
     "data": {
      "text/plain": [
       "3924"
      ]
     },
     "execution_count": 93,
     "metadata": {},
     "output_type": "execute_result"
    }
   ],
   "source": [
    "len(word2v)"
   ]
  },
  {
   "cell_type": "code",
   "execution_count": 4,
   "metadata": {
    "ExecuteTime": {
     "end_time": "2020-09-08T13:52:03.518770Z",
     "start_time": "2020-09-08T13:52:03.250626Z"
    }
   },
   "outputs": [],
   "source": [
    "import json\n",
    "with open('word2v', 'r') as f:\n",
    "    word2v = json.load(f)"
   ]
  },
  {
   "cell_type": "code",
   "execution_count": 5,
   "metadata": {
    "ExecuteTime": {
     "end_time": "2020-09-08T13:52:06.290577Z",
     "start_time": "2020-09-08T13:52:06.272587Z"
    }
   },
   "outputs": [
    {
     "data": {
      "text/plain": [
       "4059"
      ]
     },
     "execution_count": 5,
     "metadata": {},
     "output_type": "execute_result"
    }
   ],
   "source": [
    "len(word_set)"
   ]
  },
  {
   "cell_type": "code",
   "execution_count": 95,
   "metadata": {
    "ExecuteTime": {
     "end_time": "2020-09-08T13:38:47.219700Z",
     "start_time": "2020-09-08T13:38:47.208704Z"
    }
   },
   "outputs": [
    {
     "data": {
      "text/plain": [
       "161"
      ]
     },
     "execution_count": 95,
     "metadata": {},
     "output_type": "execute_result"
    }
   ],
   "source": [
    "4085-3924"
   ]
  },
  {
   "cell_type": "code",
   "execution_count": 96,
   "metadata": {
    "ExecuteTime": {
     "end_time": "2020-09-08T13:41:41.922297Z",
     "start_time": "2020-09-08T13:41:41.912303Z"
    }
   },
   "outputs": [],
   "source": [
    "dx = []\n",
    "for wd in word_set:\n",
    "    if wd.lower() not in word2v:\n",
    "        dx.append(wd)"
   ]
  },
  {
   "cell_type": "code",
   "execution_count": 97,
   "metadata": {
    "ExecuteTime": {
     "end_time": "2020-09-08T13:41:42.600969Z",
     "start_time": "2020-09-08T13:41:42.581980Z"
    }
   },
   "outputs": [
    {
     "data": {
      "text/plain": [
       "135"
      ]
     },
     "execution_count": 97,
     "metadata": {},
     "output_type": "execute_result"
    }
   ],
   "source": [
    "len(dx)"
   ]
  },
  {
   "cell_type": "code",
   "execution_count": 84,
   "metadata": {
    "ExecuteTime": {
     "end_time": "2020-09-08T13:30:46.835863Z",
     "start_time": "2020-09-08T13:30:46.829865Z"
    }
   },
   "outputs": [
    {
     "data": {
      "text/plain": [
       "8824331"
      ]
     },
     "execution_count": 84,
     "metadata": {},
     "output_type": "execute_result"
    }
   ],
   "source": [
    "len(wl)"
   ]
  },
  {
   "cell_type": "code",
   "execution_count": 90,
   "metadata": {
    "ExecuteTime": {
     "end_time": "2020-09-08T13:31:32.937113Z",
     "start_time": "2020-09-08T13:31:32.925121Z"
    }
   },
   "outputs": [
    {
     "data": {
      "text/plain": [
       "True"
      ]
     },
     "execution_count": 90,
     "metadata": {},
     "output_type": "execute_result"
    }
   ],
   "source": [
    "'NLP'.lower() in wl"
   ]
  },
  {
   "cell_type": "code",
   "execution_count": 98,
   "metadata": {
    "ExecuteTime": {
     "end_time": "2020-09-08T13:41:45.650372Z",
     "start_time": "2020-09-08T13:41:45.638380Z"
    }
   },
   "outputs": [
    {
     "data": {
      "text/plain": [
       "['omnet',\n",
       " '央企校',\n",
       " '超推客',\n",
       " '怡安翰',\n",
       " '高德校',\n",
       " '投邀',\n",
       " '爱云校',\n",
       " '最幕',\n",
       " '思塾',\n",
       " 'atee',\n",
       " 'shantie',\n",
       " '有意者',\n",
       " '社招校',\n",
       " '〜',\n",
       " '强央企',\n",
       " '创鑫者',\n",
       " '肆阅',\n",
       " '郭桃梅',\n",
       " '部牛海晶',\n",
       " '届秋招',\n",
       " '------------------------------------------------------',\n",
       " '校招组',\n",
       " '正和思齐',\n",
       " '-----',\n",
       " '极宇舟',\n",
       " '-------------------------------------------------------------------------',\n",
       " '山之雨',\n",
       " '管培校',\n",
       " '问汉硕',\n",
       " '找频',\n",
       " 'nttchina',\n",
       " '崔玉涛育',\n",
       " '有北师',\n",
       " '广汽蔚',\n",
       " '点半学',\n",
       " '-------------------------------------------------------------',\n",
       " '研二研',\n",
       " '2019cgpis',\n",
       " '2020he',\n",
       " '《',\n",
       " '联培博后',\n",
       " '所博后',\n",
       " '80%',\n",
       " ' ',\n",
       " '技术社',\n",
       " '上春招',\n",
       " '...',\n",
       " '医渡云',\n",
       " '巨丰金控',\n",
       " '手秋',\n",
       " '建习',\n",
       " '托标品',\n",
       " '100ddb',\n",
       " '聘写',\n",
       " 'iflyer',\n",
       " '校招会',\n",
       " 'da4sacc',\n",
       " 'ᴗ',\n",
       " '卫健委',\n",
       " '北师汉硕',\n",
       " '浩瑞恩',\n",
       " '评录',\n",
       " '111111111345324532',\n",
       " '冶乐',\n",
       " '采知',\n",
       " '-----------------------------------------------------------',\n",
       " '陷锁',\n",
       " '易莱博',\n",
       " '度小满',\n",
       " '空天院',\n",
       " '日教十',\n",
       " '蜂位',\n",
       " 'u9frmu',\n",
       " '春招群',\n",
       " '++',\n",
       " '日新开',\n",
       " '链智米',\n",
       " '天合光',\n",
       " '太创',\n",
       " '中教图',\n",
       " '´',\n",
       " '易比得',\n",
       " 'cdrf',\n",
       " '荟星',\n",
       " '---------------------------------------------------------------',\n",
       " '阅思',\n",
       " '培新朗英',\n",
       " 'deecamp2019',\n",
       " '微威课',\n",
       " '联培生',\n",
       " 'yoofu',\n",
       " '选书组',\n",
       " '乐居乐出',\n",
       " '步印童',\n",
       " '仕习生',\n",
       " 'cctv17',\n",
       " '类微博',\n",
       " '--',\n",
       " '毅雄恩',\n",
       " '部小爱',\n",
       " '运维内',\n",
       " '--------------------------------------------------------------------------',\n",
       " '招小中',\n",
       " '･',\n",
       " '考博有',\n",
       " '译检',\n",
       " '尽在沃',\n",
       " '慧矩',\n",
       " '京彩宁行',\n",
       " '伊迦云',\n",
       " '问北师',\n",
       " 'basilinna',\n",
       " '有愿景',\n",
       " 'mate20x',\n",
       " '曼迪匹',\n",
       " '高思校',\n",
       " '挑图师',\n",
       " '保数科',\n",
       " '科创乐',\n",
       " '，',\n",
       " '周哥教',\n",
       " '优悦生',\n",
       " '¥',\n",
       " '硕汉硕',\n",
       " '----',\n",
       " '研学营',\n",
       " 'crazymaplestudio',\n",
       " '汉硕汉',\n",
       " 'puapdo',\n",
       " '------------',\n",
       " 'dmall2020',\n",
       " '------------------------------------------------------------',\n",
       " '荟同',\n",
       " '预荐',\n",
       " '淘璞']"
      ]
     },
     "execution_count": 98,
     "metadata": {},
     "output_type": "execute_result"
    }
   ],
   "source": [
    "dx"
   ]
  },
  {
   "cell_type": "code",
   "execution_count": 6,
   "metadata": {
    "ExecuteTime": {
     "end_time": "2020-09-08T13:52:16.867804Z",
     "start_time": "2020-09-08T13:52:10.369917Z"
    }
   },
   "outputs": [],
   "source": [
    "import torch\n",
    "\n",
    "def title_to_tensor(title):\n",
    "    words_vectors = []\n",
    "    for word in title:\n",
    "        if word in word2v:\n",
    "            words_vectors.append(word2v[word])\n",
    "    tensor = torch.tensor(words_vectors, dtype=torch.float)\n",
    "    return tensor"
   ]
  },
  {
   "cell_type": "code",
   "execution_count": 7,
   "metadata": {
    "ExecuteTime": {
     "end_time": "2020-09-08T13:52:16.883791Z",
     "start_time": "2020-09-08T13:52:16.871798Z"
    }
   },
   "outputs": [],
   "source": [
    "import torch.nn as nn\n",
    "\n",
    "class RNN(nn.Module):\n",
    "    def __init__(self, embedding_size, hidden_size, output_size):\n",
    "        super(RNN, self).__init__()\n",
    "        self.hidden_size = hidden_size\n",
    "        self.i2h = nn.Linear(embedding_size + hidden_size, hidden_size)\n",
    "        self.i2o = nn.Linear(embedding_size + hidden_size, output_size)\n",
    "        self.softmax = nn.LogSoftmax(dim=1)\n",
    "\n",
    "    def forward(self, input_tensor, hidden):\n",
    "        word_vector = input_tensor\n",
    "        combined = torch.cat((word_vector, hidden), 1)\n",
    "        hidden = self.i2h(combined)\n",
    "        output = self.i2o(combined)\n",
    "        output = self.softmax(output)\n",
    "        return output, hidden\n",
    "\n",
    "    def initHidden(self):\n",
    "        return torch.zeros(1, self.hidden_size)\n",
    "\n",
    "embedding_size = 200\n",
    "n_hidden = 128\n",
    "n_categories = 2\n",
    "rnn = RNN(embedding_size, n_hidden, n_categories)"
   ]
  },
  {
   "cell_type": "code",
   "execution_count": 101,
   "metadata": {
    "ExecuteTime": {
     "end_time": "2020-09-08T13:47:31.538306Z",
     "start_time": "2020-09-08T13:47:31.524312Z"
    }
   },
   "outputs": [
    {
     "name": "stdout",
     "output_type": "stream",
     "text": [
      "input_tensor:\n",
      " tensor([[ 0.0742, -0.3248, -0.0943,  ...,  0.2085,  0.2082,  0.0204],\n",
      "        [ 0.1694,  0.0449, -0.2015,  ..., -0.2293,  0.1366,  0.1990],\n",
      "        [ 0.2110, -0.1030, -0.1557,  ...,  0.3188, -0.2698,  0.6272],\n",
      "        ...,\n",
      "        [-0.0282, -0.0840,  0.0801,  ..., -0.0325, -0.2104,  0.0575],\n",
      "        [ 0.2277, -0.0606,  0.2001,  ...,  0.3206, -0.5063,  0.1634],\n",
      "        [ 0.1288, -0.2680,  0.0008,  ..., -0.2869, -0.2738,  0.0312]])\n"
     ]
    }
   ],
   "source": [
    "input_tensor = title_to_tensor(academy_titles[0])\n",
    "print('input_tensor:\\n', input_tensor)"
   ]
  },
  {
   "cell_type": "code",
   "execution_count": 102,
   "metadata": {
    "ExecuteTime": {
     "end_time": "2020-09-08T13:47:32.126867Z",
     "start_time": "2020-09-08T13:47:32.116875Z"
    },
    "scrolled": false
   },
   "outputs": [
    {
     "name": "stdout",
     "output_type": "stream",
     "text": [
      "output:\n",
      " tensor([[-0.6866, -0.6998]], grad_fn=<LogSoftmaxBackward>)\n",
      "hidden:\n",
      " tensor([[-0.0054, -0.0977,  0.0663, -0.0863, -0.0789,  0.0287, -0.0309,  0.1461,\n",
      "         -0.1200, -0.0746,  0.0820, -0.1323, -0.0948,  0.0856, -0.0691, -0.0623,\n",
      "         -0.0158, -0.1140,  0.2227, -0.1856,  0.0335, -0.0297,  0.0299, -0.0355,\n",
      "          0.1102, -0.0614, -0.0661, -0.0668,  0.1786,  0.0317,  0.2039, -0.0890,\n",
      "          0.1871,  0.1401,  0.0179, -0.1561, -0.0728, -0.1185, -0.1519, -0.1073,\n",
      "         -0.0685,  0.1571,  0.0441, -0.0282,  0.0505, -0.0844,  0.0433,  0.1720,\n",
      "         -0.0147,  0.0880,  0.1171,  0.1165, -0.0376, -0.1209,  0.0609,  0.1019,\n",
      "          0.1013, -0.0655, -0.1267,  0.0836, -0.0501, -0.0177, -0.2092,  0.1177,\n",
      "         -0.0482,  0.0485, -0.1050, -0.0501,  0.0984,  0.0779, -0.0948, -0.1588,\n",
      "          0.0012, -0.1101,  0.0580,  0.2814,  0.1032,  0.2461,  0.1980, -0.1317,\n",
      "          0.1917,  0.0573,  0.2592, -0.0104,  0.0325,  0.0086, -0.1180, -0.0561,\n",
      "         -0.0348,  0.0036,  0.0021, -0.0382, -0.0536,  0.1153,  0.0852,  0.0795,\n",
      "          0.0618, -0.0191,  0.0068, -0.0298, -0.0104,  0.0078,  0.0673, -0.0734,\n",
      "         -0.0081, -0.0101, -0.1520,  0.0531,  0.1557, -0.1417, -0.1178, -0.0065,\n",
      "          0.0049, -0.1430,  0.0687, -0.0134,  0.0413, -0.0666,  0.0225, -0.0674,\n",
      "         -0.0151, -0.1391,  0.0720, -0.0227,  0.0035,  0.0666, -0.0706,  0.0261]],\n",
      "       grad_fn=<AddmmBackward>)\n",
      "size of hidden:\n",
      " torch.Size([1, 128])\n"
     ]
    }
   ],
   "source": [
    "hidden = rnn.initHidden()\n",
    "output, hidden = rnn(input_tensor[0].unsqueeze(dim=0), hidden)\n",
    "print('output:\\n', output)\n",
    "print('hidden:\\n', hidden)\n",
    "print('size of hidden:\\n', hidden.size())"
   ]
  },
  {
   "cell_type": "code",
   "execution_count": 8,
   "metadata": {
    "ExecuteTime": {
     "end_time": "2020-09-08T13:52:19.129024Z",
     "start_time": "2020-09-08T13:52:19.122030Z"
    }
   },
   "outputs": [],
   "source": [
    "def run_rnn(rnn, input_tensor):\n",
    "    hidden = rnn.initHidden()\n",
    "    for i in range(input_tensor.size()[0]):\n",
    "        output, hidden = rnn(input_tensor[i].unsqueeze(dim=0), hidden)\n",
    "    return output"
   ]
  },
  {
   "cell_type": "code",
   "execution_count": 9,
   "metadata": {
    "ExecuteTime": {
     "end_time": "2020-09-08T13:52:19.641152Z",
     "start_time": "2020-09-08T13:52:19.633158Z"
    }
   },
   "outputs": [],
   "source": [
    "all_data = []\n",
    "categories = [\"考研考博\", \"招聘信息\"]"
   ]
  },
  {
   "cell_type": "code",
   "execution_count": 10,
   "metadata": {
    "ExecuteTime": {
     "end_time": "2020-09-08T13:52:20.474833Z",
     "start_time": "2020-09-08T13:52:20.080282Z"
    }
   },
   "outputs": [],
   "source": [
    "for l in academy_titles:\n",
    "    all_data.append((title_to_tensor(l), torch.tensor([0], dtype=torch.long)))\n",
    "for l in job_titles:\n",
    "    all_data.append((title_to_tensor(l), torch.tensor([1], dtype=torch.long)))"
   ]
  },
  {
   "cell_type": "code",
   "execution_count": 11,
   "metadata": {
    "ExecuteTime": {
     "end_time": "2020-09-08T13:52:21.714629Z",
     "start_time": "2020-09-08T13:52:21.699636Z"
    }
   },
   "outputs": [
    {
     "name": "stdout",
     "output_type": "stream",
     "text": [
      "Train data size:  4975\n",
      "Test data size:  2133\n"
     ]
    }
   ],
   "source": [
    "import random\n",
    "random.shuffle(all_data)\n",
    "data_len = len(all_data)\n",
    "split_ratio = 0.7\n",
    "train_data = all_data[:int(data_len*split_ratio)]\n",
    "test_data = all_data[int(data_len*split_ratio):]\n",
    "print(\"Train data size: \", len(train_data))\n",
    "print(\"Test data size: \", len(test_data))"
   ]
  },
  {
   "cell_type": "code",
   "execution_count": 12,
   "metadata": {
    "ExecuteTime": {
     "end_time": "2020-09-08T13:52:23.369901Z",
     "start_time": "2020-09-08T13:52:23.363903Z"
    }
   },
   "outputs": [],
   "source": [
    "def train(rnn, criterion, input_tensor, category_tensor):\n",
    "    rnn.zero_grad()\n",
    "    output = run_rnn(rnn, input_tensor)\n",
    "    loss = criterion(output, category_tensor)\n",
    "    loss.backward()\n",
    "\n",
    "    # 根据梯度更新模型的参数\n",
    "    for p in rnn.parameters():\n",
    "        p.data.add_(p.grad.data, alpha=-learning_rate)\n",
    "\n",
    "    return output, loss.item()\n",
    "    "
   ]
  },
  {
   "cell_type": "code",
   "execution_count": 13,
   "metadata": {
    "ExecuteTime": {
     "end_time": "2020-09-08T13:52:23.770701Z",
     "start_time": "2020-09-08T13:52:23.760697Z"
    }
   },
   "outputs": [],
   "source": [
    "def evaluate(rnn, input_tensor):\n",
    "    with torch.no_grad():\n",
    "        hidden = rnn.initHidden()\n",
    "        output = run_rnn(rnn, input_tensor)\n",
    "        return output"
   ]
  },
  {
   "cell_type": "code",
   "execution_count": 14,
   "metadata": {
    "ExecuteTime": {
     "end_time": "2020-09-08T13:52:36.755308Z",
     "start_time": "2020-09-08T13:52:25.585350Z"
    }
   },
   "outputs": [
    {
     "name": "stderr",
     "output_type": "stream",
     "text": [
      "100%|█████████████████████████████████████████████████████████████████████████████| 4975/4975 [00:09<00:00, 549.48it/s]\n",
      "100%|████████████████████████████████████████████████████████████████████████████| 2133/2133 [00:01<00:00, 1068.66it/s]"
     ]
    },
    {
     "name": "stdout",
     "output_type": "stream",
     "text": [
      "accuracy 0.9751523675574308\n"
     ]
    },
    {
     "name": "stderr",
     "output_type": "stream",
     "text": [
      "\n"
     ]
    }
   ],
   "source": [
    "from tqdm import tqdm\n",
    "epoch = 1\n",
    "embedding_size = 200\n",
    "n_hidden = 10\n",
    "n_categories = 2\n",
    "learning_rate = 0.005\n",
    "rnn = RNN(embedding_size, n_hidden, n_categories)\n",
    "criterion = nn.NLLLoss()\n",
    "loss_sum = 0\n",
    "all_losses = []\n",
    "plot_every = 100\n",
    "for e in range(epoch):\n",
    "    for ind, (title_tensor, label) in enumerate(tqdm(train_data)):\n",
    "        if len(title_tensor) == 0:\n",
    "            continue\n",
    "        output, loss = train(rnn, criterion, title_tensor, label)\n",
    "        loss_sum += loss\n",
    "        if ind % plot_every == 0:\n",
    "            all_losses.append(loss_sum / plot_every)\n",
    "            loss_sum = 0\n",
    "    c = 0\n",
    "    for title, category in tqdm(test_data):\n",
    "        if len(title) == 0:\n",
    "            continue\n",
    "        output = evaluate(rnn, title)\n",
    "        topn, topi = output.topk(1)\n",
    "        if topi.item() == category[0].item():\n",
    "            c += 1\n",
    "    print('accuracy', c / len(test_data))"
   ]
  },
  {
   "cell_type": "code",
   "execution_count": 61,
   "metadata": {
    "ExecuteTime": {
     "end_time": "2020-08-20T13:34:02.972596Z",
     "start_time": "2020-08-20T13:33:58.836172Z"
    }
   },
   "outputs": [
    {
     "name": "stderr",
     "output_type": "stream",
     "text": [
      "100%|█████████████████████████████████████████████████████████████████████████████| 2133/2133 [00:04<00:00, 517.41it/s]"
     ]
    },
    {
     "name": "stdout",
     "output_type": "stream",
     "text": [
      "accuracy 0.992498827941866\n"
     ]
    },
    {
     "name": "stderr",
     "output_type": "stream",
     "text": [
      "\n"
     ]
    }
   ],
   "source": [
    "c = 0\n",
    "l1 = []\n",
    "l2 = []\n",
    "for title, category in tqdm(test_data):\n",
    "    output = evaluate(rnn, title)\n",
    "    topn, topi = output.topk(1)\n",
    "    l1.append(topi.item())\n",
    "    l2.append(category[0].item())\n",
    "    if topi.item() == category[0].item():\n",
    "        c += 1\n",
    "print('accuracy', c / len(test_data))"
   ]
  },
  {
   "cell_type": "code",
   "execution_count": 62,
   "metadata": {
    "ExecuteTime": {
     "end_time": "2020-08-20T13:34:12.363857Z",
     "start_time": "2020-08-20T13:34:12.348897Z"
    }
   },
   "outputs": [
    {
     "name": "stdout",
     "output_type": "stream",
     "text": [
      "[1, 1, 0, 0, 1, 1, 0, 1, 1, 1, 1, 0, 0, 0, 1, 0, 0, 0, 1, 0, 1, 1, 0, 0, 0, 1, 1, 0, 1, 0, 0, 1, 1, 0, 0, 0, 1, 0, 0, 0]\n",
      "[1, 1, 0, 0, 1, 1, 0, 1, 1, 1, 1, 0, 0, 0, 1, 0, 0, 0, 1, 0, 1, 1, 0, 0, 0, 1, 1, 0, 1, 0, 0, 1, 1, 0, 0, 0, 1, 0, 0, 0]\n"
     ]
    }
   ],
   "source": [
    "print(l1[:40])\n",
    "print(l2[:40])"
   ]
  },
  {
   "cell_type": "code",
   "execution_count": 63,
   "metadata": {
    "ExecuteTime": {
     "end_time": "2020-08-20T13:34:24.323156Z",
     "start_time": "2020-08-20T13:34:24.315177Z"
    }
   },
   "outputs": [
    {
     "data": {
      "text/plain": [
       "1046"
      ]
     },
     "execution_count": 63,
     "metadata": {},
     "output_type": "execute_result"
    }
   ],
   "source": [
    "sum(l1)"
   ]
  },
  {
   "cell_type": "code",
   "execution_count": 64,
   "metadata": {
    "ExecuteTime": {
     "end_time": "2020-08-20T13:34:27.957712Z",
     "start_time": "2020-08-20T13:34:27.946694Z"
    }
   },
   "outputs": [
    {
     "data": {
      "text/plain": [
       "1062"
      ]
     },
     "execution_count": 64,
     "metadata": {},
     "output_type": "execute_result"
    }
   ],
   "source": [
    "sum(l2)"
   ]
  },
  {
   "cell_type": "code",
   "execution_count": 50,
   "metadata": {
    "ExecuteTime": {
     "end_time": "2020-08-20T13:28:46.089108Z",
     "start_time": "2020-08-20T13:28:42.250574Z"
    }
   },
   "outputs": [
    {
     "name": "stderr",
     "output_type": "stream",
     "text": [
      "100%|█████████████████████████████████████████████████████████████████████████████| 2133/2133 [00:03<00:00, 559.48it/s]"
     ]
    },
    {
     "name": "stdout",
     "output_type": "stream",
     "text": [
      "accuracy 0.992498827941866\n"
     ]
    },
    {
     "name": "stderr",
     "output_type": "stream",
     "text": [
      "\n"
     ]
    }
   ],
   "source": [
    "c = 0\n",
    "for title, category in tqdm(test_data):\n",
    "    output = evaluate(rnn, title)\n",
    "    topn, topi = output.topk(1)\n",
    "    if topi.item() == category[0].item():\n",
    "        c += 1\n",
    "print('accuracy', c / len(test_data))"
   ]
  },
  {
   "cell_type": "code",
   "execution_count": 34,
   "metadata": {
    "ExecuteTime": {
     "end_time": "2020-08-20T13:01:52.495244Z",
     "start_time": "2020-08-20T13:01:52.303270Z"
    }
   },
   "outputs": [
    {
     "data": {
      "text/plain": [
       "[<matplotlib.lines.Line2D at 0x12b9a780d90>]"
      ]
     },
     "execution_count": 34,
     "metadata": {},
     "output_type": "execute_result"
    },
    {
     "data": {
      "image/png": "[encoded data removed]",
      "text/plain": [
       "<Figure size 720x504 with 1 Axes>"
      ]
     },
     "metadata": {
      "needs_background": "light"
     },
     "output_type": "display_data"
    }
   ],
   "source": [
    "import matplotlib.pyplot as plt\n",
    "plt.figure(figsize=(10,7))\n",
    "plt.ylabel('Average Loss')\n",
    "plt.plot(all_losses[1:])"
   ]
  },
  {
   "cell_type": "code",
   "execution_count": 37,
   "metadata": {
    "ExecuteTime": {
     "end_time": "2020-08-20T13:16:40.170444Z",
     "start_time": "2020-08-20T13:16:40.064366Z"
    }
   },
   "outputs": [],
   "source": [
    "torch.save(rnn, 'rnn_model.pkl')"
   ]
  },
  {
   "cell_type": "code",
   "execution_count": 41,
   "metadata": {
    "ExecuteTime": {
     "end_time": "2020-08-20T13:24:52.707246Z",
     "start_time": "2020-08-20T13:24:52.698271Z"
    }
   },
   "outputs": [],
   "source": [
    "def get_category(rnn, title):\n",
    "    input_tensor = title_to_tensor(title)\n",
    "    with torch.no_grad():\n",
    "        hidden = rnn.initHidden()\n",
    "        output = run_rnn(rnn, input_tensor)\n",
    "        topv, topi = output.topk(1)\n",
    "        return categories[topi.item()]"
   ]
  },
  {
   "cell_type": "code",
   "execution_count": 51,
   "metadata": {
    "ExecuteTime": {
     "end_time": "2020-08-20T13:30:17.778502Z",
     "start_time": "2020-08-20T13:30:17.773516Z"
    }
   },
   "outputs": [],
   "source": [
    "input_tensor = title_to_tensor(\"北大实验室招硕博连读保研学生\")"
   ]
  },
  {
   "cell_type": "code",
   "execution_count": 75,
   "metadata": {
    "ExecuteTime": {
     "end_time": "2020-08-20T13:37:26.165119Z",
     "start_time": "2020-08-20T13:37:26.148164Z"
    }
   },
   "outputs": [],
   "source": [
    "def get_category(title):\n",
    "    title = title_to_tensor(title)\n",
    "    output = evaluate(rnn, title)\n",
    "    topn, topi = output.topk(1)\n",
    "    return categories[topi.item()]"
   ]
  },
  {
   "cell_type": "code",
   "execution_count": 58,
   "metadata": {
    "ExecuteTime": {
     "end_time": "2020-08-20T13:32:53.017140Z",
     "start_time": "2020-08-20T13:32:53.004177Z"
    }
   },
   "outputs": [
    {
     "name": "stdout",
     "output_type": "stream",
     "text": [
      "【校招】今日头条后端开发工程师 招聘信息\n"
     ]
    }
   ],
   "source": [
    "print(\"【校招】今日头条后端开发工程师\", get_category(rnn, \"【校招】今日头条后端开发工程师\"))"
   ]
  },
  {
   "cell_type": "code",
   "execution_count": 59,
   "metadata": {
    "ExecuteTime": {
     "end_time": "2020-08-20T13:33:08.592301Z",
     "start_time": "2020-08-20T13:33:08.580281Z"
    }
   },
   "outputs": [
    {
     "name": "stdout",
     "output_type": "stream",
     "text": [
      "毕业找房子 招聘信息\n"
     ]
    }
   ],
   "source": [
    "print(\"毕业找房子\", get_category(rnn, \"毕业找房子\"))"
   ]
  },
  {
   "cell_type": "code",
   "execution_count": 48,
   "metadata": {
    "ExecuteTime": {
     "end_time": "2020-08-20T13:28:25.755093Z",
     "start_time": "2020-08-20T13:28:25.739137Z"
    }
   },
   "outputs": [
    {
     "name": "stdout",
     "output_type": "stream",
     "text": [
      "毕业求合租 招聘信息\n",
      "学校附近的公寓 招聘信息\n",
      "学校附近的公寓 招聘信息\n",
      "考博经验帖 招聘信息\n",
      "2021年秋季出国交流 招聘信息\n",
      "考研学校选择，纠结，求师哥师姐指导 招聘信息\n"
     ]
    }
   ],
   "source": [
    "\n",
    "print(\"学校附近的公寓\", get_category(rnn, \"学校附近的公寓\"))\n",
    "print(\"学校附近的公寓\", get_category(rnn, \"学校附近的公寓\"))\n",
    "print(\"考博经验帖\", get_category(rnn, \"考博经验帖\"))\n",
    "print(\"2021年秋季出国交流\", get_category(rnn, \"2021年秋季出国交流\"))\n",
    "print(\"考研学校选择，纠结，求师哥师姐指导\", get_category(rnn, \"考研学校选择，纠结，求师哥师姐指导\"))"
   ]
  }
 ],
 "metadata": {
  "kernelspec": {
   "display_name": "Python 3",
   "language": "python",
   "name": "python3"
  },
  "language_info": {
   "codemirror_mode": {
    "name": "ipython",
    "version": 3
   },
   "file_extension": ".py",
   "mimetype": "text/x-python",
   "name": "python",
   "nbconvert_exporter": "python",
   "pygments_lexer": "ipython3",
   "version": "3.8.1"
  }
 },
 "nbformat": 4,
 "nbformat_minor": 4
}
