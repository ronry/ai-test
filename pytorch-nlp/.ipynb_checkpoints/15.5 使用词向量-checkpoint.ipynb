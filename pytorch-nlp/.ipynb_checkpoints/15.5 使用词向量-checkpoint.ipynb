{
 "cells": [
  {
   "cell_type": "code",
   "execution_count": 1,
   "metadata": {
    "ExecuteTime": {
     "end_time": "2021-01-07T11:55:28.768125Z",
     "start_time": "2021-01-07T11:55:24.996354Z"
    }
   },
   "outputs": [],
   "source": [
    "import json\n",
    "from tqdm import tqdm\n",
    "import torch\n",
    "with open('w2id++.json', 'r') as f:\n",
    "    w2id = json.load(f)\n",
    "with open('id2w++.json', 'r') as f:\n",
    "    id2w = json.load(f)\n",
    "    \n",
    "data_list = []\n",
    "with open('data_splited++.jl', 'r') as f:\n",
    "    for l in f:\n",
    "        data_list.append(json.loads(l))\n",
    "embedding = []\n",
    "with open('embedding++.jl', 'r') as f:\n",
    "    for l in f:\n",
    "        embedding.append(json.loads(l))\n",
    "        \n",
    "batch_size = 32\n",
    "data_workers = 4\n",
    "learning_rate = 0.01\n",
    "gradient_accumulation_steps = 1\n",
    "max_train_epochs = 60\n",
    "warmup_proportion = 0.05\n",
    "weight_decay=0.01\n",
    "max_grad_norm=1.0 \n",
    "\n",
    "device = torch.device('cuda')"
   ]
  },
  {
   "cell_type": "code",
   "execution_count": 2,
   "metadata": {
    "ExecuteTime": {
     "end_time": "2021-01-07T11:55:30.122158Z",
     "start_time": "2021-01-07T11:55:29.939481Z"
    }
   },
   "outputs": [],
   "source": [
    "dlx = [[] for _ in range(5)]\n",
    "for d in data_list:\n",
    "    dlx[len(d[0]) - 5].append(d)"
   ]
  },
  {
   "cell_type": "code",
   "execution_count": 3,
   "metadata": {
    "ExecuteTime": {
     "end_time": "2021-01-07T11:55:32.838032Z",
     "start_time": "2021-01-07T11:55:32.810383Z"
    }
   },
   "outputs": [],
   "source": [
    "import torch\n",
    "class MyDataSet(torch.utils.data.Dataset):\n",
    "    def __init__(self, examples):\n",
    "        self.examples = examples\n",
    "    def __len__(self):\n",
    "        return len(self.examples)\n",
    "    def __getitem__(self, index):\n",
    "        example = self.examples[index]\n",
    "        s1 = example[0]\n",
    "        s2 = example[1]\n",
    "        return s1, s2, index\n",
    "def str2id(s):\n",
    "    ids = []\n",
    "    for ch in s:\n",
    "        if ch in w2id:\n",
    "            ids.append(w2id[ch])\n",
    "        else:\n",
    "            ids.append(0)\n",
    "    return ids\n",
    "def the_collate_fn(batch):\n",
    "    s1x = []\n",
    "    s2x = []\n",
    "    for b in batch:\n",
    "        s1 = str2id(b[0])\n",
    "        s2 = str2id(b[1])\n",
    "        s1x.append(s1)\n",
    "        s2x.append(s2)\n",
    "    indexs = [b[2] for b in batch]\n",
    "    s1 = torch.LongTensor(s1x)\n",
    "    s2 = torch.LongTensor(s2x)\n",
    "    return s1, s2, indexs\n",
    "\n",
    "\n",
    "\n",
    "dldx = []\n",
    "for d in dlx:\n",
    "    ds = MyDataSet(d)\n",
    "    dld = torch.utils.data.DataLoader(\n",
    "        ds,\n",
    "        batch_size=batch_size,\n",
    "        shuffle = True,\n",
    "        num_workers=data_workers,\n",
    "        collate_fn=the_collate_fn,\n",
    "    )\n",
    "    dldx.append(dld)"
   ]
  },
  {
   "cell_type": "code",
   "execution_count": 4,
   "metadata": {
    "ExecuteTime": {
     "end_time": "2021-01-07T11:55:33.519878Z",
     "start_time": "2021-01-07T11:55:33.512459Z"
    }
   },
   "outputs": [],
   "source": [
    "import torch.nn as nn\n",
    "import torch.nn.functional as F\n",
    "class LSTMModel(nn.Module):\n",
    "    def __init__(self, device, word_size, embedding_dim=256, hidden_dim=256):\n",
    "        super(LSTMModel, self).__init__()\n",
    "        self.hidden_dim = hidden_dim\n",
    "        self.device = device\n",
    "        self.embedding = nn.Embedding(word_size, embedding_dim)\n",
    "        self.lstm = nn.LSTM(embedding_dim, hidden_dim, num_layers=4, bidirectional=True, batch_first=True)\n",
    "        self.out = nn.Linear(hidden_dim*2, word_size)\n",
    "        \n",
    "    def forward(self, s1, s2=None):\n",
    "        batch_size, length = s1.shape[:2]\n",
    "        b = self.embedding(s1)\n",
    "        l = self.lstm(b)[0]\n",
    "        r = self.out(l)\n",
    "        r = F.log_softmax(r, dim=1)\n",
    "        if s2 is not None:\n",
    "            criterion = nn.NLLLoss()\n",
    "            loss = criterion(r.view(batch_size*length, -1), s2.view(batch_size*length))\n",
    "            return loss\n",
    "        return r"
   ]
  },
  {
   "cell_type": "code",
   "execution_count": 5,
   "metadata": {
    "ExecuteTime": {
     "end_time": "2021-01-07T11:55:35.947802Z",
     "start_time": "2021-01-07T11:55:33.965225Z"
    }
   },
   "outputs": [
    {
     "data": {
      "text/plain": [
       "LSTMModel(\n",
       "  (embedding): Embedding(5629, 300)\n",
       "  (lstm): LSTM(300, 256, num_layers=4, batch_first=True, bidirectional=True)\n",
       "  (out): Linear(in_features=512, out_features=5629, bias=True)\n",
       ")"
      ]
     },
     "execution_count": 5,
     "metadata": {},
     "output_type": "execute_result"
    }
   ],
   "source": [
    "model = LSTMModel(device, len(w2id), 300)\n",
    "model.to(device)"
   ]
  },
  {
   "cell_type": "code",
   "execution_count": 6,
   "metadata": {
    "ExecuteTime": {
     "end_time": "2021-01-07T11:55:37.516669Z",
     "start_time": "2021-01-07T11:55:36.986032Z"
    }
   },
   "outputs": [
    {
     "data": {
      "text/plain": [
       "tensor([[-0.2564, -0.4880, -0.4565,  ..., -0.0330, -0.4634,  0.1318],\n",
       "        [ 0.4903,  0.3327, -0.3386,  ...,  0.0285, -0.9027,  0.0091],\n",
       "        [-0.1047, -0.1974,  0.3769,  ...,  0.4282, -0.0082,  0.3296],\n",
       "        ...,\n",
       "        [ 0.3012,  0.8523, -0.5348,  ..., -0.4911,  0.0212, -0.6289],\n",
       "        [ 0.2072, -0.1480,  0.0041,  ...,  0.3521, -0.0441, -0.1644],\n",
       "        [ 0.3139,  0.0951, -0.3184,  ..., -0.2843, -0.2507, -0.1536]],\n",
       "       device='cuda:0')"
      ]
     },
     "execution_count": 6,
     "metadata": {},
     "output_type": "execute_result"
    }
   ],
   "source": [
    "import numpy as np\n",
    "pretrained_weight = np.array(embedding)\n",
    "model.embedding.weight.data.copy_(torch.from_numpy(pretrained_weight))"
   ]
  },
  {
   "cell_type": "code",
   "execution_count": 7,
   "metadata": {
    "ExecuteTime": {
     "end_time": "2021-01-07T11:55:37.746700Z",
     "start_time": "2021-01-07T11:55:37.691749Z"
    }
   },
   "outputs": [],
   "source": [
    "def t2s(t):\n",
    "    l = t.cpu().tolist()\n",
    "    r = [id2w[x] for x in l[0]]\n",
    "    return ''.join(r)\n",
    "\n",
    "def get_next(s):\n",
    "    ids = torch.LongTensor(str2id(s))\n",
    "    print(s)\n",
    "    ids = ids.unsqueeze(0).to(device)\n",
    "    with torch.no_grad():\n",
    "        r = model(ids)\n",
    "        r = r.argmax(dim=2)\n",
    "        return t2s(r)\n",
    "def print_cases():\n",
    "    print(get_next('好好学习') + '\\n')\n",
    "    print(get_next('白日依山尽') + '\\n')\n",
    "    print(get_next('学而时习之') + '\\n')\n",
    "    print(get_next('人之初性本善') + '\\n')"
   ]
  },
  {
   "cell_type": "code",
   "execution_count": 8,
   "metadata": {
    "ExecuteTime": {
     "end_time": "2021-01-07T11:55:39.541748Z",
     "start_time": "2021-01-07T11:55:38.832483Z"
    }
   },
   "outputs": [
    {
     "name": "stdout",
     "output_type": "stream",
     "text": [
      "warmup steps : 3350217\n"
     ]
    }
   ],
   "source": [
    "from transformers import AdamW, get_linear_schedule_with_warmup\n",
    "\n",
    "\n",
    "t_total = len(data_list) // gradient_accumulation_steps * max_train_epochs + 1\n",
    "num_warmup_steps = int(warmup_proportion * t_total)\n",
    "\n",
    "print('warmup steps : %d' % num_warmup_steps)\n",
    "\n",
    "no_decay = ['bias', 'LayerNorm.weight'] # no_decay = ['bias', 'LayerNorm.bias', 'LayerNorm.weight']\n",
    "param_optimizer = list(model.named_parameters())\n",
    "optimizer_grouped_parameters = [\n",
    "    {'params':[p for n, p in param_optimizer if not any(nd in n for nd in no_decay)],'weight_decay': weight_decay},\n",
    "    {'params':[p for n, p in param_optimizer if any(nd in n for nd in no_decay)],'weight_decay': 0.0}\n",
    "]\n",
    "optimizer = AdamW(optimizer_grouped_parameters, lr=learning_rate)\n",
    "scheduler = get_linear_schedule_with_warmup(optimizer, num_warmup_steps=num_warmup_steps, num_training_steps=t_total)\n"
   ]
  },
  {
   "cell_type": "code",
   "execution_count": 9,
   "metadata": {
    "ExecuteTime": {
     "end_time": "2021-01-07T14:14:09.519667Z",
     "start_time": "2021-01-07T11:55:50.141465Z"
    }
   },
   "outputs": [
    {
     "name": "stdout",
     "output_type": "stream",
     "text": [
      "0\n"
     ]
    },
    {
     "name": "stderr",
     "output_type": "stream",
     "text": [
      "100%|██████████| 34903/34903 [10:27<00:00, 55.62it/s]"
     ]
    },
    {
     "name": "stdout",
     "output_type": "stream",
     "text": [
      "好好学习\n",
      "虽蹬嵯湄\n",
      "\n",
      "白日依山尽\n",
      "翛帆慰穗痊\n",
      "\n",
      "学而时习之\n",
      "譬蹬恣嵯湄\n",
      "\n",
      "人之初性本善\n",
      "譬蹬聊兮逡湄\n",
      "\n",
      "1.5098877490145788\n",
      "1\n"
     ]
    },
    {
     "name": "stderr",
     "output_type": "stream",
     "text": [
      "\n",
      "100%|██████████| 34903/34903 [11:44<00:00, 49.54it/s]"
     ]
    },
    {
     "name": "stdout",
     "output_type": "stream",
     "text": [
      "好好学习\n",
      "譬啻嵯湄\n",
      "\n",
      "白日依山尽\n",
      "朱蕖冒屿赊\n",
      "\n",
      "学而时习之\n",
      "譬啻恣嵯湄\n",
      "\n",
      "人之初性本善\n",
      "譬者仅兮嵯湄\n",
      "\n",
      "1.283264813827865\n",
      "2\n"
     ]
    },
    {
     "name": "stderr",
     "output_type": "stream",
     "text": [
      "\n",
      "100%|██████████| 34903/34903 [11:29<00:00, 50.60it/s]"
     ]
    },
    {
     "name": "stdout",
     "output_type": "stream",
     "text": [
      "好好学习\n",
      "蹭啻嵯湄\n",
      "\n",
      "白日依山尽\n",
      "沧柑冒屿赊\n",
      "\n",
      "学而时习之\n",
      "蹭蹬恣嵯湄\n",
      "\n",
      "人之初性本善\n",
      "譬者冻恣嵯湄\n",
      "\n",
      "1.223697599587514\n",
      "3\n"
     ]
    },
    {
     "name": "stderr",
     "output_type": "stream",
     "text": [
      "\n",
      "100%|██████████| 34903/34903 [11:48<00:00, 49.28it/s]"
     ]
    },
    {
     "name": "stdout",
     "output_type": "stream",
     "text": [
      "好好学习\n",
      "孰啻嵯湄\n",
      "\n",
      "白日依山尽\n",
      "沧鹂掠屿赊\n",
      "\n",
      "学而时习之\n",
      "譬啻恣嵯湄\n",
      "\n",
      "人之初性本善\n",
      "譬蹬协恣嵯湄\n",
      "\n",
      "1.183729660144156\n",
      "4\n"
     ]
    },
    {
     "name": "stderr",
     "output_type": "stream",
     "text": [
      "\n",
      "100%|██████████| 34903/34903 [11:28<00:00, 50.68it/s]\n"
     ]
    },
    {
     "name": "stdout",
     "output_type": "stream",
     "text": [
      "好好学习\n",
      "恍啻嵯湄\n",
      "\n",
      "白日依山尽\n",
      "朱鹂冒屿赊\n",
      "\n",
      "学而时习之\n",
      "譬啻恣嵯湄\n",
      "\n",
      "人之初性本善\n",
      "譬者媲心嵯湄\n",
      "\n",
      "1.1583524771486675\n",
      "5\n"
     ]
    },
    {
     "name": "stderr",
     "output_type": "stream",
     "text": [
      "100%|██████████| 34903/34903 [11:29<00:00, 50.62it/s]"
     ]
    },
    {
     "name": "stdout",
     "output_type": "stream",
     "text": [
      "好好学习\n",
      "迨啻绸湄\n",
      "\n",
      "白日依山尽\n",
      "朱萸掠岫赊\n",
      "\n",
      "学而时习之\n",
      "譬啻迭嵯湄\n",
      "\n",
      "人之初性本善\n",
      "譬之迭狮绸湄\n",
      "\n",
      "1.1407968451233559\n",
      "6\n"
     ]
    },
    {
     "name": "stderr",
     "output_type": "stream",
     "text": [
      "\n",
      "100%|██████████| 34903/34903 [11:35<00:00, 50.17it/s]"
     ]
    },
    {
     "name": "stdout",
     "output_type": "stream",
     "text": [
      "好好学习\n",
      "矧啻绸湄\n",
      "\n",
      "白日依山尽\n",
      "沧鹂匝槛赊\n",
      "\n",
      "学而时习之\n",
      "譬啻狮嵯湄\n",
      "\n",
      "人之初性本善\n",
      "譬蹬迭非葳湄\n",
      "\n",
      "1.1284846344640826\n",
      "7\n"
     ]
    },
    {
     "name": "stderr",
     "output_type": "stream",
     "text": [
      "\n",
      "100%|██████████| 34903/34903 [11:34<00:00, 50.27it/s]"
     ]
    },
    {
     "name": "stdout",
     "output_type": "stream",
     "text": [
      "好好学习\n",
      "虽啻绸陲\n",
      "\n",
      "白日依山尽\n",
      "沧萸掠屿赊\n",
      "\n",
      "学而时习之\n",
      "譬啻恣缱湄\n",
      "\n",
      "人之初性本善\n",
      "譬之钜疹锱湄\n",
      "\n",
      "1.1220363174684718\n",
      "8\n"
     ]
    },
    {
     "name": "stderr",
     "output_type": "stream",
     "text": [
      "\n",
      " 36%|███▌      | 12491/34903 [04:09<07:15, 51.46it/s]IOPub message rate exceeded.\n",
      "The notebook server will temporarily stop sending output\n",
      "to the client in order to avoid crashing it.\n",
      "To change this limit, set the config variable\n",
      "`--NotebookApp.iopub_msg_rate_limit`.\n",
      "\n",
      "Current values:\n",
      "NotebookApp.iopub_msg_rate_limit=1000.0 (msgs/sec)\n",
      "NotebookApp.rate_limit_window=3.0 (secs)\n",
      "\n",
      "100%|██████████| 34903/34903 [11:48<00:00, 49.26it/s]"
     ]
    },
    {
     "name": "stdout",
     "output_type": "stream",
     "text": [
      "好好学习\n",
      "宛蹬肺荪\n",
      "\n",
      "白日依山尽\n",
      "沧鹂冒冕赊\n",
      "\n",
      "学而时习之\n",
      "矧蹬恣嵯湄\n",
      "\n",
      "人之初性本善\n",
      "譬之硬狮锱湄\n",
      "\n",
      "1.1227452730038756\n",
      "10\n"
     ]
    },
    {
     "name": "stderr",
     "output_type": "stream",
     "text": [
      "\n",
      "100%|██████████| 34903/34903 [11:24<00:00, 50.96it/s]\n"
     ]
    },
    {
     "name": "stdout",
     "output_type": "stream",
     "text": [
      "好好学习\n",
      "虽啻麒湄\n",
      "\n",
      "白日依山尽\n",
      "扁萸冒槛赊\n",
      "\n",
      "学而时习之\n",
      "譬者互嵯湄\n",
      "\n",
      "人之初性本善\n",
      "譬者缓供锱湄\n",
      "\n",
      "1.126403855214799\n",
      "11\n"
     ]
    },
    {
     "name": "stderr",
     "output_type": "stream",
     "text": [
      "100%|██████████| 34903/34903 [11:31<00:00, 50.50it/s]"
     ]
    },
    {
     "name": "stdout",
     "output_type": "stream",
     "text": [
      "好好学习\n",
      "讵费缙湄\n",
      "\n",
      "白日依山尽\n",
      "沧砂冒屿赊\n",
      "\n",
      "学而时习之\n",
      "矧蹬恣缱湄\n",
      "\n",
      "人之初性本善\n",
      "譬者黯竟锱湄\n",
      "\n",
      "1.1304866279629078\n",
      "12\n"
     ]
    },
    {
     "name": "stderr",
     "output_type": "stream",
     "text": [
      "\n",
      "  3%|▎         | 1138/34903 [00:22<10:59, 51.23it/s]\n"
     ]
    },
    {
     "ename": "KeyboardInterrupt",
     "evalue": "",
     "output_type": "error",
     "traceback": [
      "\u001b[0;31m---------------------------------------------------------------------------\u001b[0m",
      "\u001b[0;31mKeyboardInterrupt\u001b[0m                         Traceback (most recent call last)",
      "\u001b[0;32m<ipython-input-9-b405de46abdb>\u001b[0m in \u001b[0;36m<module>\u001b[0;34m\u001b[0m\n\u001b[1;32m     23\u001b[0m         \u001b[0mc\u001b[0m \u001b[0;34m+=\u001b[0m \u001b[0;36m1\u001b[0m\u001b[0;34m\u001b[0m\u001b[0;34m\u001b[0m\u001b[0m\n\u001b[1;32m     24\u001b[0m         \u001b[0mloss\u001b[0m\u001b[0;34m.\u001b[0m\u001b[0mbackward\u001b[0m\u001b[0;34m(\u001b[0m\u001b[0;34m)\u001b[0m\u001b[0;34m\u001b[0m\u001b[0;34m\u001b[0m\u001b[0m\n\u001b[0;32m---> 25\u001b[0;31m         \u001b[0moptimizer\u001b[0m\u001b[0;34m.\u001b[0m\u001b[0mstep\u001b[0m\u001b[0;34m(\u001b[0m\u001b[0;34m)\u001b[0m\u001b[0;34m\u001b[0m\u001b[0;34m\u001b[0m\u001b[0m\n\u001b[0m\u001b[1;32m     26\u001b[0m         \u001b[0mscheduler\u001b[0m\u001b[0;34m.\u001b[0m\u001b[0mstep\u001b[0m\u001b[0;34m(\u001b[0m\u001b[0;34m)\u001b[0m\u001b[0;34m\u001b[0m\u001b[0;34m\u001b[0m\u001b[0m\n\u001b[1;32m     27\u001b[0m         \u001b[0moptimizer\u001b[0m\u001b[0;34m.\u001b[0m\u001b[0mzero_grad\u001b[0m\u001b[0;34m(\u001b[0m\u001b[0;34m)\u001b[0m\u001b[0;34m\u001b[0m\u001b[0;34m\u001b[0m\u001b[0m\n",
      "\u001b[0;32m/usr/lib/python3.8/site-packages/torch/optim/lr_scheduler.py\u001b[0m in \u001b[0;36mwrapper\u001b[0;34m(*args, **kwargs)\u001b[0m\n\u001b[1;32m     64\u001b[0m                 \u001b[0minstance\u001b[0m\u001b[0;34m.\u001b[0m\u001b[0m_step_count\u001b[0m \u001b[0;34m+=\u001b[0m \u001b[0;36m1\u001b[0m\u001b[0;34m\u001b[0m\u001b[0;34m\u001b[0m\u001b[0m\n\u001b[1;32m     65\u001b[0m                 \u001b[0mwrapped\u001b[0m \u001b[0;34m=\u001b[0m \u001b[0mfunc\u001b[0m\u001b[0;34m.\u001b[0m\u001b[0m__get__\u001b[0m\u001b[0;34m(\u001b[0m\u001b[0minstance\u001b[0m\u001b[0;34m,\u001b[0m \u001b[0mcls\u001b[0m\u001b[0;34m)\u001b[0m\u001b[0;34m\u001b[0m\u001b[0;34m\u001b[0m\u001b[0m\n\u001b[0;32m---> 66\u001b[0;31m                 \u001b[0;32mreturn\u001b[0m \u001b[0mwrapped\u001b[0m\u001b[0;34m(\u001b[0m\u001b[0;34m*\u001b[0m\u001b[0margs\u001b[0m\u001b[0;34m,\u001b[0m \u001b[0;34m**\u001b[0m\u001b[0mkwargs\u001b[0m\u001b[0;34m)\u001b[0m\u001b[0;34m\u001b[0m\u001b[0;34m\u001b[0m\u001b[0m\n\u001b[0m\u001b[1;32m     67\u001b[0m \u001b[0;34m\u001b[0m\u001b[0m\n\u001b[1;32m     68\u001b[0m             \u001b[0;31m# Note that the returned function here is no longer a bound method,\u001b[0m\u001b[0;34m\u001b[0m\u001b[0;34m\u001b[0m\u001b[0;34m\u001b[0m\u001b[0m\n",
      "\u001b[0;32m~/.local/lib/python3.8/site-packages/transformers/optimization.py\u001b[0m in \u001b[0;36mstep\u001b[0;34m(self, closure)\u001b[0m\n\u001b[1;32m    292\u001b[0m                 \u001b[0;31m# Decay the first and second moment running average coefficient\u001b[0m\u001b[0;34m\u001b[0m\u001b[0;34m\u001b[0m\u001b[0;34m\u001b[0m\u001b[0m\n\u001b[1;32m    293\u001b[0m                 \u001b[0;31m# In-place operations to update the averages at the same time\u001b[0m\u001b[0;34m\u001b[0m\u001b[0;34m\u001b[0m\u001b[0;34m\u001b[0m\u001b[0m\n\u001b[0;32m--> 294\u001b[0;31m                 \u001b[0mexp_avg\u001b[0m\u001b[0;34m.\u001b[0m\u001b[0mmul_\u001b[0m\u001b[0;34m(\u001b[0m\u001b[0mbeta1\u001b[0m\u001b[0;34m)\u001b[0m\u001b[0;34m.\u001b[0m\u001b[0madd_\u001b[0m\u001b[0;34m(\u001b[0m\u001b[0mgrad\u001b[0m\u001b[0;34m,\u001b[0m \u001b[0malpha\u001b[0m\u001b[0;34m=\u001b[0m\u001b[0;36m1.0\u001b[0m \u001b[0;34m-\u001b[0m \u001b[0mbeta1\u001b[0m\u001b[0;34m)\u001b[0m\u001b[0;34m\u001b[0m\u001b[0;34m\u001b[0m\u001b[0m\n\u001b[0m\u001b[1;32m    295\u001b[0m                 \u001b[0mexp_avg_sq\u001b[0m\u001b[0;34m.\u001b[0m\u001b[0mmul_\u001b[0m\u001b[0;34m(\u001b[0m\u001b[0mbeta2\u001b[0m\u001b[0;34m)\u001b[0m\u001b[0;34m.\u001b[0m\u001b[0maddcmul_\u001b[0m\u001b[0;34m(\u001b[0m\u001b[0mgrad\u001b[0m\u001b[0;34m,\u001b[0m \u001b[0mgrad\u001b[0m\u001b[0;34m,\u001b[0m \u001b[0mvalue\u001b[0m\u001b[0;34m=\u001b[0m\u001b[0;36m1.0\u001b[0m \u001b[0;34m-\u001b[0m \u001b[0mbeta2\u001b[0m\u001b[0;34m)\u001b[0m\u001b[0;34m\u001b[0m\u001b[0;34m\u001b[0m\u001b[0m\n\u001b[1;32m    296\u001b[0m                 \u001b[0mdenom\u001b[0m \u001b[0;34m=\u001b[0m \u001b[0mexp_avg_sq\u001b[0m\u001b[0;34m.\u001b[0m\u001b[0msqrt\u001b[0m\u001b[0;34m(\u001b[0m\u001b[0;34m)\u001b[0m\u001b[0;34m.\u001b[0m\u001b[0madd_\u001b[0m\u001b[0;34m(\u001b[0m\u001b[0mgroup\u001b[0m\u001b[0;34m[\u001b[0m\u001b[0;34m\"eps\"\u001b[0m\u001b[0;34m]\u001b[0m\u001b[0;34m)\u001b[0m\u001b[0;34m\u001b[0m\u001b[0;34m\u001b[0m\u001b[0m\n",
      "\u001b[0;31mKeyboardInterrupt\u001b[0m: "
     ]
    }
   ],
   "source": [
    "loss_list = []\n",
    "for e in range(max_train_epochs):\n",
    "    print(e)\n",
    "    loss_sum = 0\n",
    "    c = 0\n",
    "    xxx = [x.__iter__() for x in dldx]\n",
    "    j = 0\n",
    "    for i in tqdm(range((len(data_list)//batch_size) + 5)):\n",
    "        if len(xxx) == 0:\n",
    "            break\n",
    "        j = j % len(xxx)\n",
    "        try:\n",
    "            batch = xxx[j].__next__()\n",
    "        except StopIteration:\n",
    "            xxx.pop(j)\n",
    "            continue\n",
    "        j += 1\n",
    "        s1, s2, index = batch\n",
    "        s1 = s1.to(device)\n",
    "        s2 = s2.to(device)\n",
    "        loss = model(s1, s2)\n",
    "        loss_sum += loss.item()\n",
    "        c += 1\n",
    "        loss.backward()\n",
    "        optimizer.step()\n",
    "        scheduler.step() \n",
    "        optimizer.zero_grad()\n",
    "    print_cases()\n",
    "    print(loss_sum / c)\n",
    "    loss_list.append(loss_sum / c)"
   ]
  }
 ],
 "metadata": {
  "kernelspec": {
   "display_name": "Python 3",
   "language": "python",
   "name": "python3"
  },
  "toc": {
   "base_numbering": 1,
   "nav_menu": {},
   "number_sections": true,
   "sideBar": true,
   "skip_h1_title": false,
   "title_cell": "Table of Contents",
   "title_sidebar": "Contents",
   "toc_cell": false,
   "toc_position": {},
   "toc_section_display": true,
   "toc_window_display": false
  }
 },
 "nbformat": 4,
 "nbformat_minor": 4
}
