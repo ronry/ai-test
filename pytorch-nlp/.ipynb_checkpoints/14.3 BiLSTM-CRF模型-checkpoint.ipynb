{
 "cells": [
  {
   "cell_type": "code",
   "execution_count": 1,
   "metadata": {
    "ExecuteTime": {
     "end_time": "2021-01-07T10:39:14.526541Z",
     "start_time": "2021-01-07T10:39:14.256075Z"
    }
   },
   "outputs": [],
   "source": [
    "import torch\n",
    "import torch.autograd as autograd\n",
    "import torch.nn as nn\n",
    "import torch.optim as optim\n",
    "from tqdm import tqdm\n",
    "import time\n",
    "import random\n",
    "import os\n",
    "#torch.manual_seed(1)"
   ]
  },
  {
   "cell_type": "code",
   "execution_count": 2,
   "metadata": {
    "ExecuteTime": {
     "end_time": "2021-01-07T10:39:14.572834Z",
     "start_time": "2021-01-07T10:39:14.567833Z"
    }
   },
   "outputs": [],
   "source": [
    "device = torch.device(\"cuda\")\n",
    "\n",
    "#remove_labels = ['roomno', 'cellno', 'community', 'devZone', 'subroadno', 'floorno', 'country', 'otherinfo']\n",
    "\n",
    "\n",
    "T0 = ['redundant']\n",
    "T1 = ['town', 'poi', 'assist']\n",
    "T2 = ['houseno', 'city', 'district', 'road', 'roadno', 'subpoi', 'subRoad', 'person']\n",
    "T3 = ['prov']\n",
    "T4 = ['roomno', 'cellno', 'community', 'devZone', 'subroadno', 'floorno', 'country', 'otherinfo']\n",
    "remove_labels = T4\n",
    "\n",
    "max_train_epochs = 6\n",
    "warmup_proportion = 0.05\n",
    "gradient_accumulation_steps = 1\n",
    "train_batch_size = 128\n",
    "valid_batch_size = train_batch_size\n",
    "test_batch_size = train_batch_size\n",
    "data_workers= 6\n",
    "# save_checkpoint = False\n",
    "\n",
    "learning_rate= 1e-3\n",
    "# weight_decay=0.01\n",
    "# max_grad_norm=1.0\n",
    "\n",
    "START_TAG = \"<START>\"\n",
    "STOP_TAG = \"<STOP>\"\n",
    "EMBEDDING_DIM = 200\n",
    "HIDDEN_DIM = 32\n",
    "# predict_max_label_len = 10\n",
    "    \n",
    "cur_time = time.strftime(\"%Y-%m-%d_%H:%M:%S\")"
   ]
  },
  {
   "cell_type": "code",
   "execution_count": 3,
   "metadata": {
    "ExecuteTime": {
     "end_time": "2021-01-07T10:39:15.113135Z",
     "start_time": "2021-01-07T10:39:15.098480Z"
    }
   },
   "outputs": [
    {
     "name": "stdout",
     "output_type": "stream",
     "text": [
      "34\n",
      "{'B-prov': 0, 'I-prov': 1, 'B-city': 2, 'I-city': 3, 'B-district': 4, 'I-district': 5, 'B-town': 6, 'I-town': 7, 'I-community': 8, 'B-road': 9, 'I-road': 10, 'B-roadno': 11, 'I-roadno': 12, 'B-poi': 13, 'I-poi': 14, 'B-houseno': 15, 'I-houseno': 16, 'I-cellno': 17, 'I-floorno': 18, 'I-roomno': 19, 'B-assist': 20, 'I-assist': 21, 'I-country': 22, 'I-devZone': 23, 'I-otherinfo': 24, 'B-person': 25, 'I-person': 26, 'B-redundant': 27, 'I-redundant': 28, 'B-subpoi': 29, 'I-subpoi': 30, 'B-subroad': 31, 'I-subroad': 32, 'I-subroadno': 33}\n"
     ]
    }
   ],
   "source": [
    "olabels = ['B-assist', 'I-assist', 'B-cellno', 'I-cellno', 'B-city', 'I-city', 'B-community', 'I-community', 'B-country', 'I-country', 'B-devZone', 'I-devZone', 'B-district', 'I-district', 'B-floorno', 'I-floorno', 'B-houseno', 'I-houseno', 'B-otherinfo', 'I-otherinfo', 'B-person', 'I-person', 'B-poi', 'I-poi', 'B-prov', 'I-prov', 'B-redundant', 'I-redundant', 'B-road', 'I-road', 'B-roadno', 'I-roadno', 'B-roomno', 'I-roomno', 'B-subRoad', 'I-subRoad', 'B-subRoadno', 'I-subRoadno', 'B-subpoi', 'I-subpoi', 'B-subroad', 'I-subroad', 'B-subroadno', 'I-subroadno', 'B-town', 'I-town']\n",
    "# print(len(labels))\n",
    "# for l in remove_labels:\n",
    "#     idx = labels.index('B-'+l)\n",
    "#     labels.pop(idx)\n",
    "\n",
    "# label2id = {}\n",
    "olabels2id = {}\n",
    "for i, l in enumerate(olabels):\n",
    "    olabels2id[l] = i\n",
    "labels = ['B-prov', 'I-prov', 'B-city', 'I-city', 'B-district', 'I-district', 'B-town', 'I-town',  'I-community', 'B-road', 'I-road', 'B-roadno', 'I-roadno', 'B-poi', 'I-poi', 'B-houseno', 'I-houseno', 'I-cellno', 'I-floorno', 'I-roomno', 'B-assist', 'I-assist', 'I-country', 'I-devZone', 'I-otherinfo', 'B-person', 'I-person', 'B-redundant', 'I-redundant', 'B-subpoi', 'I-subpoi', 'B-subroad', 'I-subroad', 'I-subroadno', ]\n",
    "print(len(labels))\n",
    "num_labels = len(labels)\n",
    "\n",
    "label2id = {}\n",
    "for i, l in enumerate(labels):\n",
    "    label2id[l] = i\n",
    "print(label2id)"
   ]
  },
  {
   "cell_type": "code",
   "execution_count": 4,
   "metadata": {
    "ExecuteTime": {
     "end_time": "2021-01-07T10:39:15.714881Z",
     "start_time": "2021-01-07T10:39:15.530299Z"
    }
   },
   "outputs": [
    {
     "name": "stdout",
     "output_type": "stream",
     "text": [
      "6082\n"
     ]
    }
   ],
   "source": [
    "word_embedding_file = 'neural-chinese-address-parsing/data/giga.vec100'\n",
    "word2vec = {}\n",
    "with open(word_embedding_file) as ff:\n",
    "    for l in ff:\n",
    "        l = l.strip().split(' ')\n",
    "        word2vec[l[0]] = [float(x) for x in l[1:]]\n",
    "print(len(word2vec))"
   ]
  },
  {
   "cell_type": "markdown",
   "metadata": {},
   "source": [
    "# 载入数据"
   ]
  },
  {
   "cell_type": "code",
   "execution_count": 5,
   "metadata": {
    "ExecuteTime": {
     "end_time": "2021-01-07T10:39:16.639370Z",
     "start_time": "2021-01-07T10:39:16.634944Z"
    },
    "code_folding": [
     0,
     1,
     5
    ]
   },
   "outputs": [],
   "source": [
    "def get_data_list(fn):\n",
    "    with open(fn) as f:\n",
    "        data_list = []  # 空的数据列表\n",
    "        token, label = [], []  # 当前数据的字符和标签序列\n",
    "        for l in f:\n",
    "            l = l.strip().split()\n",
    "            if not l:  # 如果 l 为空，说明当前数据结束了\n",
    "                data_list.append([token, label])\n",
    "                token, label = [], []\n",
    "                continue\n",
    "            token.append(l[0])\n",
    "            label.append(l[1])\n",
    "        assert len(token) == 0  # 数据最后一行应该是空行\n",
    "    return data_list"
   ]
  },
  {
   "cell_type": "code",
   "execution_count": 6,
   "metadata": {
    "ExecuteTime": {
     "end_time": "2021-01-07T10:39:17.674940Z",
     "start_time": "2021-01-07T10:39:17.447713Z"
    }
   },
   "outputs": [
    {
     "name": "stdout",
     "output_type": "stream",
     "text": [
      "8957 2985 2985\n",
      "max_token_len 67\n"
     ]
    }
   ],
   "source": [
    "\n",
    "train_list = get_data_list('neural-chinese-address-parsing/data/train.txt')\n",
    "test_list = get_data_list('neural-chinese-address-parsing/data/dev.txt')\n",
    "dev_list = get_data_list('neural-chinese-address-parsing/data/test.txt')\n",
    "print(len(train_list), len(test_list), len(dev_list))\n",
    "max_token_len = 0\n",
    "for ls in [train_list, test_list, dev_list]:\n",
    "    for l in ls:\n",
    "        max_token_len = max(max_token_len, len(l[0]))\n",
    "print('max_token_len', max_token_len)"
   ]
  },
  {
   "cell_type": "code",
   "execution_count": 7,
   "metadata": {
    "ExecuteTime": {
     "end_time": "2021-01-07T10:39:18.779090Z",
     "start_time": "2021-01-07T10:39:18.769940Z"
    },
    "code_folding": [
     0
    ]
   },
   "outputs": [],
   "source": [
    "class MyDataSet(torch.utils.data.Dataset):\n",
    "    def __init__(self, examples):\n",
    "        self.examples = examples\n",
    "\n",
    "    def __len__(self):\n",
    "        return len(self.examples)\n",
    "\n",
    "    def __getitem__(self, index):\n",
    "        example = self.examples[index]\n",
    "        sentence = example[0]\n",
    "\n",
    "        label = example[1]\n",
    "\n",
    "        sentence = [x.lower() for x in sentence]\n",
    "        input_ids = []\n",
    "        for ch in sentence:\n",
    "            if ch in word2vec:\n",
    "                input_ids.append(word2vec[ch])\n",
    "            else:\n",
    "                input_ids.append([random.random()/10 for _ in range(EMBEDDING_DIM)])\n",
    "        return input_ids, label, index\n",
    "ddd = []\n",
    "bbb = []\n",
    "def the_collate_fn(batch):\n",
    "    #print(batch)\n",
    "    input_len = [len(b[0]) for b in batch]\n",
    "    max_len = max(input_len)\n",
    "    x = [b[0] + [[0] * EMBEDDING_DIM for _ in range(max_len-len(b[0]))] for b in batch]\n",
    "    input_ids = torch.Tensor(x)\n",
    "    label = torch.LongTensor([b[1] + [0] * (max_len-len(b[0])) for b in batch])\n",
    "    indexs = [b[2] for b in batch]\n",
    "    return input_ids, label, input_len, indexs\n",
    "\n",
    "train_dataset = MyDataSet(train_list)\n",
    "train_data_loader = torch.utils.data.DataLoader(\n",
    "    train_dataset,\n",
    "    batch_size=train_batch_size,\n",
    "    shuffle = True,\n",
    "    num_workers=data_workers,\n",
    "    collate_fn=the_collate_fn,\n",
    ")"
   ]
  },
  {
   "cell_type": "code",
   "execution_count": 8,
   "metadata": {
    "ExecuteTime": {
     "end_time": "2021-01-07T10:39:19.486597Z",
     "start_time": "2021-01-07T10:39:19.479567Z"
    },
    "code_folding": []
   },
   "outputs": [],
   "source": [
    "def argmax(vec):\n",
    "    # return the argmax as a python int\n",
    "    _, idx = torch.max(vec, 1)\n",
    "    return idx.item()\n",
    "\n",
    "# Compute log sum exp in a numerically stable way for the forward algorithm\n",
    "def log_sum_exp(vec):\n",
    "    max_score = vec[0, argmax(vec)]\n",
    "    max_score_broadcast = max_score.view(1, -1).expand(1, vec.size()[1])\n",
    "    return max_score + \\\n",
    "        torch.log(torch.sum(torch.exp(vec - max_score_broadcast)))"
   ]
  },
  {
   "cell_type": "code",
   "execution_count": 9,
   "metadata": {
    "ExecuteTime": {
     "end_time": "2021-01-07T10:39:20.871056Z",
     "start_time": "2021-01-07T10:39:20.817881Z"
    },
    "code_folding": [
     29
    ]
   },
   "outputs": [],
   "source": [
    "class BiLSTM_CRF(nn.Module):\n",
    "\n",
    "    def __init__(self, tag_to_ix, embedding_dim, hidden_dim):\n",
    "        super(BiLSTM_CRF, self).__init__()\n",
    "        self.embedding_dim = embedding_dim\n",
    "        self.hidden_dim = hidden_dim\n",
    "        self.tag_to_ix = tag_to_ix\n",
    "        self.tagset_size = len(tag_to_ix)\n",
    "\n",
    "        self.lstm = nn.LSTM(embedding_dim, hidden_dim // 2,\n",
    "                            num_layers=1, bidirectional=True, batch_first=True)\n",
    "        # Maps the output of the LSTM into tag space.\n",
    "        self.hidden2tag = nn.Linear(hidden_dim, self.tagset_size)\n",
    "\n",
    "        # Matrix of transition parameters.  Entry i,j is the score of\n",
    "        # transitioning *to* i *from* j.\n",
    "        self.transitions = nn.Parameter(\n",
    "            torch.randn(self.tagset_size, self.tagset_size).to(device))\n",
    "\n",
    "        # These two statements enforce the constraint that we never transfer\n",
    "        # to the start tag and we never transfer from the stop tag\n",
    "        self.transitions.data[tag_to_ix[START_TAG], :] = -10000\n",
    "        self.transitions.data[:, tag_to_ix[STOP_TAG]] = -10000\n",
    "        self.hidden = self.init_hidden(train_batch_size)\n",
    "\n",
    "    def init_hidden(self, batch_size):\n",
    "        return (torch.randn(2, batch_size, self.hidden_dim // 2).to(device),\n",
    "                torch.randn(2, batch_size, self.hidden_dim // 2).to(device))\n",
    "\n",
    "    def _forward_alg(self, feats, input_len):\n",
    "        # Do the forward algorithm to compute the partition function\n",
    "        init_alphas = torch.full((1, self.tagset_size), -10000.).to(device)\n",
    "        # START_TAG has all of the score.\n",
    "        init_alphas[0][self.tag_to_ix[START_TAG]] = 0.\n",
    "\n",
    "        # Wrap in a variable so that we will get automatic backprop\n",
    "        forward_var = init_alphas\n",
    "\n",
    "        # Iterate through the sentence\n",
    "        for i in range(input_len):\n",
    "            feat = feats[i]\n",
    "            alphas_t = []  # The forward tensors at this timestep\n",
    "            for next_tag in range(self.tagset_size):\n",
    "                # broadcast the emission score: it is the same regardless of\n",
    "                # the previous tag\n",
    "                emit_score = feat[next_tag].view(1, -1).expand(1, self.tagset_size)\n",
    "                # the ith entry of trans_score is the score of transitioning to\n",
    "                # next_tag from i\n",
    "                trans_score = self.transitions[next_tag].view(1, -1)\n",
    "                # The ith entry of next_tag_var is the value for the\n",
    "                # edge (i -> next_tag) before we do log-sum-exp\n",
    "                next_tag_var = forward_var + trans_score + emit_score\n",
    "                # The forward variable for this tag is log-sum-exp of all the\n",
    "                # scores.\n",
    "                alphas_t.append(log_sum_exp(next_tag_var).view(1))\n",
    "            forward_var = torch.cat(alphas_t).view(1, -1)\n",
    "        terminal_var = forward_var + self.transitions[self.tag_to_ix[STOP_TAG]]\n",
    "        alpha = log_sum_exp(terminal_var)\n",
    "        return alpha\n",
    "\n",
    "    def _get_lstm_features(self, sentence):\n",
    "        self.hidden = self.init_hidden(len(sentence))\n",
    "        embeds = sentence # sentence.view(len(sentence), 1, -1)\n",
    "        lstm_out, self.hidden = self.lstm(embeds, self.hidden)\n",
    "        #print(lstm_out.shape)\n",
    "        #lstm_out = lstm_out.view(len(sentence), self.hidden_dim)\n",
    "        lstm_feats = []\n",
    "        for f in lstm_out:\n",
    "            lstm_feats.append(self.hidden2tag(f))\n",
    "        return lstm_feats\n",
    "\n",
    "    def _score_sentence(self, feats, tags, input_len):\n",
    "        # Gives the score of a provided tag sequence\n",
    "        score = torch.zeros(1).to(device)\n",
    "        tags = torch.cat([torch.tensor([self.tag_to_ix[START_TAG]], dtype=torch.long).to(device), tags])\n",
    "        for i in range(input_len):\n",
    "            feat = feats[i]\n",
    "            score = score + self.transitions[tags[i + 1], tags[i]] + feat[tags[i + 1]]\n",
    "        score = score + self.transitions[self.tag_to_ix[STOP_TAG], tags[-1]]\n",
    "        return score\n",
    "\n",
    "    def _viterbi_decode(self, feats, input_len):\n",
    "        backpointers = []\n",
    "\n",
    "        # Initialize the viterbi variables in log space\n",
    "        init_vvars = torch.full((1, self.tagset_size), -10000.).to(device)\n",
    "        init_vvars[0][self.tag_to_ix[START_TAG]] = 0\n",
    "\n",
    "        # forward_var at step i holds the viterbi variables for step i-1\n",
    "        forward_var = init_vvars\n",
    "        for i in range(input_len):\n",
    "            feat = feats[i]\n",
    "            bptrs_t = []  # holds the backpointers for this step\n",
    "            viterbivars_t = []  # holds the viterbi variables for this step\n",
    "\n",
    "            for next_tag in range(self.tagset_size):\n",
    "                # next_tag_var[i] holds the viterbi variable for tag i at the\n",
    "                # previous step, plus the score of transitioning\n",
    "                # from tag i to next_tag.\n",
    "                # We don't include the emission scores here because the max\n",
    "                # does not depend on them (we add them in below)\n",
    "                next_tag_var = forward_var + self.transitions[next_tag]\n",
    "                best_tag_id = argmax(next_tag_var)\n",
    "                bptrs_t.append(best_tag_id)\n",
    "                viterbivars_t.append(next_tag_var[0][best_tag_id].view(1))\n",
    "            # Now add in the emission scores, and assign forward_var to the set\n",
    "            # of viterbi variables we just computed\n",
    "            forward_var = (torch.cat(viterbivars_t) + feat).view(1, -1)\n",
    "            backpointers.append(bptrs_t)\n",
    "\n",
    "        # Transition to STOP_TAG\n",
    "        terminal_var = forward_var + self.transitions[self.tag_to_ix[STOP_TAG]]\n",
    "        best_tag_id = argmax(terminal_var)\n",
    "        path_score = terminal_var[0][best_tag_id]\n",
    "\n",
    "        # Follow the back pointers to decode the best path.\n",
    "        best_path = [best_tag_id]\n",
    "        for bptrs_t in reversed(backpointers):\n",
    "            best_tag_id = bptrs_t[best_tag_id]\n",
    "            best_path.append(best_tag_id)\n",
    "        # Pop off the start tag (we dont want to return that to the caller)\n",
    "        start = best_path.pop()\n",
    "        assert start == self.tag_to_ix[START_TAG]  # Sanity check\n",
    "        best_path.reverse()\n",
    "        return path_score, best_path\n",
    "\n",
    "    def neg_log_likelihood(self, sentence, tags, input_len):\n",
    "        feats = self._get_lstm_features(sentence)\n",
    "        batch_size = len(sentence)\n",
    "        loss = None\n",
    "        for b in range(batch_size):\n",
    "            forward_score = self._forward_alg(feats[b], input_len[b])\n",
    "            gold_score = self._score_sentence(feats[b], tags[b], input_len[b])\n",
    "            batch_loss = forward_score - gold_score\n",
    "            if loss is None:\n",
    "                loss = batch_loss\n",
    "            else:\n",
    "                loss += batch_loss\n",
    "        loss = loss/batch_size\n",
    "        return loss\n",
    "\n",
    "    def forward(self, sentence, input_len):  # dont confuse this with _forward_alg above.\n",
    "        lstm_feats = self._get_lstm_features(sentence)\n",
    "        res_logits = []\n",
    "        batch_size = len(sentence)\n",
    "        for b in range(batch_size):\n",
    "            score, tag_seq = self._viterbi_decode(lstm_feats[b], input_len[b])\n",
    "            res_logits.append(tag_seq)\n",
    "        return res_logits"
   ]
  },
  {
   "cell_type": "code",
   "execution_count": 10,
   "metadata": {
    "ExecuteTime": {
     "end_time": "2021-01-07T10:39:22.017654Z",
     "start_time": "2021-01-07T10:39:22.013257Z"
    },
    "code_folding": []
   },
   "outputs": [],
   "source": [
    "# Make up some training data\n",
    "\n",
    "label2id[START_TAG] = len(labels)\n",
    "labels.append(START_TAG)\n",
    "label2id[STOP_TAG] = len(labels)\n",
    "labels.append(STOP_TAG)"
   ]
  },
  {
   "cell_type": "code",
   "execution_count": null,
   "metadata": {
    "ExecuteTime": {
     "start_time": "2021-01-02T11:19:37.615Z"
    },
    "code_folding": [],
    "scrolled": true
   },
   "outputs": [
    {
     "name": "stderr",
     "output_type": "stream",
     "text": [
      "\r",
      "  0%|          | 0/70 [00:00<?, ?it/s]"
     ]
    }
   ],
   "source": [
    "model = BiLSTM_CRF(label2id, EMBEDDING_DIM, HIDDEN_DIM)\n",
    "model.to(device)\n",
    "optimizer = optim.Adam(model.parameters(), lr=learning_rate, weight_decay=1e-4)\n",
    "\n",
    "# Check predictions before training\n",
    "# with torch.no_grad():\n",
    "#     precheck_sent = prepare_sequence(training_data[0][0], word_to_ix)\n",
    "#     precheck_tags = torch.tensor([tag_to_ix[t] for t in training_data[0][1]], dtype=torch.long)\n",
    "#     print(model(precheck_sent))\n",
    "\n",
    "# Make sure prepare_sequence from earlier in the LSTM section is loaded\n",
    "for epoch in range(max_train_epochs):  # again, normally you would NOT do 300 epochs, it is toy data\n",
    "    for sentence, tags, input_len, ids in tqdm(train_data_loader):\n",
    "        # Step 1. Remember that Pytorch accumulates gradients.\n",
    "        # We need to clear them out before each instance\n",
    "        model.zero_grad()\n",
    "        # Step 3. Run our forward pass.\n",
    "        sentence = sentence.to(device)\n",
    "        tags = tags.to(device)\n",
    "        loss = model.neg_log_likelihood(sentence, tags, input_len)\n",
    "        # Step 4. Compute the loss, gradients, and update the parameters by\n",
    "        # calling optimizer.step()\n",
    "        loss.backward()\n",
    "        optimizer.step()"
   ]
  }
 ],
 "metadata": {
  "kernelspec": {
   "display_name": "Python 3",
   "language": "python",
   "name": "python3"
  },
  "language_info": {
   "codemirror_mode": {
    "name": "ipython",
    "version": 3
   },
   "file_extension": ".py",
   "mimetype": "text/x-python",
   "name": "python",
   "nbconvert_exporter": "python",
   "pygments_lexer": "ipython3",
   "version": "3.8.1"
  },
  "toc": {
   "base_numbering": 1,
   "nav_menu": {},
   "number_sections": true,
   "sideBar": false,
   "skip_h1_title": false,
   "title_cell": "Table of Contents",
   "title_sidebar": "Contents",
   "toc_cell": false,
   "toc_position": {
    "height": "735px",
    "left": "10px",
    "top": "150px",
    "width": "222.391px"
   },
   "toc_section_display": true,
   "toc_window_display": true
  }
 },
 "nbformat": 4,
 "nbformat_minor": 4
}
