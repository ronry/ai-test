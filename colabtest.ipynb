{
  "nbformat": 4,
  "nbformat_minor": 0,
  "metadata": {
    "colab": {
      "provenance": [],
      "authorship_tag": "ABX9TyPOktu1A78xxTJ0BlBXRnkh"
    },
    "kernelspec": {
      "name": "python3",
      "display_name": "Python 3"
    },
    "language_info": {
      "name": "python"
    },
    "accelerator": "GPU",
    "gpuClass": "standard"
  },
  "cells": [
    {
      "cell_type": "markdown",
      "source": [
        "检查硬件型号"
      ],
      "metadata": {
        "id": "RPiPK7WJSaD5"
      }
    },
    {
      "cell_type": "code",
      "source": [
        "!nvidia-smi"
      ],
      "metadata": {
        "id": "SXDvmDagSdlY"
      },
      "execution_count": null,
      "outputs": []
    },
    {
      "cell_type": "markdown",
      "source": [
        ":环境准备2222"
      ],
      "metadata": {
        "id": "UILZIOFQKCpp"
      }
    },
    {
      "cell_type": "code",
      "execution_count": null,
      "metadata": {
        "colab": {
          "base_uri": "https://localhost:8080/"
        },
        "id": "VmoziykiIKWg",
        "outputId": "61d29929-2e6f-41de-c4ed-da75634b5a6b"
      },
      "outputs": [
        {
          "output_type": "stream",
          "name": "stdout",
          "text": [
            "Cloning into 'stable-diffusion-webui'...\n",
            "remote: Enumerating objects: 17106, done.\u001b[K\n",
            "remote: Counting objects: 100% (1/1), done.\u001b[K\n",
            "remote: Total 17106 (delta 0), reused 1 (delta 0), pack-reused 17105\u001b[K\n",
            "Receiving objects: 100% (17106/17106), 27.84 MiB | 37.12 MiB/s, done.\n",
            "Resolving deltas: 100% (11953/11953), done.\n",
            "/content/stable-diffusion-webui/extensions\n",
            "--2023-03-15 02:48:14--  https://huggingface.co/SakerLy/chilloutmix_NiPrunedFp32Fix/resolve/main/chilloutmix_NiPrunedFp32Fix.safetensors\n",
            "Resolving huggingface.co (huggingface.co)... 52.72.82.160, 23.23.168.37, 18.215.84.205, ...\n",
            "Connecting to huggingface.co (huggingface.co)|52.72.82.160|:443... connected.\n",
            "HTTP request sent, awaiting response... 302 Found\n",
            "Location: https://cdn-lfs.huggingface.co/repos/d9/fb/d9fbecac7bcdab2a897dd2e2306fe148cd06cec45416a2b4a843d64f147cc12e/fc2511737a54c5e80b89ab03e0ab4b98d051ab187f92860f3cd664dc9d08b271?response-content-disposition=attachment%3B+filename*%3DUTF-8%27%27chilloutmix_NiPrunedFp32Fix.safetensors%3B+filename%3D%22chilloutmix_NiPrunedFp32Fix.safetensors%22%3B&Expires=1679102715&Policy=eyJTdGF0ZW1lbnQiOlt7IlJlc291cmNlIjoiaHR0cHM6Ly9jZG4tbGZzLmh1Z2dpbmdmYWNlLmNvL3JlcG9zL2Q5L2ZiL2Q5ZmJlY2FjN2JjZGFiMmE4OTdkZDJlMjMwNmZlMTQ4Y2QwNmNlYzQ1NDE2YTJiNGE4NDNkNjRmMTQ3Y2MxMmUvZmMyNTExNzM3YTU0YzVlODBiODlhYjAzZTBhYjRiOThkMDUxYWIxODdmOTI4NjBmM2NkNjY0ZGM5ZDA4YjI3MT9yZXNwb25zZS1jb250ZW50LWRpc3Bvc2l0aW9uPSoiLCJDb25kaXRpb24iOnsiRGF0ZUxlc3NUaGFuIjp7IkFXUzpFcG9jaFRpbWUiOjE2NzkxMDI3MTV9fX1dfQ__&Signature=qf4BxT3dnM9Its%7E2qA0cdTIj4Q4QBE2tFtG0PLruhlD5jdAMlZzE3TxiCaM%7E0Ud%7EqbD3UY3glRu7tetzf0%7EMSSInSa6whApKfplQJs3wif6rfXTTkw9Ho0f5cwB35JZUuSvmgkrrZpJULCy1qU%7E5mv1BQqmmLyJg1kPNSaWU%7EPnaPlyoHDtLRtLEuwFjtXiVVG7C3qmYjn6vPo5n%7ER1M-QSUn2AlggmJddOba%7EtoqMhNPy4xa5g32ckIdqayPfbwcInv385Hiyhfox4NkdBLN-Kuup9ki4vcHJOm9OuMmajBwyNnhZ0qGvxUgVXoaSbDEmwaTVeTeMjeAcM9OKd0ng__&Key-Pair-Id=KVTP0A1DKRTAX [following]\n",
            "--2023-03-15 02:48:15--  https://cdn-lfs.huggingface.co/repos/d9/fb/d9fbecac7bcdab2a897dd2e2306fe148cd06cec45416a2b4a843d64f147cc12e/fc2511737a54c5e80b89ab03e0ab4b98d051ab187f92860f3cd664dc9d08b271?response-content-disposition=attachment%3B+filename*%3DUTF-8%27%27chilloutmix_NiPrunedFp32Fix.safetensors%3B+filename%3D%22chilloutmix_NiPrunedFp32Fix.safetensors%22%3B&Expires=1679102715&Policy=eyJTdGF0ZW1lbnQiOlt7IlJlc291cmNlIjoiaHR0cHM6Ly9jZG4tbGZzLmh1Z2dpbmdmYWNlLmNvL3JlcG9zL2Q5L2ZiL2Q5ZmJlY2FjN2JjZGFiMmE4OTdkZDJlMjMwNmZlMTQ4Y2QwNmNlYzQ1NDE2YTJiNGE4NDNkNjRmMTQ3Y2MxMmUvZmMyNTExNzM3YTU0YzVlODBiODlhYjAzZTBhYjRiOThkMDUxYWIxODdmOTI4NjBmM2NkNjY0ZGM5ZDA4YjI3MT9yZXNwb25zZS1jb250ZW50LWRpc3Bvc2l0aW9uPSoiLCJDb25kaXRpb24iOnsiRGF0ZUxlc3NUaGFuIjp7IkFXUzpFcG9jaFRpbWUiOjE2NzkxMDI3MTV9fX1dfQ__&Signature=qf4BxT3dnM9Its%7E2qA0cdTIj4Q4QBE2tFtG0PLruhlD5jdAMlZzE3TxiCaM%7E0Ud%7EqbD3UY3glRu7tetzf0%7EMSSInSa6whApKfplQJs3wif6rfXTTkw9Ho0f5cwB35JZUuSvmgkrrZpJULCy1qU%7E5mv1BQqmmLyJg1kPNSaWU%7EPnaPlyoHDtLRtLEuwFjtXiVVG7C3qmYjn6vPo5n%7ER1M-QSUn2AlggmJddOba%7EtoqMhNPy4xa5g32ckIdqayPfbwcInv385Hiyhfox4NkdBLN-Kuup9ki4vcHJOm9OuMmajBwyNnhZ0qGvxUgVXoaSbDEmwaTVeTeMjeAcM9OKd0ng__&Key-Pair-Id=KVTP0A1DKRTAX\n",
            "Resolving cdn-lfs.huggingface.co (cdn-lfs.huggingface.co)... 54.230.18.98, 54.230.18.124, 54.230.18.111, ...\n",
            "Connecting to cdn-lfs.huggingface.co (cdn-lfs.huggingface.co)|54.230.18.98|:443... connected.\n",
            "HTTP request sent, awaiting response... 200 OK\n",
            "Length: 4265097179 (4.0G) [binary/octet-stream]\n",
            "Saving to: ‘/content/stable-diffusion-webui/models/Stable-diffusion/chilloutmix_NiPrunedFp32Fix.safetensors’\n",
            "\n",
            "/content/stable-dif 100%[===================>]   3.97G  91.1MB/s    in 46s     \n",
            "\n",
            "2023-03-15 02:49:01 (87.5 MB/s) - ‘/content/stable-diffusion-webui/models/Stable-diffusion/chilloutmix_NiPrunedFp32Fix.safetensors’ saved [4265097179/4265097179]\n",
            "\n",
            "--2023-03-15 02:49:01--  https://huggingface.co/stabilityai/sd-vae-ft-mse-original/resolve/main/vae-ft-mse-840000-ema-pruned.safetensors\n",
            "Resolving huggingface.co (huggingface.co)... 52.203.75.138, 23.20.50.97, 52.206.49.12, ...\n",
            "Connecting to huggingface.co (huggingface.co)|52.203.75.138|:443... connected.\n",
            "HTTP request sent, awaiting response... 302 Found\n",
            "Location: https://cdn-lfs.huggingface.co/repos/ec/ee/eceee26c5834d8a75cf04eeb17dfc06d1d5fe1d80c2f19520b148c11e2e98c45/735e4c3a447a3255760d7f86845f09f937809baa529c17370d83e4c3758f3c75?response-content-disposition=attachment%3B+filename*%3DUTF-8%27%27vae-ft-mse-840000-ema-pruned.safetensors%3B+filename%3D%22vae-ft-mse-840000-ema-pruned.safetensors%22%3B&Expires=1679106424&Policy=eyJTdGF0ZW1lbnQiOlt7IlJlc291cmNlIjoiaHR0cHM6Ly9jZG4tbGZzLmh1Z2dpbmdmYWNlLmNvL3JlcG9zL2VjL2VlL2VjZWVlMjZjNTgzNGQ4YTc1Y2YwNGVlYjE3ZGZjMDZkMWQ1ZmUxZDgwYzJmMTk1MjBiMTQ4YzExZTJlOThjNDUvNzM1ZTRjM2E0NDdhMzI1NTc2MGQ3Zjg2ODQ1ZjA5ZjkzNzgwOWJhYTUyOWMxNzM3MGQ4M2U0YzM3NThmM2M3NT9yZXNwb25zZS1jb250ZW50LWRpc3Bvc2l0aW9uPSoiLCJDb25kaXRpb24iOnsiRGF0ZUxlc3NUaGFuIjp7IkFXUzpFcG9jaFRpbWUiOjE2NzkxMDY0MjR9fX1dfQ__&Signature=W1et1zeKV1EOqzgTktvDo-EzuOn4nXp4I0e78ICPBNrCbqvE7UhwmaBcc8FzpT414MeujU27mxs-242QZSUZHzpXjj3MtV39MI0cfr87Jh7am-2-njMHiAa%7ECt0Do2IKlihVPhaGqhgh8c-fAxO1c-gXFMbQSsUGgb9CpTQd-GcFgzW7rcgK4kFrPICYnY-TxkZ7wFCoA6O078WziK--3R2CECxXjFkao7ap6inc8B6yGyeO2XJUEpU5NOh2xl0nADsbSTie6pstU-ZVGmF%7EdVlw81hOsSGS65lbxQWmUENE0UCrr8Ulr%7E30HBihYappes8dzkaGV2INpSdfup33Eg__&Key-Pair-Id=KVTP0A1DKRTAX [following]\n",
            "--2023-03-15 02:49:02--  https://cdn-lfs.huggingface.co/repos/ec/ee/eceee26c5834d8a75cf04eeb17dfc06d1d5fe1d80c2f19520b148c11e2e98c45/735e4c3a447a3255760d7f86845f09f937809baa529c17370d83e4c3758f3c75?response-content-disposition=attachment%3B+filename*%3DUTF-8%27%27vae-ft-mse-840000-ema-pruned.safetensors%3B+filename%3D%22vae-ft-mse-840000-ema-pruned.safetensors%22%3B&Expires=1679106424&Policy=eyJTdGF0ZW1lbnQiOlt7IlJlc291cmNlIjoiaHR0cHM6Ly9jZG4tbGZzLmh1Z2dpbmdmYWNlLmNvL3JlcG9zL2VjL2VlL2VjZWVlMjZjNTgzNGQ4YTc1Y2YwNGVlYjE3ZGZjMDZkMWQ1ZmUxZDgwYzJmMTk1MjBiMTQ4YzExZTJlOThjNDUvNzM1ZTRjM2E0NDdhMzI1NTc2MGQ3Zjg2ODQ1ZjA5ZjkzNzgwOWJhYTUyOWMxNzM3MGQ4M2U0YzM3NThmM2M3NT9yZXNwb25zZS1jb250ZW50LWRpc3Bvc2l0aW9uPSoiLCJDb25kaXRpb24iOnsiRGF0ZUxlc3NUaGFuIjp7IkFXUzpFcG9jaFRpbWUiOjE2NzkxMDY0MjR9fX1dfQ__&Signature=W1et1zeKV1EOqzgTktvDo-EzuOn4nXp4I0e78ICPBNrCbqvE7UhwmaBcc8FzpT414MeujU27mxs-242QZSUZHzpXjj3MtV39MI0cfr87Jh7am-2-njMHiAa%7ECt0Do2IKlihVPhaGqhgh8c-fAxO1c-gXFMbQSsUGgb9CpTQd-GcFgzW7rcgK4kFrPICYnY-TxkZ7wFCoA6O078WziK--3R2CECxXjFkao7ap6inc8B6yGyeO2XJUEpU5NOh2xl0nADsbSTie6pstU-ZVGmF%7EdVlw81hOsSGS65lbxQWmUENE0UCrr8Ulr%7E30HBihYappes8dzkaGV2INpSdfup33Eg__&Key-Pair-Id=KVTP0A1DKRTAX\n",
            "Resolving cdn-lfs.huggingface.co (cdn-lfs.huggingface.co)... 13.249.85.23, 13.249.85.116, 13.249.85.12, ...\n",
            "Connecting to cdn-lfs.huggingface.co (cdn-lfs.huggingface.co)|13.249.85.23|:443... connected.\n",
            "HTTP request sent, awaiting response... 200 OK\n",
            "Length: 334641190 (319M) [binary/octet-stream]\n",
            "Saving to: ‘/content/stable-diffusion-webui/models/VAE/vae-ft-mse-840000-ema-pruned.safetensorsvae-ft-mse-840000-ema-pruned.safetensors’\n",
            "\n",
            "/content/stable-dif 100%[===================>] 319.14M   231MB/s    in 1.4s    \n",
            "\n",
            "2023-03-15 02:49:03 (231 MB/s) - ‘/content/stable-diffusion-webui/models/VAE/vae-ft-mse-840000-ema-pruned.safetensorsvae-ft-mse-840000-ema-pruned.safetensors’ saved [334641190/334641190]\n",
            "\n"
          ]
        }
      ],
      "source": [
        "!git clone https://github.com/AUTOMATIC1111/stable-diffusion-webui\n",
        "%cd /content/stable-diffusion-webui/extensions\n",
        "!wget https://huggingface.co/SakerLy/chilloutmix_NiPrunedFp32Fix/resolve/main/chilloutmix_NiPrunedFp32Fix.safetensors -O /content/stable-diffusion-webui/models/Stable-diffusion/chilloutmix_NiPrunedFp32Fix.safetensors\n",
        "!wget https://huggingface.co/stabilityai/sd-vae-ft-mse-original/resolve/main/vae-ft-mse-840000-ema-pruned.safetensors -O /content/stable-diffusion-webui/models/VAE/vae-ft-mse-840000-ema-pruned.safetensorsvae-ft-mse-840000-ema-pruned.safetensors"
      ]
    },
    {
      "cell_type": "markdown",
      "source": [
        "启动命令"
      ],
      "metadata": {
        "id": "cVTTigwNKBoc"
      }
    },
    {
      "cell_type": "code",
      "source": [
        "%cd /content/stable-diffusion-webui\n",
        "!python launch.py --share --xformers --enable-insecure-extension-access"
      ],
      "metadata": {
        "colab": {
          "base_uri": "https://localhost:8080/"
        },
        "id": "P92kFrMMKRI4",
        "outputId": "74a764bb-60c9-4d25-fad2-122f4598a126"
      },
      "execution_count": null,
      "outputs": [
        {
          "metadata": {
            "tags": null
          },
          "name": "stdout",
          "output_type": "stream",
          "text": [
            "/content/stable-diffusion-webui\n",
            "Python 3.9.16 (main, Dec  7 2022, 01:11:51) \n",
            "[GCC 9.4.0]\n",
            "Commit hash: a9fed7c364061ae6efb37f797b6b522cb3cf7aa2\n",
            "Installing gfpgan\n",
            "Installing clip\n",
            "Installing open_clip\n",
            "Installing xformers\n",
            "Cloning Stable Diffusion into /content/stable-diffusion-webui/repositories/stable-diffusion-stability-ai...\n",
            "Cloning Taming Transformers into /content/stable-diffusion-webui/repositories/taming-transformers...\n",
            "Cloning K-diffusion into /content/stable-diffusion-webui/repositories/k-diffusion...\n",
            "Cloning CodeFormer into /content/stable-diffusion-webui/repositories/CodeFormer...\n",
            "Cloning BLIP into /content/stable-diffusion-webui/repositories/BLIP...\n",
            "Installing requirements for CodeFormer\n",
            "Installing requirements for Web UI\n",
            "Launching Web UI with arguments: --share --xformers --enable-insecure-extension-access\n",
            "2023-03-15 02:52:20.646325: I tensorflow/core/platform/cpu_feature_guard.cc:193] This TensorFlow binary is optimized with oneAPI Deep Neural Network Library (oneDNN) to use the following CPU instructions in performance-critical operations:  AVX2 FMA\n",
            "To enable them in other operations, rebuild TensorFlow with the appropriate compiler flags.\n",
            "2023-03-15 02:52:22.654006: W tensorflow/compiler/xla/stream_executor/platform/default/dso_loader.cc:64] Could not load dynamic library 'libnvinfer.so.7'; dlerror: libnvinfer.so.7: cannot open shared object file: No such file or directory; LD_LIBRARY_PATH: /usr/lib64-nvidia\n",
            "2023-03-15 02:52:22.654165: W tensorflow/compiler/xla/stream_executor/platform/default/dso_loader.cc:64] Could not load dynamic library 'libnvinfer_plugin.so.7'; dlerror: libnvinfer_plugin.so.7: cannot open shared object file: No such file or directory; LD_LIBRARY_PATH: /usr/lib64-nvidia\n",
            "2023-03-15 02:52:22.654190: W tensorflow/compiler/tf2tensorrt/utils/py_utils.cc:38] TF-TRT Warning: Cannot dlopen some TensorRT libraries. If you would like to use Nvidia GPU with TensorRT, please make sure the missing libraries mentioned above are installed properly.\n",
            "Calculating sha256 for /content/stable-diffusion-webui/models/Stable-diffusion/chilloutmix_NiPrunedFp32Fix.safetensors: fc2511737a54c5e80b89ab03e0ab4b98d051ab187f92860f3cd664dc9d08b271\n",
            "Loading weights [fc2511737a] from /content/stable-diffusion-webui/models/Stable-diffusion/chilloutmix_NiPrunedFp32Fix.safetensors\n",
            "Creating model from config: /content/stable-diffusion-webui/configs/v1-inference.yaml\n",
            "LatentDiffusion: Running in eps-prediction mode\n",
            "DiffusionWrapper has 859.52 M params.\n",
            "Downloading (…)olve/main/vocab.json: 100% 961k/961k [00:00<00:00, 2.29MB/s]\n",
            "Downloading (…)olve/main/merges.txt: 100% 525k/525k [00:00<00:00, 4.43MB/s]\n",
            "Downloading (…)cial_tokens_map.json: 100% 389/389 [00:00<00:00, 151kB/s]\n",
            "Downloading (…)okenizer_config.json: 100% 905/905 [00:00<00:00, 362kB/s]\n",
            "Downloading (…)lve/main/config.json: 100% 4.52k/4.52k [00:00<00:00, 553kB/s]\n",
            "Applying xformers cross attention optimization.\n",
            "Textual inversion embeddings loaded(0): \n",
            "Model loaded in 43.5s (calculate hash: 26.1s, create model: 3.1s, apply weights to model: 5.4s, apply half(): 1.2s, load VAE: 7.0s, move model to device: 0.6s).\n",
            "Running on local URL:  http://127.0.0.1:7860\n",
            "Running on public URL: https://7e28f401-ff74-45af.gradio.live\n",
            "\n",
            "This share link expires in 72 hours. For free permanent hosting and GPU upgrades (NEW!), check out Spaces: https://huggingface.co/spaces\n",
            "Startup time: 59.4s (import gradio: 3.0s, import ldm: 4.0s, other imports: 2.9s, setup codeformer: 0.2s, load scripts: 0.6s, load SD checkpoint: 43.6s, create ui: 0.3s, gradio launch: 4.8s).\n",
            "  0% 0/20 [00:00<?, ?it/s]\n",
            "  5% 1/20 [00:07<02:18,  7.28s/it]\n",
            " 15% 3/20 [00:07<00:29,  1.75s/it]\n",
            " 20% 4/20 [00:07<00:17,  1.12s/it]\n",
            " 25% 5/20 [00:07<00:11,  1.29it/s]\n",
            " 30% 6/20 [00:08<00:07,  1.77it/s]\n",
            " 35% 7/20 [00:08<00:05,  2.32it/s]\n",
            " 40% 8/20 [00:08<00:04,  2.90it/s]\n",
            " 45% 9/20 [00:08<00:03,  3.49it/s]\n",
            " 50% 10/20 [00:08<00:02,  4.06it/s]\n",
            " 55% 11/20 [00:08<00:01,  4.58it/s]\n",
            " 60% 12/20 [00:09<00:01,  4.99it/s]\n",
            " 65% 13/20 [00:09<00:01,  5.33it/s]\n",
            " 70% 14/20 [00:09<00:01,  5.59it/s]\n",
            " 75% 15/20 [00:09<00:00,  5.79it/s]\n",
            " 80% 16/20 [00:09<00:00,  5.95it/s]\n",
            " 85% 17/20 [00:09<00:00,  6.04it/s]\n",
            " 90% 18/20 [00:09<00:00,  6.09it/s]\n",
            " 95% 19/20 [00:10<00:00,  6.04it/s]\n",
            "100% 20/20 [00:10<00:00,  1.94it/s]\n",
            "\n",
            "Total progress: 100% 20/20 [00:08<00:00,  2.50it/s]\n",
            "Closing server running on port: 7860\n",
            "Restarting UI...\n",
            "[AddNet] Updating model hashes...\n",
            "0it [00:00, ?it/s]\n",
            "[AddNet] Updating model hashes...\n",
            "0it [00:00, ?it/s]\n",
            "Running on local URL:  http://127.0.0.1:7860\n",
            "Running on public URL: https://fb26d032-346b-4e3a.gradio.live\n",
            "\n",
            "This share link expires in 72 hours. For free permanent hosting and GPU upgrades (NEW!), check out Spaces: https://huggingface.co/spaces\n",
            "Startup time: 4.4s (list extensions: 0.4s, load scripts: 0.3s, create ui: 0.2s, gradio launch: 3.5s).\n"
          ]
        }
      ]
    }
  ]
}